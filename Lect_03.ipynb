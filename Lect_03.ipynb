{
 "cells": [
  {
   "cell_type": "markdown",
   "metadata": {},
   "source": [
    "# Machine Learning: Intro to Deep Learning (numpy only)"
   ]
  },
  {
   "cell_type": "markdown",
   "metadata": {},
   "source": [
    "**Table of Contents**\n",
    "1. [Perceptron](#an)\n",
    "2. [Multi-Layer Perceptron (MLP)](#ann)\n",
    "3. [Convolutional Networks](#cnn)\n",
    "4. [Recurrent Networks](#rnn)"
   ]
  },
  {
   "cell_type": "markdown",
   "metadata": {},
   "source": [
    "## 1. <a class=\"anchor\" id=\"an\">Perceptron</a>"
   ]
  },
  {
   "cell_type": "markdown",
   "metadata": {},
   "source": [
    "In this section, let $\\mathcal{D} = \\{(\\mathbf{x}_i \\in \\mathbb{R}^d, y_i \\in \\{0, 1\\})\\}_{i=1}^n$ be our training dataset. The samples are **i.i.d**."
   ]
  },
  {
   "cell_type": "markdown",
   "metadata": {},
   "source": [
    "### 1.1 Definition"
   ]
  },
  {
   "cell_type": "markdown",
   "metadata": {},
   "source": [
    "The **Perceptron** is a binary classification model, introduced by [F. Rosemblatt](https://en.wikipedia.org/wiki/Frank_Rosenblatt) in the late 50's."
   ]
  },
  {
   "cell_type": "markdown",
   "metadata": {},
   "source": [
    "> The prediction function of the perceptron is \n",
    "$$\n",
    "\\mathbf{x} \\mapsto f(\\mathbf{x}; \\theta=\\{\\mathbf{w}, b\\}) = \n",
    "\\begin{cases}\n",
    "1 & \\text{if } \\langle \\mathbf{x}, \\mathbf{w} \\rangle + b > 0, \\\\\n",
    "0 & \\text{otherwise}.\n",
    "\\end{cases}\n",
    "$$"
   ]
  },
  {
   "cell_type": "markdown",
   "metadata": {},
   "source": [
    "The following figure gives a representation of the Perceptron as an **Artificial Neuron**. "
   ]
  },
  {
   "cell_type": "markdown",
   "metadata": {},
   "source": [
    "<img src=\"images/perceptron.png\" width=\"70%\">"
   ]
  },
  {
   "cell_type": "markdown",
   "metadata": {},
   "source": [
    "Notice that the **activation function** can be any *non-linear* function. Example of basic activation functions\n",
    "- the **threshold** function (used by the standard Perceptron):\n",
    "$$\n",
    "    x \\mapsto  \\begin{cases}\n",
    "        1 & \\text{if } x > 0 \\\\\n",
    "        0 & \\text{otherwise}.\n",
    "    \\end{cases}\n",
    "$$\n",
    "\n",
    "- the **sigmoid** function (used by the Logistic Regression):\n",
    "$$\n",
    " x \\mapsto \\frac{1}{1 + \\exp(-x)},\n",
    "$$\n",
    "\n",
    "- the **tanh** (hyperbolic tangent) function:\n",
    "$$\n",
    " x \\mapsto \\frac{\\exp(2x) -1}{\\exp(2x) + 1}.\n",
    "$$"
   ]
  },
  {
   "cell_type": "markdown",
   "metadata": {},
   "source": [
    "### 1.2 Perceptron learning rule"
   ]
  },
  {
   "cell_type": "markdown",
   "metadata": {},
   "source": [
    "#### 1.2.1 Update Rule"
   ]
  },
  {
   "cell_type": "markdown",
   "metadata": {},
   "source": [
    "For simplicity, let's change our inputs and add a $1$ in the first dimension, that is $\\mathbf{x} = [1, x_1, \\cdots, x_d]$ and $\\mathbf{w} = [b, w_1, \\cdots, w_d]$.\n",
    "\n",
    "The Perceptron update rule of our parameter vector $\\mathbf{w}$, for a training sample $(\\mathbf{x}_i, y_i)$, is given by\n",
    "\n",
    "$$\n",
    "\\mathbf{w} = \\mathbf{w} + \\eta  \\big(y_i -  f(\\mathbf{x}_i; \\theta) \\big)\\mathbf{x}_i = \n",
    "\\begin{cases}\n",
    "        \\mathbf{w}  & \\text{if } y_i =  f(\\mathbf{x}_i; \\theta) \\\\\n",
    "        \\mathbf{w} + \\eta \\mathbf{x}_i & \\text{if } y_i = 1 \\text{ and } f(\\mathbf{x}_i; \\theta) = 0\\\\\n",
    "        \\mathbf{w} - \\eta \\mathbf{x}_i & \\text{if } y_i = 0 \\text{ and } f(\\mathbf{x}_i; \\theta) = 1\\\\\n",
    "    \\end{cases}\n",
    "$$\n",
    "\n",
    "where $\\eta$ is the learning rate.\n",
    ">Generaly, $\\eta = 1$ for the Perceptron."
   ]
  },
  {
   "cell_type": "markdown",
   "metadata": {},
   "source": [
    "#### 1.2.2 Interpretation of the Update Rule"
   ]
  },
  {
   "cell_type": "markdown",
   "metadata": {},
   "source": [
    "In the Perceptron update rule, notice that\n",
    "- if $ y_i = 1 \\text{ and } f(\\mathbf{x}_i; \\theta) = 0$, that is $\\langle \\mathbf{x}, \\mathbf{w} \\rangle < 0$ *i.e.* the $\\cos(\\angle (\\mathbf{x}_i, \\mathbf{w} )) < 0$, therefore we need to decrease the angle. And, by using the rule $\\mathbf{w}_{new} = \\mathbf{w} + \\eta \\mathbf{x}_i$, we get\n",
    "\n",
    "$$\\cos(\\angle (\\mathbf{x}_i, \\mathbf{w}_{new} )) \\sim \\langle \\mathbf{x}, \\mathbf{w}_{new} \\rangle = \\langle \\mathbf{x}_i, \\mathbf{w} \\rangle + \\eta\\langle \\mathbf{x}_i, \\mathbf{x}_i \\rangle >  \\langle \\mathbf{x}_i, \\mathbf{w} \\rangle  \\sim \\cos(\\angle (\\mathbf{x}_i, \\mathbf{w} )),  $$\n",
    "\n",
    "- similarly if $ y_i = 0 \\text{ and } f(\\mathbf{x}_i; \\theta) = 1$,   then $\\cos(\\angle (\\mathbf{x}_i, \\mathbf{w} )) > 0$, therefore we need to increase the angle. And, by using the rule $\\mathbf{w}_{new} = \\mathbf{w} - \\eta \\mathbf{x}_i$, we get \n",
    "\n",
    "$$\\cos(\\angle (\\mathbf{x}_i, \\mathbf{w}_{new} ))  \\sim \\langle \\mathbf{x}, \\mathbf{w}_{new} \\rangle = \\langle \\mathbf{x}_i, \\mathbf{w} \\rangle - \\eta\\langle \\mathbf{x}_i, \\mathbf{x}_i \\rangle <  \\langle \\mathbf{x}_i, \\mathbf{w} \\rangle  \\sim \\cos(\\angle (\\mathbf{x}_i, \\mathbf{w} )).  $$\n"
   ]
  },
  {
   "cell_type": "markdown",
   "metadata": {},
   "source": [
    "#### 1.2.3 Cost function"
   ]
  },
  {
   "cell_type": "markdown",
   "metadata": {},
   "source": [
    "The cost function is defined as\n",
    "$$\n",
    "\\mathcal{L}(\\theta) = \\frac{1}{2n} \\sum_{i=1}^n \\big(y_i - f(\\mathbf{x}_i; \\theta)\\big)^2.\n",
    "$$"
   ]
  },
  {
   "cell_type": "markdown",
   "metadata": {},
   "source": [
    "### 1.3 Coding our Perceptron Model"
   ]
  },
  {
   "cell_type": "markdown",
   "metadata": {},
   "source": [
    "#### 1.3.1 Designing the model"
   ]
  },
  {
   "cell_type": "code",
   "execution_count": 73,
   "metadata": {},
   "outputs": [],
   "source": [
    "import numpy as np\n",
    "class MyPerceptron:\n",
    "    def __init__(self, n_iter, lr=1):\n",
    "        self.n_iter = n_iter\n",
    "        self.lr = lr\n",
    "    \n",
    "        self.losses = []\n",
    "        self.grads = []\n",
    "        \n",
    "    def init_params(self, n_feats):\n",
    "        self.w = np.zeros((1, n_feats))\n",
    "        self.b = 0.\n",
    "    \n",
    "    def _optimize(self, X, y):\n",
    "        m = X.shape[0]\n",
    "\n",
    "        # cost function \n",
    "        preds = np.squeeze(self.activation(X))\n",
    "        distances = np.squeeze(preds != y)\n",
    "        cost = np.mean(distances)\n",
    "        \n",
    "        \"\"\"\n",
    "        # computing the rules (for loop version )\n",
    "        dw = 0; db = 0\n",
    "        for i in range(len(X)): \n",
    "            if distances[i]:\n",
    "                if preds[i] == 0 and y[i] ==1:\n",
    "                    dw += -(1/m)*X[i,:] \n",
    "                    db += -(1/m)\n",
    "                elif preds[i] == 1 and y[i] ==0:\n",
    "                    dw += (1/m)*X[i,:]\n",
    "                    db += (1/m)\n",
    "        \"\"\"\n",
    "        # computing the rules (vectorized version)\n",
    "        dw = (1/m)*np.dot(preds - y, X)\n",
    "        db = (1/m)*np.sum(preds - y)\n",
    "        \n",
    "        grads = {\"dLdw\": dw, \"dLdb\": db}\n",
    "\n",
    "        return grads, cost\n",
    "\n",
    "    def activation(self, X):  \n",
    "        \"\"\"\n",
    "            Compute the Sigmoid activation on the dataset\n",
    "            \n",
    "            X: (np-array) shape=(n_samples x n_feats)\n",
    "                data matrix \n",
    "        \"\"\"          \n",
    "        return np.dot(self.w, X.T) + self.b > 0\n",
    "    \n",
    "    def fit(self, X, y):\n",
    "        \"\"\"\n",
    "            Training the model\n",
    "            \n",
    "            X: (np-array) shape=(n_samples x n_feats)\n",
    "                data matrix\n",
    "            y: (np-array) shape=( n_samples)\n",
    "                targets \n",
    "        \"\"\"\n",
    "        \n",
    "        self.init_params(X.shape[1])\n",
    "        \n",
    "        for i in range(self.n_iter):\n",
    "            grads, cost = self._optimize(X, y)\n",
    "            #\n",
    "            dLdw = grads['dLdw']\n",
    "            dLdb = grads['dLdb']\n",
    "            \n",
    "            # gradient descent\n",
    "            self.w = self.w - self.lr * dLdw\n",
    "            self.b = self.b - self.lr * dLdb\n",
    "            \n",
    "            self.losses.append(cost)\n",
    "            self.grads.append(grads)\n",
    "            #if (i % 10 == 0):\n",
    "            #    print(\"Standard Perceptron: Iter {}, Cost {}\".format(i, cost))\n",
    "            \n",
    "        print(\"Standard Perceptron: Iter {}, Cost {}\".format(i, cost))\n",
    "    \n",
    "    def predict(self, X):\n",
    "        \"\"\"\n",
    "            Predicting the discrete labels\n",
    "            \n",
    "            X: (np-array) shape=(n_samples x n_feats)\n",
    "                data matrix \n",
    "        \"\"\"\n",
    "        return self.activation(X)\n",
    "        \n",
    "    \n",
    "    def score(self, X, y): \n",
    "        \"\"\"\n",
    "            computing the accuracy of the model\n",
    "            \n",
    "            X: (np-array) shape=(n_samples x n_feats)\n",
    "                data matrix \n",
    "        \"\"\"\n",
    "        pred = self.predict(X)\n",
    "        return (pred == y).mean()\n"
   ]
  },
  {
   "cell_type": "markdown",
   "metadata": {},
   "source": [
    "#### 1.3.2 Testing the model"
   ]
  },
  {
   "cell_type": "code",
   "execution_count": 74,
   "metadata": {},
   "outputs": [],
   "source": [
    "import numpy as np\n",
    "import matplotlib.pyplot as plt \n",
    "from sklearn.datasets import make_classification\n",
    "\n",
    "# we create 200 separable points\n",
    "X, y = make_classification(n_samples=200, n_features=2, n_redundant=0, n_informative=2,\n",
    "                           random_state=0, n_clusters_per_class=2, class_sep=2.0)\n",
    "\n",
    "def print_decision(X, y, clf, title=\"Decision Boundary\"):\n",
    "    plt.figure()\n",
    "    h = .02\n",
    "    x_min, x_max = X[:, 0].min() - .5, X[:, 0].max() + .5\n",
    "    y_min, y_max = X[:, 1].min() - .5, X[:, 1].max() + .5\n",
    "    xx, yy = np.meshgrid(np.arange(x_min, x_max, h),\n",
    "                         np.arange(y_min, y_max, h))\n",
    "\n",
    "    Z = clf.predict(np.c_[xx.ravel(), yy.ravel()])\n",
    "    Z = Z.reshape(xx.shape)\n",
    "\n",
    "    ax = plt.subplot(111)\n",
    "    ax.contourf(xx, yy, Z, alpha=.8)\n",
    "    plt.scatter(X[:, 0], X[:, 1], c=y, edgecolors='black', s=25) \n",
    "    plt.title(title)"
   ]
  },
  {
   "cell_type": "code",
   "execution_count": 75,
   "metadata": {},
   "outputs": [
    {
     "name": "stdout",
     "output_type": "stream",
     "text": [
      "Standard Perceptron: Iter 99, Cost 0.0\n"
     ]
    },
    {
     "data": {
      "image/png": "[encoded data removed]",
      "text/plain": [
       "<Figure size 432x288 with 1 Axes>"
      ]
     },
     "metadata": {
      "needs_background": "light"
     },
     "output_type": "display_data"
    }
   ],
   "source": [
    "my_clf = MyPerceptron(n_iter=100, lr=1.)\n",
    "my_clf.fit(X, y)\n",
    "print_decision(X, y,  my_clf, \"Decision Boundary of our Perceptron model\")"
   ]
  },
  {
   "cell_type": "code",
   "execution_count": 131,
   "metadata": {},
   "outputs": [
    {
     "data": {
      "image/png": "[encoded data removed]",
      "text/plain": [
       "<Figure size 432x288 with 1 Axes>"
      ]
     },
     "metadata": {
      "needs_background": "light"
     },
     "output_type": "display_data"
    }
   ],
   "source": [
    "rand_points = np.random.randn(10, 2)\n",
    "print_decision(rand_points, np.ones(10), my_clf, \"Boundary on random samples\")"
   ]
  },
  {
   "cell_type": "markdown",
   "metadata": {},
   "source": [
    "## 2. <a class=\"anchor\" id=\"ann\" >Feed-Forward models</a>"
   ]
  },
  {
   "cell_type": "markdown",
   "metadata": {},
   "source": [
    "In this section, let $\\mathcal{D} = \\{(\\mathbf{x}_i \\in \\mathbb{R}^d,  y \\in \\mathbb{T})\\}_{i=1}^n$ be our training dataset. The samples are **i.i.d**.\n",
    "- For classification tasks $\\mathbb{T} = \\{0, \\cdots, C-1\\}$, where $C$ is number of classes\n",
    "- And, for regression tasks $\\mathbb{T} = \\mathbb{R}$"
   ]
  },
  {
   "cell_type": "markdown",
   "metadata": {},
   "source": [
    "### 2.1. Definition\n"
   ]
  },
  {
   "cell_type": "markdown",
   "metadata": {},
   "source": [
    "#### 2.1.1 Basic idea"
   ]
  },
  {
   "cell_type": "markdown",
   "metadata": {},
   "source": [
    "We have seen the Artificial Neuron (the Perceptron), and now we need to connect it to other neurons.\n",
    "> Just like in nature neurons are interconnected to each other to obtain a complex network."
   ]
  },
  {
   "cell_type": "markdown",
   "metadata": {},
   "source": [
    "In this section, we will use a **feed-forward** representation to create our network:\n",
    "- the artificial neurons are packed in **layers**\n",
    "- each layer contains a certain number of neurons that do not interact with each other\n",
    "- layers are concatened hierarchically (a layer is connected to a previous and next one)\n",
    "- a neuron in a layer takes as input all the outputs of the previous layer"
   ]
  },
  {
   "cell_type": "markdown",
   "metadata": {},
   "source": [
    "This representation is known as the **multi-layer perceptron (MLP)** or simple the **artificial neural network (ANN)**.\n",
    "\n",
    "The figure below illustrates a basic MLP (with 2 layers)."
   ]
  },
  {
   "cell_type": "markdown",
   "metadata": {},
   "source": [
    "<img src=\"images/ann0.png\" width=\"70%\">"
   ]
  },
  {
   "cell_type": "markdown",
   "metadata": {},
   "source": [
    "#### 2.1.2 Formal definition"
   ]
  },
  {
   "cell_type": "markdown",
   "metadata": {},
   "source": [
    "A feed-forward neural network $f(\\cdot; \\theta)$ is a **directed acyclic graph**, parametrized by $\\theta$, \n",
    "that \n",
    "- applies a series of transformation to an input $\\mathbf{x} \\in \\mathbb{R}^d$, layer-wise, \n",
    "- without recursion, \n",
    "\n",
    "to produce an output $\\mathbf{y} = f(\\mathbf{x}, \\theta) \\in \\mathbb{R}^C$ , as depicted in below.\n"
   ]
  },
  {
   "cell_type": "markdown",
   "metadata": {},
   "source": [
    "<img src=\"images/layer_wise_fnn.png\" width=\"60%\" />"
   ]
  },
  {
   "cell_type": "markdown",
   "metadata": {},
   "source": [
    "Given a $K$ layer network -- here the input is not considered as a layer --, the $k$-th layer is characterized by a function\n",
    "$f_k$ parametrized by $\\theta_k$. \n",
    "In other words, \n",
    "> $f(\\mathbf{x}, \\theta) = f_K(\\dots f_2(f_1(\\mathbf{x}; \\theta_1); \\theta_2) \\dots; \\theta_K), \\quad \\forall \\mathbf{x} \\in \\mathcal{I}$."
   ]
  },
  {
   "cell_type": "markdown",
   "metadata": {},
   "source": [
    "The $f_k$'s are of the form \n",
    "> $\n",
    " f_k(\\mathbf{z}_{k-1}; \\theta_k) = \\mathbf{z}_k = \\sigma_k(\\mathbf{q}_{k-1}) = \\sigma_k(\\mathbf{W}_k\\mathbf{z}_{k-1} + \\mathbf{b}_k),\n",
    "$\n",
    "\n",
    "where \n",
    "- $\\theta_k = \\{\\mathbf{W}_k, \\mathbf{b}_k\\}$,\n",
    "- $\\mathbf{W}_k \\in \\mathbb{R}^{h_k\\times h_{k-1}}$ is known as the **weight matrix**, \n",
    "- $\\mathbf{b}_k \\in \\mathbb{R}^{h_k}$ is the **bias vector**, \n",
    "- $\\mathbf{z}_k \\in \\mathbb{R}^{h_k}$ is the output of the $k$-th layer, \n",
    "- $h_k$ is the dimension (the number of neurons) of the $k$-th layer, \n",
    "- $\\sigma_k$ is a point-wise operator known as **activation function** of the layer, \n",
    "- and $\\mathbf{q}_k$ is the **pre-activation vector**."
   ]
  },
  {
   "cell_type": "markdown",
   "metadata": {},
   "source": [
    "The figure below gives another illustration on the interaction between two layers."
   ]
  },
  {
   "cell_type": "markdown",
   "metadata": {},
   "source": [
    "<img src=\"images/ann1.png\" width=\"60%\">"
   ]
  },
  {
   "cell_type": "markdown",
   "metadata": {},
   "source": [
    "In the previous section, we have seen three activation functions. \n",
    "Here are additional examples used in ANN:  \n",
    "- **softmax**:  $\\mathbf{t} \\in \\mathbb{R}^C  \\mapsto [\\dots, \\frac{\\exp(\\mathbf{x}[i])}{\\sum_{j=1}^C \\exp(\\mathbf{x}[j])}, \\dots]$,\n",
    "- **ReLU**:  $x \\mapsto \\max(0,x)$ (The Rectified Linear Unit ), \n",
    "- **PReLU**:  $x \\mapsto \\max(0,x) + a \\min(0, x)$ (Parametric ReLU, with parameter $a$),\n",
    "- **ELU**:  $x \\mapsto \\max(0,x) + a \\min(0, \\exp(x) -1)$ (Exponential Linear Unit, with parameter $a$)."
   ]
  },
  {
   "cell_type": "markdown",
   "metadata": {},
   "source": [
    "> Note that, \n",
    "- differentiables activations (sigmoid, softmax, tanh) are prefered on an output layer,\n",
    "- *linear unit* based are prefered on hidden layers."
   ]
  },
  {
   "cell_type": "code",
   "execution_count": 27,
   "metadata": {},
   "outputs": [
    {
     "data": {
      "image/png": "[encoded data removed]",
      "text/plain": [
       "<Figure size 720x720 with 4 Axes>"
      ]
     },
     "metadata": {
      "needs_background": "light"
     },
     "output_type": "display_data"
    }
   ],
   "source": [
    "import numpy as np\n",
    "import pylab as plt\n",
    "\n",
    "sigmoid = lambda t : 1./(1. + np.exp(-t))\n",
    "tanh = lambda t : (np.exp(2*t) - 1.)/(np.exp(2*t) + 1. )\n",
    "relu = lambda t : np.maximum(0, t)\n",
    "prelu = lambda t, a : np.maximum(0, t) + a *np.minimum(0, t)\n",
    "elu = lambda t, a : np.maximum(0, t) + a * np.minimum(0, np.exp(t) -1)\n",
    "\n",
    "xs = np.linspace(-5, 5, 100)\n",
    "\n",
    "plt.figure(figsize=(10,10))\n",
    "\n",
    "plt.subplot(221)\n",
    "plt.plot(xs, sigmoid(xs))\n",
    "plt.title('Sigmoid')\n",
    "\n",
    "plt.subplot(222)\n",
    "plt.plot(xs, relu(xs))\n",
    "plt.title('ReLU')\n",
    "\n",
    "plt.subplot(223)\n",
    "plt.plot(xs, prelu(xs, 0.1))\n",
    "plt.title('PReLU')\n",
    "\n",
    "plt.subplot(224)\n",
    "plt.plot(xs, elu(xs, 0.1))\n",
    "plt.title('ELU')\n",
    "\n",
    "plt.show()"
   ]
  },
  {
   "cell_type": "markdown",
   "metadata": {},
   "source": [
    "#### 2.1.3 Example"
   ]
  },
  {
   "cell_type": "markdown",
   "metadata": {},
   "source": [
    "Illustration of a complete ANN which \n",
    "- takes $9$-dimensional vectors as inputs,\n",
    "- has $2$ hidden layers: the first layer has $4$ neurons, and the second has $2$,\n",
    "- outputs a single real number.\n",
    "\n",
    ">This architecture can be used, on $9$-dimensional, for\n",
    "- classification into two class,\n",
    "- regression."
   ]
  },
  {
   "cell_type": "markdown",
   "metadata": {},
   "source": [
    "<img src=\"images/ann2.png\" width=\"60%\">"
   ]
  },
  {
   "cell_type": "markdown",
   "metadata": {},
   "source": [
    "### 2.2. Loss function"
   ]
  },
  {
   "cell_type": "markdown",
   "metadata": {},
   "source": [
    "Various loss functions are used to train ANNs.\n",
    "Depending on the tasks, a certain may be prefered to others.\n",
    "\n",
    "> In this subsection, we will use an ANN of $K$ layers. "
   ]
  },
  {
   "cell_type": "markdown",
   "metadata": {},
   "source": [
    "#### 2.2.1 Euclidian loss"
   ]
  },
  {
   "cell_type": "markdown",
   "metadata": {},
   "source": [
    "The Euclidian loss can be used for almost any task (classification and regression)."
   ]
  },
  {
   "cell_type": "markdown",
   "metadata": {},
   "source": [
    "> The Euclidian loss averages the **Euclidian distances** ($\\ell_2$-norms) between targets and predictions.  $\\mathcal{L}$ is \n",
    "$$\n",
    "\\mathcal{L}(\\theta) = \\frac{1}{2n} \\sum_{i=1}^n \\|\\mathbf{y}_i - f(\\mathbf{x}_i; \\theta)\\|_2^2 =  \\frac{1}{2n} \\|\\mathbf{Y} - f(\\mathbf{X}; \\theta)\\|_F^2,\n",
    "$$\n",
    "where $\\mathbf{Y} = [\\mathbf{y}_1, \\cdots, \\mathbf{y}_n]$, $\\mathbf{X} = [\\mathbf{x}_1, \\cdots, \\mathbf{x}_n]$, and $f(\\mathbf{X}; \\theta) = [f(\\mathbf{x}_1; \\theta), \\cdots, f(\\mathbf{x}_n; \\theta)]$."
   ]
  },
  {
   "cell_type": "markdown",
   "metadata": {},
   "source": [
    "> The gradients of $\\mathcal{L}$ w.r.t the $c$-th weight vector of the last layer, $ \\mathbf{W}_K[c, \\cdot] = \\mathbf{w}_K^{(c)}$, are\n",
    "$$\n",
    "\\nabla_{\\mathbf{w}_K^{(c)}} \\mathcal{L} (\\theta) = -\\frac{1}{n} \\sum_{i=1}^n \\big(\\mathbf{y}_i -  f(\\mathbf{x}_i; \\theta) \\big) \\nabla_{\\mathbf{w}_K^{(c)}} f(\\mathbf{x}_i; \\theta).\n",
    "$$ "
   ]
  },
  {
   "cell_type": "markdown",
   "metadata": {},
   "source": [
    "#### 2.2.2 Cross-Entropy (Negative Log-likelihood)"
   ]
  },
  {
   "cell_type": "markdown",
   "metadata": {},
   "source": [
    "The cross-entropy assumes that\n",
    "- the targets are binary $\\{0, 1\\}$,\n",
    "- the activation of the final layer is a Sigmoid."
   ]
  },
  {
   "cell_type": "markdown",
   "metadata": {},
   "source": [
    "The complete derivation of the negative log-likelihood is given in the *Binary Logistic Regression* section of the [previous lecture](Lect_02.ipynb#blr-loss)."
   ]
  },
  {
   "cell_type": "markdown",
   "metadata": {},
   "source": [
    "> The cross-entropy loss, $\\mathcal{L}$, is defined as \n",
    "$$\n",
    "\\mathcal{L}(\\theta) = - \\frac{1}{n}\\sum_{i=1}^n y_i \\log f(\\mathbf{x}_i; \\theta) + (1-y_i) \\log (1 - f(\\mathbf{x}_i; \\theta)).\n",
    "$$"
   ]
  },
  {
   "cell_type": "markdown",
   "metadata": {},
   "source": [
    "#### 2.2.3 Softmax Loss"
   ]
  },
  {
   "cell_type": "markdown",
   "metadata": {},
   "source": [
    "The softmax loss assumes that\n",
    "- the targets belongs to $\\{0, C-1\\}$, where $C$ is the number of classes,\n",
    "- the activation of the final layer is a Softmax,\n",
    "- $f(\\mathbf{x}; \\theta) \\in \\mathbb{R}^C$, where $f(\\mathbf{x}; \\theta)[k]$ is the probability of belonging to the $k$-th class."
   ]
  },
  {
   "cell_type": "markdown",
   "metadata": {},
   "source": [
    "The complete derivation of the Softmax loss (*a.k.a* the multinomial logistic regression loss) is given in the *Multiclass Logistic Regression* section of the [previous lecture](Lect_02.ipynb#blr-loss)."
   ]
  },
  {
   "cell_type": "markdown",
   "metadata": {},
   "source": [
    "> The Softmax loss, $\\mathcal{L}$, is defined as \n",
    "$$ \\mathcal{L}(\\theta) = - \\sum_{k=1}^C {\\mathbb{1}\\{y=k\\}} \\log f(\\mathbf{x}; \\theta) [k].$$"
   ]
  },
  {
   "cell_type": "markdown",
   "metadata": {},
   "source": [
    "### 2.2 Back-propagation"
   ]
  },
  {
   "cell_type": "markdown",
   "metadata": {},
   "source": [
    "### 2.3. Improving the Gradient Descent algorithm"
   ]
  },
  {
   "cell_type": "markdown",
   "metadata": {},
   "source": [
    "### 2.4 Example "
   ]
  },
  {
   "cell_type": "markdown",
   "metadata": {},
   "source": [
    "## 3. <a class=\"anchor\" id=\"cnn\">Convolutional Models</a>"
   ]
  },
  {
   "cell_type": "markdown",
   "metadata": {},
   "source": [
    "## 4. Recurrent Models"
   ]
  }
 ],
 "metadata": {
  "kernelspec": {
   "display_name": "Python 3",
   "language": "python",
   "name": "python3"
  },
  "language_info": {
   "codemirror_mode": {
    "name": "ipython",
    "version": 3
   },
   "file_extension": ".py",
   "mimetype": "text/x-python",
   "name": "python",
   "nbconvert_exporter": "python",
   "pygments_lexer": "ipython3",
   "version": "3.7.6"
  }
 },
 "nbformat": 4,
 "nbformat_minor": 2
}
