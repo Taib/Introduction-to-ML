{
 "cells": [
  {
   "cell_type": "markdown",
   "metadata": {},
   "source": [
    "# Machine Learning: Basic concepts "
   ]
  },
  {
   "cell_type": "markdown",
   "metadata": {},
   "source": [
    "This lesson presents basic machine learning concepts. [@Taib](https://github.com/Taib)"
   ]
  },
  {
   "cell_type": "markdown",
   "metadata": {},
   "source": [
    "## 1. Prediction"
   ]
  },
  {
   "cell_type": "markdown",
   "metadata": {},
   "source": [
    "![Prediction function](images/prediction_function.png)"
   ]
  },
  {
   "cell_type": "markdown",
   "metadata": {},
   "source": [
    "- $x$ is the input\n",
    "- $y$ is the output\n",
    "- $f$ is a function parameterized by $\\theta$"
   ]
  },
  {
   "cell_type": "markdown",
   "metadata": {},
   "source": [
    "#### Learning Problem\n",
    "> How to choose $f$ and its set of parameter $\\theta$ such that $f(x; \\theta)$ is as \"**accurate**\" as possible ?"
   ]
  },
  {
   "cell_type": "markdown",
   "metadata": {},
   "source": [
    "### 1.1. d-dimentional Linear Regression as an example "
   ]
  },
  {
   "cell_type": "markdown",
   "metadata": {},
   "source": [
    "- $\\mathbf{x} \\in \\mathbb{R}^d$ and $y \\in \\mathbb{R}$\n",
    "\n",
    "\n",
    "1. We collect a set of tuples $\\mathcal{D} = \\{(\\mathbf{x}_i, y_i)\\}_{i=1}^n$, called the **dataset**\n",
    "2. We wish to find the hyperplane of best fit (line of best fit in higher dimension)"
   ]
  },
  {
   "cell_type": "markdown",
   "metadata": {},
   "source": [
    "> Here $f$ will be the function that maps each $\\mathbf{x}_i$ to its corresponding $y$. \n",
    "\n",
    "> And the set $\\theta$ will consist of two objects, *i.e* $ \\theta = \\{\\mathbf{w}, b\\}$, where $\\mathbf{w} \\in \\mathbb{R}^d$ and $b \\in \\mathbb{R}$"
   ]
  },
  {
   "cell_type": "markdown",
   "metadata": {},
   "source": [
    "Overall, $f$ is defined as follows\n",
    "$$\\mathbf{x} \\mapsto f(\\mathbf{x}; \\theta) = \\mathbf{w}^T \\mathbf{x} + b = \\langle[\\mathbf{w}^T, b], [\\mathbf{x}, 1]\\rangle = \\tilde{\\mathbf{w}}^T \\tilde{\\mathbf{x}}$$"
   ]
  },
  {
   "cell_type": "markdown",
   "metadata": {},
   "source": [
    "### 1.2. Other examples"
   ]
  },
  {
   "cell_type": "markdown",
   "metadata": {},
   "source": [
    "#### Simple-Image classification \n",
    "- The input, $\\mathbf{x}$ is an image (width x height)\n",
    "- The output gives the digit inside the image\n",
    "\n",
    "> Here, $f(\\mathbf{x}; \\theta) \\in \\{ 0, 1 \\}^{10}$\n",
    "\n",
    "> And, we take the **argmax** to obtain the output\n",
    "\n",
    "<img src=\"images/mnist_classif.png\" width=\"60%\" height=\"30%\"> "
   ]
  },
  {
   "cell_type": "markdown",
   "metadata": {},
   "source": [
    "#### Complex-Image classification\n",
    "- Similar to the previous task, but\n",
    "\n",
    "> Images much more complicated\n",
    "\n",
    "> Large number of classes\n",
    "\n",
    "<img src=\"images/imagenet_classif.png\" width=\"60%\" height=\"30%\"> "
   ]
  },
  {
   "cell_type": "markdown",
   "metadata": {},
   "source": [
    "#### Time-Series Forecasting \n",
    "- The input, $\\mathbf{x}$ is a vector of data in the past\n",
    "- The output gives a vector of forecasted data based on the past\n",
    "\n",
    "<img src=\"images/forecast-example.png\" width=\"60%\" height=\"30%\"> "
   ]
  },
  {
   "cell_type": "markdown",
   "metadata": {},
   "source": [
    "#### Image Segmentation \n",
    "- The input, $\\mathbf{x}$ is an image\n",
    "- The output gives a binary image with a label on each input pixel\n",
    "\n",
    "<img src=\"images/retina_seg.png\" width=\"60%\" height=\"30%\"> "
   ]
  },
  {
   "cell_type": "markdown",
   "metadata": {},
   "source": [
    "#### Image Detection and Localization \n",
    "- The input, $\\mathbf{x}$ is an image\n",
    "- The output gives a set of objects inside the input and their localization \n",
    "\n",
    "> For example,  $f(\\mathbf{x}; \\theta) \\in \\mathbb{R}^{B \\times C \\times 4 }$, where $C$ is the number of classes, $B$ is the number of boxes\n",
    "\n",
    "<img src=\"images/yolo_loc_detec.png\" width=\"60%\" height=\"30%\"> "
   ]
  },
  {
   "cell_type": "markdown",
   "metadata": {},
   "source": [
    "## 2. Learning paradigms"
   ]
  },
  {
   "cell_type": "markdown",
   "metadata": {},
   "source": [
    "<img src=\"images/Learning_paradigms.png\" width=\"90%\">"
   ]
  },
  {
   "cell_type": "markdown",
   "metadata": {},
   "source": [
    "#### Learning Problem\n",
    "> How to choose $f$ and its set of parameter $\\theta$ such that $f(x; \\theta)$ is as \"**accurate**\" as possible ?"
   ]
  },
  {
   "cell_type": "markdown",
   "metadata": {},
   "source": [
    "### 2.1 Supervised Learning"
   ]
  },
  {
   "cell_type": "markdown",
   "metadata": {},
   "source": [
    "Given a collected dataset $\\mathcal{D} = \\{(\\mathbf{x}_i, y_i\\}_{i=1}^n$, where\n",
    "- The $\\mathbf{x}_i$ are the inputs\n",
    "- The $y_i$'s are the **ground-truths** (the target) associated to the inputs $\\mathbf{x}_i$\n",
    "\n",
    "**The goal is to find a predictive function that is accurate on the above dataset** \n",
    "\n",
    "> Here, **accurate** means \n",
    "- $f(\\mathbf{x}_i; \\theta) \\approx y_i, \\quad \\forall (\\mathbf{x}_i, y_i) \\in \\mathcal{D}$ \n",
    "\n",
    "> Here, $f$ is choosen beforehand, and the goal is to **find the best set of parameters $\\theta$** that yields **accurate**  results.\n"
   ]
  },
  {
   "cell_type": "markdown",
   "metadata": {},
   "source": [
    "#### Example of classification\n",
    "<img src=\"images/classified_data.png\" width=\"60%\">"
   ]
  },
  {
   "cell_type": "markdown",
   "metadata": {},
   "source": [
    "#### Example of regression\n",
    "<img src=\"images/regressed_data.png\" width=\"60%\">"
   ]
  },
  {
   "cell_type": "markdown",
   "metadata": {},
   "source": [
    "### 2.2 Unsupervised Learning"
   ]
  },
  {
   "cell_type": "markdown",
   "metadata": {},
   "source": [
    "Given a collected dataset $\\mathcal{D} = \\{\\mathbf{x}_i\\}_{i=1}^n$, where\n",
    "- The $\\mathbf{x}_i$ are the inputs\n",
    "- No ground-truths\n",
    "\n",
    "**The goal can be:**\n",
    "- **to find a predictive function that best captures the distribution of the dataset**\n",
    "- **to find a function that best interprets the dataset**"
   ]
  },
  {
   "cell_type": "markdown",
   "metadata": {},
   "source": [
    "#### Example of clustering\n",
    "<img src=\"images/clustered_data.png\" width=\"60%\">"
   ]
  },
  {
   "cell_type": "markdown",
   "metadata": {},
   "source": [
    "### 2.3 Reinforcement Learning"
   ]
  },
  {
   "cell_type": "markdown",
   "metadata": {},
   "source": [
    "Let $\\mathcal{E}$ be an environment, we are given a mapping that each time it receives an input action it can return a **reward** and the next **state** of the environment.\n",
    "- The input dataset is, usually, not of fixed like in the previous learning paradigms\n",
    "- No ground-truths"
   ]
  },
  {
   "cell_type": "markdown",
   "metadata": {},
   "source": [
    "> The goal of reinforcement learning is to build an autonomous system (called the agent) that can be trained to take actions, based on the states of the environment (*i.e.* previous experiences), so as to maximize the cumulative reward. \n",
    "- **Find an action selection policy that can increase the reward more and more overtime.**"
   ]
  },
  {
   "cell_type": "markdown",
   "metadata": {},
   "source": [
    "<img src=\"images/reinforcement_learning.png\">"
   ]
  },
  {
   "cell_type": "markdown",
   "metadata": {},
   "source": [
    "## 3. Training paradigms  "
   ]
  },
  {
   "cell_type": "markdown",
   "metadata": {},
   "source": [
    "### 3.1. Dataset splitting"
   ]
  },
  {
   "cell_type": "markdown",
   "metadata": {},
   "source": [
    "The collected dataset, $\\mathcal{D}$, is splited into three folds.\n",
    "- A **training set**, $\\mathcal{T}_r$: used to find the \"best\" parameter set $\\theta$ given the prediction function $f$\n",
    "- A **validation set**, $\\mathcal{V}_a$ (*optional*): is, generally, used to monitor the training process and/or modify the function $f$\n",
    "- A **test set**, $\\mathcal{T}_e$: used to assess the final performance of the prediction function $f$\n",
    "\n",
    "> The splitting can either fixed or cycle across the entire set. The latter is called **cross-validation**\n",
    "\n",
    "> **For simplicity, if not explicitly stated otherwise, we will note $\\mathcal{D}$ as the training set $\\mathcal{T}_r$**"
   ]
  },
  {
   "cell_type": "markdown",
   "metadata": {},
   "source": [
    "<img src=\"images/training_splits.png\" width=\"60%\">"
   ]
  },
  {
   "cell_type": "markdown",
   "metadata": {},
   "source": [
    "### 3.2. Loss minimization\n"
   ]
  },
  {
   "cell_type": "markdown",
   "metadata": {},
   "source": [
    "#### Problem Formulation (supervised learning)\n",
    "$$\\underset{\\theta \\in \\Theta}{ \\text{ minimize } } \\Big[ \\mathcal{L}(\\theta) \\overset{def}{=} \\sum_{i=1}^n \\ell(f(\\mathbf{x}_i; \\theta), y_i) \\Big],$$\n",
    "where $n$ is the number of samples in the training set, $\\Theta$ is the parameters space, and $\\ell$ is a certain  **cost function**."
   ]
  },
  {
   "cell_type": "markdown",
   "metadata": {},
   "source": [
    "#### Problem Formulation (unsupervised learning)\n",
    "$$\\underset{\\theta \\in \\Theta}{ \\text{ minimize } } \\Big[ \\mathcal{L}(\\theta) \\overset{def}{=} \\sum_{i=1}^n \\ell(f(\\mathbf{x}_i; \\theta)) \\Big].$$"
   ]
  },
  {
   "cell_type": "markdown",
   "metadata": {},
   "source": [
    "#### Some cost functions\n",
    "\n",
    "Given an output $\\mathbf{z} \\in \\mathbb{R}^s$ and a ground-truth $\\mathbf{y} \\in \\mathbb{R}^s$, commonly used **cost functions** are:\n",
    "- **MSE**: $(\\mathbf{z}, \\mathbf{y}) \\mapsto \\|\\mathbf{z} - \\mathbf{y}\\|_2^2$, (Mean Squared Error), \n",
    "- **MAE**: $(\\mathbf{z}, \\mathbf{y}) \\mapsto \\|\\mathbf{z} - \\mathbf{y}\\|_1$, (Mean Absolute Error),\n",
    "- **CE**: $(\\mathbf{z}, \\mathbf{y}) \\mapsto - \\langle \\mathbf{y}, \\log\\mathbf{z} \\rangle = - \\sum_i \\mathbf{y}[i] \\log \\mathbf{z}[i] $, (Cross-entropy). "
   ]
  },
  {
   "cell_type": "markdown",
   "metadata": {},
   "source": [
    "### 3.3. Optimization\n"
   ]
  },
  {
   "cell_type": "markdown",
   "metadata": {},
   "source": [
    "#### 3.3.1 Least-Square closed form and Numpy tool"
   ]
  },
  {
   "cell_type": "markdown",
   "metadata": {},
   "source": [
    "Given the dataset $\\mathcal{D} = \\{(\\mathbf{x}_i, y_i)\\}_{i=1}^n$, the least-square problem is\n",
    "$$ \\underset{\\theta = \\{\\mathbf{w}\\}}{\\text{ minimize } } \\Big[\\sum_i \\|f(\\mathbf{x}_i; \\theta) - y_i\\|_2^2 =  \\|\\mathbf{w}^T\\mathbf{x}_i - y_i\\|_2^2 \\Big].$$\n",
    "And the matrix formulation is\n",
    "$$ \\underset{\\theta = \\{\\mathbf{w}\\}}{\\text{ minimize } }  \\mathcal{L}(\\theta) \\overset{def}{=} \\|\\mathbf{X}\\mathbf{w}  - \\mathbf{y}\\|_2^2,\n",
    "$$\n",
    "where $\\mathbf{X} = [\\mathbf{x}_1, \\cdots,\\mathbf{x}_n]^T \\in \\mathbb{R}^{n\\times d}$, and $\\mathbf{y} = [y_1, \\cdots, y_n]^T$.\n"
   ]
  },
  {
   "cell_type": "markdown",
   "metadata": {},
   "source": [
    "##### The closed form solution\n",
    "1. $\\nabla_{\\mathbf{w}} \\mathcal{L}(\\theta) = 2\\mathbf{X}^T(\\mathbf{X}\\mathbf{w} - \\mathbf{y})$\n",
    "2. $\\nabla_{\\mathbf{w}} \\mathcal{L}(\\theta) = 0 \\Rightarrow \\mathbf{X}^T\\mathbf{X}\\mathbf{w} = \\mathbf{X}^T\\mathbf{y} $"
   ]
  },
  {
   "cell_type": "code",
   "execution_count": 1,
   "metadata": {},
   "outputs": [
    {
     "name": "stdout",
     "output_type": "stream",
     "text": [
      "The data matrix: \n",
      " [[0. 1.]\n",
      " [1. 1.]\n",
      " [2. 1.]\n",
      " [3. 1.]]\n",
      "The obtained result:  0.9999999999999997 -0.949999999999999\n"
     ]
    }
   ],
   "source": [
    "# Solving the least-square problem in numpy\n",
    "\n",
    "import numpy as np\n",
    "\n",
    "# Fit a line, ``y = wx + b``, through some noisy data-points: \n",
    "x = np.array([0, 1, 2, 3])\n",
    "y = np.array([-1, 0.2, 0.9, 2.1])\n",
    "\n",
    "A = np.vstack([x, np.ones(len(x))]).T # vertical stack followed by a transposition.\n",
    "print(\"The data matrix: \\n\", A) \n",
    "w, b = np.linalg.lstsq(A, y, rcond=None)[0]\n",
    "print(\"The obtained result: \", w, b)"
   ]
  },
  {
   "cell_type": "code",
   "execution_count": 2,
   "metadata": {},
   "outputs": [
    {
     "data": {
      "text/plain": [
       "<matplotlib.legend.Legend at 0x1f4021f78c8>"
      ]
     },
     "execution_count": 2,
     "metadata": {},
     "output_type": "execute_result"
    },
    {
     "data": {
      "image/png": "[encoded data removed]",
      "text/plain": [
       "<Figure size 432x288 with 1 Axes>"
      ]
     },
     "metadata": {
      "needs_background": "light"
     },
     "output_type": "display_data"
    }
   ],
   "source": [
    "# Plotting the line of best fit\n",
    "\n",
    "import matplotlib.pyplot as plt\n",
    "plt.plot(x, y, 'o', label='Original data', markersize=10)\n",
    "plt.plot(x, w*x + b, 'r', label='Fitted line')\n",
    "plt.legend()"
   ]
  },
  {
   "cell_type": "markdown",
   "metadata": {},
   "source": [
    "#### 3.3.2 Gradient Descent "
   ]
  },
  {
   "cell_type": "markdown",
   "metadata": {},
   "source": [
    "\n",
    "Generally, not only is the optimization problem  in high dimension, $\\text{dim}(\\theta) > 10$, it is also non-convex. Therefore, $\\theta$ is updated iteratively based on first order information (the gradient) so as to reach a (local) minimum. \n",
    "\n",
    "Let $\\theta^t$ be the value of $\\theta$ at the $t$-th iteration, $\\theta^0$ being the initialization of the parameters,\n",
    "the update rule of the standard gradient descent  is as follows,\n",
    "> $\n",
    "\\theta^{t+1} \\leftarrow \\theta^{t} - \\eta \\nabla_{\\theta^{t}}\\mathcal{L}(\\theta^{t}) , \n",
    "$\n",
    "\n",
    "where $\\nabla_{\\theta} \\ell(\\theta)$ is the **gradient** of $\\ell$ w.r.t to $\\theta$, and $\\eta$ is the \n",
    "step-size also known as **learning rate**."
   ]
  },
  {
   "cell_type": "code",
   "execution_count": 3,
   "metadata": {},
   "outputs": [
    {
     "name": "stdout",
     "output_type": "stream",
     "text": [
      "The obtained result:  0.971198332936705 -0.8880697360278581\n"
     ]
    }
   ],
   "source": [
    "# Solving the least-square problem in numpy\n",
    "\n",
    "import numpy as np\n",
    "\n",
    "# Fit a line, ``y = wx + b``, through some noisy data-points: \n",
    "x = np.array([0, 1, 2, 3])\n",
    "y = np.array([-1, 0.2, 0.9, 2.1])\n",
    "\n",
    "def fit_lse(x, y):\n",
    "    lr = 0.1 # the learning rate\n",
    "    w = 1\n",
    "    b = 0\n",
    "    for i in range(20):\n",
    "        # initializing the gradiant w.r.t w and b\n",
    "        grad_w = 0. \n",
    "        grad_b = 0. \n",
    "        \n",
    "        # Going through the entire dataset\n",
    "        for _x, _y in zip(x, y):\n",
    "            # accumulating the gradient w.r.t w and b\n",
    "            grad_w += _x*(_x*w + b - _y) \n",
    "            grad_b += (_x*w + b - _y)\n",
    "        \n",
    "        # Gradient descent steps\n",
    "        w = w - lr*(grad_w)\n",
    "        b = b - lr*(grad_b)\n",
    "        \n",
    "    return w, b\n",
    "\n",
    "w, b = fit_lse(x, y)\n",
    "print(\"The obtained result: \", w, b)"
   ]
  },
  {
   "cell_type": "code",
   "execution_count": 4,
   "metadata": {},
   "outputs": [
    {
     "data": {
      "text/plain": [
       "<matplotlib.legend.Legend at 0x1f4022c7f48>"
      ]
     },
     "execution_count": 4,
     "metadata": {},
     "output_type": "execute_result"
    },
    {
     "data": {
      "image/png": "[encoded data removed]",
      "text/plain": [
       "<Figure size 432x288 with 1 Axes>"
      ]
     },
     "metadata": {
      "needs_background": "light"
     },
     "output_type": "display_data"
    }
   ],
   "source": [
    "# Plotting the line of best fit\n",
    "\n",
    "import matplotlib.pyplot as plt\n",
    "plt.plot(x, y, 'o', label='Original data', markersize=10)\n",
    "plt.plot(x, w*x + b, 'r', label='Fitted line')\n",
    "plt.legend()"
   ]
  },
  {
   "cell_type": "markdown",
   "metadata": {},
   "source": [
    "### 3.4 Fitting Scenarios"
   ]
  },
  {
   "cell_type": "markdown",
   "metadata": {},
   "source": [
    "- **Underfitting** occurs when our prediction function does no perform well both on the training set and the test set\n",
    "- **Overfitting** occurs when the prediction function is very good on the training set but performs poorly on the test set\n",
    "- **\"Correct\" fit** (the one we prefer) consists in having a prediction function that performs quite well on all the sets."
   ]
  },
  {
   "cell_type": "markdown",
   "metadata": {},
   "source": [
    "<img src=\"images/fitting.png\" width=\"70%\">"
   ]
  },
  {
   "cell_type": "code",
   "execution_count": null,
   "metadata": {},
   "outputs": [],
   "source": []
  }
 ],
 "metadata": {
  "kernelspec": {
   "display_name": "Python 3",
   "language": "python",
   "name": "python3"
  },
  "language_info": {
   "codemirror_mode": {
    "name": "ipython",
    "version": 3
   },
   "file_extension": ".py",
   "mimetype": "text/x-python",
   "name": "python",
   "nbconvert_exporter": "python",
   "pygments_lexer": "ipython3",
   "version": "3.7.6"
  }
 },
 "nbformat": 4,
 "nbformat_minor": 2
}
