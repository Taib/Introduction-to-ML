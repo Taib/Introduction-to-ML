{
 "cells": [
  {
   "cell_type": "markdown",
   "metadata": {},
   "source": [
    "# Machine Learning: CNN Architectures"
   ]
  },
  {
   "cell_type": "markdown",
   "metadata": {},
   "source": [
    "## Example of model combination \n",
    "\n",
    "1. ### Get the ResNet50 without the classification part (include_top = false)\n",
    "2. ### Create a new model that combine the ResNet50 with a simple model"
   ]
  },
  {
   "cell_type": "markdown",
   "metadata": {},
   "source": [
    "##### Imports"
   ]
  },
  {
   "cell_type": "code",
   "execution_count": null,
   "metadata": {
    "scrolled": true
   },
   "outputs": [],
   "source": [
    "import os\n",
    "import datetime\n",
    "import tensorflow as tf"
   ]
  },
  {
   "cell_type": "code",
   "execution_count": null,
   "metadata": {},
   "outputs": [],
   "source": [
    "import numpy as np\n",
    "import pylab as pl"
   ]
  },
  {
   "cell_type": "markdown",
   "metadata": {},
   "source": [
    "##### Downloading the ResNet50"
   ]
  },
  {
   "cell_type": "code",
   "execution_count": null,
   "metadata": {},
   "outputs": [],
   "source": [
    "base_model = tf.keras.applications.ResNet50(include_top=False, input_shape=(224, 224, 3))"
   ]
  },
  {
   "cell_type": "markdown",
   "metadata": {},
   "source": [
    "##### Creating some layers"
   ]
  },
  {
   "cell_type": "code",
   "execution_count": null,
   "metadata": {},
   "outputs": [],
   "source": [
    "l1 = tf.keras.layers.Conv2DTranspose(64, (3,3), activation=\"relu\", padding=\"same\", strides=2)\n",
    "l2 = tf.keras.layers.Conv2DTranspose(32, (3,3), activation=\"relu\", padding=\"same\", strides=2)\n",
    "l3 = tf.keras.layers.Conv2DTranspose(16, (3,3), activation=\"relu\", padding=\"same\", strides=2)\n",
    "l4 = tf.keras.layers.Conv2DTranspose(8, (3,3), activation=\"relu\", padding=\"same\", strides=2)\n",
    "l5 = tf.keras.layers.Conv2DTranspose(4, (3,3), activation=\"relu\", padding=\"same\", strides=2)\n",
    "out = tf.keras.layers.Conv2D(3, (3,3), activation=\"sigmoid\", padding=\"same\")"
   ]
  },
  {
   "cell_type": "markdown",
   "metadata": {},
   "source": [
    "##### Adding our layers on top of ResNet50"
   ]
  },
  {
   "cell_type": "code",
   "execution_count": null,
   "metadata": {},
   "outputs": [],
   "source": [
    "model = tf.keras.Sequential([\n",
    "    base_model,\n",
    "    l1,\n",
    "    l2,\n",
    "    l3,\n",
    "    l4,\n",
    "    l5,\n",
    "    out\n",
    "])"
   ]
  },
  {
   "cell_type": "markdown",
   "metadata": {},
   "source": [
    "##### Summary"
   ]
  },
  {
   "cell_type": "code",
   "execution_count": null,
   "metadata": {},
   "outputs": [],
   "source": [
    "model.summary()"
   ]
  },
  {
   "cell_type": "markdown",
   "metadata": {},
   "source": [
    "##### Example"
   ]
  },
  {
   "cell_type": "code",
   "execution_count": null,
   "metadata": {},
   "outputs": [],
   "source": []
  },
  {
   "cell_type": "code",
   "execution_count": null,
   "metadata": {},
   "outputs": [],
   "source": [
    "t = np.random.randn(1,224, 224, 3) # test input, 4 dimensions (bach_size = 1, width, height, channels = 3)\n",
    "o = model(t) # feed-forward with our custom model\n",
    "print(\"o.shape: \", o.shape) "
   ]
  },
  {
   "cell_type": "markdown",
   "metadata": {},
   "source": [
    "##### Downloading the dataset (already splitted into train and test)"
   ]
  },
  {
   "cell_type": "code",
   "execution_count": null,
   "metadata": {},
   "outputs": [],
   "source": [
    " (train_images, train_labels), (test_images, test_labels) = tf.keras.datasets.cifar100.load_data()"
   ]
  },
  {
   "cell_type": "code",
   "execution_count": null,
   "metadata": {},
   "outputs": [],
   "source": [
    "# image preprocessing\n",
    "NB_IMAGES_TO_USE = 1000\n",
    "\n",
    "train_images = train_images[:NB_IMAGES_TO_USE] / 255.0\n",
    "test_images = test_images[:NB_IMAGES_TO_USE]  / 255.0"
   ]
  },
  {
   "cell_type": "markdown",
   "metadata": {},
   "source": [
    "##### Generator"
   ]
  },
  {
   "cell_type": "code",
   "execution_count": null,
   "metadata": {},
   "outputs": [],
   "source": [
    "# Goes through the list of items in \"images\" \n",
    "# and return one value each time the function is called\n",
    "def generator(images):\n",
    "    while True:\n",
    "        for im in images:\n",
    "            im = tf.image.resize(im, (224, 224))\n",
    "            noised = im + np.random.normal(0., 0.1, im.shape)\n",
    "            noised = noised[np.newaxis]\n",
    "            yield noised, im[np.newaxis]"
   ]
  },
  {
   "cell_type": "code",
   "execution_count": null,
   "metadata": {},
   "outputs": [],
   "source": [
    "train_gen = generator(train_images)"
   ]
  },
  {
   "cell_type": "code",
   "execution_count": null,
   "metadata": {},
   "outputs": [],
   "source": [
    "# Adding an extra dimension \n",
    "print(\"Initial training set shape: \", train_images.shape)"
   ]
  },
  {
   "cell_type": "markdown",
   "metadata": {},
   "source": [
    "##### Training "
   ]
  },
  {
   "cell_type": "code",
   "execution_count": null,
   "metadata": {},
   "outputs": [],
   "source": [
    "tf.keras.models.load_model()"
   ]
  },
  {
   "cell_type": "code",
   "execution_count": null,
   "metadata": {},
   "outputs": [],
   "source": [
    "model.compile(loss=\"binary_crossentropy\", optimizer=\"adam\")"
   ]
  },
  {
   "cell_type": "code",
   "execution_count": null,
   "metadata": {},
   "outputs": [],
   "source": [
    "# define a folder to store the training data for monitoring\n",
    "logdir = os.path.join(\"combine_nets_logs\", datetime.datetime.now().strftime(\"%Y%m%d-%H%M%S\"))\n",
    "# give the previous folder to Tensorboard \n",
    "tensorboard_callback = tf.keras.callbacks.TensorBoard(logdir, histogram_freq=1)\n",
    "\n",
    "train_gen = generator(train_images)\n",
    "model.fit(train_gen, epochs=10, steps_per_epoch=20, callbacks=[tensorboard_callback])"
   ]
  },
  {
   "cell_type": "markdown",
   "metadata": {},
   "source": [
    "##### Testing"
   ]
  },
  {
   "cell_type": "code",
   "execution_count": null,
   "metadata": {},
   "outputs": [],
   "source": [
    "test_gen = generator(test_images)\n",
    "(test_im, test_gt) = next(test_gen)\n",
    "outputs = model.predict(test_im)\n",
    "pl.subplot(121)\n",
    "pl.imshow(np.squeeze(test_im))\n",
    "pl.subplot(122)\n",
    "pl.imshow(np.squeeze(outputs))"
   ]
  },
  {
   "cell_type": "code",
   "execution_count": null,
   "metadata": {},
   "outputs": [],
   "source": []
  }
 ],
 "metadata": {
  "kernelspec": {
   "display_name": "Python 3",
   "language": "python",
   "name": "python3"
  },
  "language_info": {
   "codemirror_mode": {
    "name": "ipython",
    "version": 3
   },
   "file_extension": ".py",
   "mimetype": "text/x-python",
   "name": "python",
   "nbconvert_exporter": "python",
   "pygments_lexer": "ipython3",
   "version": "3.6.9"
  }
 },
 "nbformat": 4,
 "nbformat_minor": 2
}
