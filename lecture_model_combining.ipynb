{
 "cells": [
  {
   "cell_type": "markdown",
   "metadata": {},
   "source": [
    "# Machine Learning: CNN Architectures"
   ]
  },
  {
   "cell_type": "markdown",
   "metadata": {},
   "source": [
    "## Example of model combination \n",
    "\n",
    "1. ### Get the ResNet50 without the classification part (include_top = false)\n",
    "2. ### Create a new model that combine the ResNet50 with a simple model"
   ]
  },
  {
   "cell_type": "markdown",
   "metadata": {},
   "source": [
    "Imports"
   ]
  },
  {
   "cell_type": "code",
   "execution_count": null,
   "metadata": {
    "scrolled": true
   },
   "outputs": [],
   "source": [
    "import os\n",
    "import datetime\n",
    "import tensorflow as tf"
   ]
  },
  {
   "cell_type": "markdown",
   "metadata": {},
   "source": [
    "Downloading the ResNet50"
   ]
  },
  {
   "cell_type": "code",
   "execution_count": null,
   "metadata": {},
   "outputs": [],
   "source": [
    "base_model = tf.keras.applications.ResNet50(include_top=False)"
   ]
  },
  {
   "cell_type": "markdown",
   "metadata": {},
   "source": [
    "Creating some layers"
   ]
  },
  {
   "cell_type": "code",
   "execution_count": null,
   "metadata": {},
   "outputs": [],
   "source": [
    "l1 = tf.keras.layers.Conv2DTranspose(64, (3,3), activation=\"relu\", padding=\"same\", strides=2)\n",
    "l2 = tf.keras.layers.Conv2DTranspose(32, (3,3), activation=\"relu\", padding=\"same\", strides=2)\n",
    "l3 = tf.keras.layers.Conv2DTranspose(16, (3,3), activation=\"relu\", padding=\"same\", strides=2)\n",
    "l4 = tf.keras.layers.Conv2DTranspose(8, (3,3), activation=\"relu\", padding=\"same\", strides=2)\n",
    "l5 = tf.keras.layers.Conv2DTranspose(4, (3,3), activation=\"relu\", padding=\"same\", strides=2)\n",
    "out = tf.keras.layers.Conv2D(3, (3,3), activation=\"sigmoid\", padding=\"same\")"
   ]
  },
  {
   "cell_type": "markdown",
   "metadata": {},
   "source": [
    "Adding our layers on top of ResNet50"
   ]
  },
  {
   "cell_type": "code",
   "execution_count": null,
   "metadata": {},
   "outputs": [],
   "source": [
    "model = tf.keras.Sequential([\n",
    "    base_model,\n",
    "    l1,\n",
    "    l2,\n",
    "    l3,\n",
    "    l4,\n",
    "    l5,\n",
    "    out\n",
    "])"
   ]
  },
  {
   "cell_type": "markdown",
   "metadata": {},
   "source": [
    "Summary"
   ]
  },
  {
   "cell_type": "code",
   "execution_count": null,
   "metadata": {},
   "outputs": [],
   "source": [
    "model.summary()"
   ]
  },
  {
   "cell_type": "markdown",
   "metadata": {},
   "source": [
    "Example"
   ]
  },
  {
   "cell_type": "code",
   "execution_count": null,
   "metadata": {},
   "outputs": [],
   "source": [
    "import numpy as np"
   ]
  },
  {
   "cell_type": "code",
   "execution_count": null,
   "metadata": {},
   "outputs": [],
   "source": [
    "t = np.random.randn(1,256, 256, 3) # test input, 4 dimensions (bach_size = 1, width, height, channels = 3)\n",
    "o = model(t) # feed-forward with our custom model\n",
    "print(\"o.shape: \", o.shape) "
   ]
  },
  {
   "cell_type": "code",
   "execution_count": null,
   "metadata": {},
   "outputs": [],
   "source": [
    " "
   ]
  }
 ],
 "metadata": {
  "kernelspec": {
   "display_name": "Python 3",
   "language": "python",
   "name": "python3"
  },
  "language_info": {
   "codemirror_mode": {
    "name": "ipython",
    "version": 3
   },
   "file_extension": ".py",
   "mimetype": "text/x-python",
   "name": "python",
   "nbconvert_exporter": "python",
   "pygments_lexer": "ipython3",
   "version": "3.6.9"
  }
 },
 "nbformat": 4,
 "nbformat_minor": 2
}
