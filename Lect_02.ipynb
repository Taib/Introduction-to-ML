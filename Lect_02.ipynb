{
 "cells": [
  {
   "cell_type": "markdown",
   "metadata": {},
   "source": [
    "# Machine Learning: No deep Learning"
   ]
  },
  {
   "cell_type": "markdown",
   "metadata": {},
   "source": [
    "## 1. Binary Logistic Regression"
   ]
  },
  {
   "cell_type": "markdown",
   "metadata": {},
   "source": [
    "In this section, let $\\mathcal{D} = \\{(\\mathbf{x}_i \\in \\mathbb{R}^d, y_i \\in \\{0, 1\\})\\}_{i=1}^n$ be our training dataset. The samples are **i.i.d**."
   ]
  },
  {
   "cell_type": "markdown",
   "metadata": {},
   "source": [
    "### 1.1 Formulation"
   ]
  },
  {
   "cell_type": "markdown",
   "metadata": {},
   "source": [
    "**Logistic Regression is a classification model where the prediction function is a sigmoid function.**\n",
    "> The prediction function is defined as: $$ \\mathbf{x} \\mapsto f(\\mathbf{x}; \\theta=\\{\\mathbf{w}, b\\}) = \\frac{1}{1 + exp( -( \\mathbf{x}^T\\mathbf{w} + b))}.$$"
   ]
  },
  {
   "cell_type": "code",
   "execution_count": 114,
   "metadata": {},
   "outputs": [
    {
     "data": {
      "text/plain": [
       "<matplotlib.legend.Legend at 0x1876554d248>"
      ]
     },
     "execution_count": 114,
     "metadata": {},
     "output_type": "execute_result"
    },
    {
     "data": {
      "image/png": "[encoded data removed]",
      "text/plain": [
       "<Figure size 432x288 with 1 Axes>"
      ]
     },
     "metadata": {
      "needs_background": "light"
     },
     "output_type": "display_data"
    }
   ],
   "source": [
    "# Plotting a sigmoid function\n",
    "import numpy as np\n",
    "import pylab as plt\n",
    "\n",
    "sigmoid = lambda t : 1./(1. + np.exp(-t))\n",
    "\n",
    "x_coords = np.linspace(-10, 10, 100) \n",
    "plt.plot(x_coords, sigmoid(x_coords))\n",
    "plt.legend([\"The Sigmoid function\"])"
   ]
  },
  {
   "cell_type": "markdown",
   "metadata": {},
   "source": [
    "### 1.2 The Log-Likelihood as loss function"
   ]
  },
  {
   "cell_type": "markdown",
   "metadata": {},
   "source": [
    "We will use a probabilistic interpretation of the sigmoid prediction function (as a **Bernouilli distribution**). Let $$\\begin{align} p(y=1 | \\mathbf{x}; \\theta) &= f(\\mathbf{x}; \\theta), \\\\ p(y=0 | \\mathbf{x}; \\theta) &= 1 - f(\\mathbf{x}; \\theta). \\end{align}$$"
   ]
  },
  {
   "cell_type": "markdown",
   "metadata": {},
   "source": [
    "Therefore, the **likelihood**, $L(\\theta)$, is defined as \n",
    "$$\n",
    "\\begin{align} \n",
    "    L(\\theta) = p(y | \\mathbf{x}; \\theta) &= f(\\mathbf{x}; \\theta)^y (1 - f(\\mathbf{x}; \\theta))^{(1-y)}, \\\\\n",
    "    &= \\Pi_{i=1}^n f(\\mathbf{x}_i; \\theta)^{y_i} (1 - f(\\mathbf{x}_i; \\theta))^{(1-y_i)}. \\\\\n",
    "\\end{align}\n",
    "$$"
   ]
  },
  {
   "cell_type": "markdown",
   "metadata": {},
   "source": [
    "\n",
    "The **Log-likelihood** is \n",
    "$$ \n",
    "\\begin{align} \n",
    "    \\log L(\\theta) &=  \\frac{1}{n}\\sum_{i=1}^n y_i \\log f(\\mathbf{x}_i; \\theta) + (1-y_i) \\log (1 - f(\\mathbf{x}_i; \\theta)), \\\\\n",
    "    %&= \\sum_{i=1}^n y_i \\log(\\exp(- (\\mathbf{x}_i^T \\mathbf{w} + b )) + 1) + (1 - y_i) \\log(\\exp(\\mathbf{x}_i^T \\mathbf{w} + b) + 1)\\\\\n",
    "\\end{align} \n",
    "$$"
   ]
  },
  {
   "cell_type": "markdown",
   "metadata": {},
   "source": [
    "The standard logistic regression loss function is therefore given by the **negative log-likelihood**\n",
    "$$\\mathcal{L}(\\theta) = - \\log L(\\theta).$$"
   ]
  },
  {
   "cell_type": "markdown",
   "metadata": {},
   "source": [
    "We now, need to compute the gradient of the loss w.r.t the parameters $(\\mathbf{w}, b)$."
   ]
  },
  {
   "cell_type": "markdown",
   "metadata": {},
   "source": [
    "$$\n",
    "\\begin{align}\n",
    "\\nabla_{\\mathbf{w}} \\mathcal{L}(\\theta) &= - \\sum_{i=1}^n y_i \\nabla_{\\mathbf{w}}  \\log f(\\mathbf{x}_i; \\theta) + (1-y_i) \\nabla_{\\mathbf{w}}  \\log (1 - f(\\mathbf{x}_i; \\theta)), \\\\\n",
    "&=  - \\sum_{i=1}^n \\big(y_i \\frac{ 1 }{ f(\\mathbf{x}_i; \\theta)} + (1-y_i)  \\frac{  (-1) }{1 - f(\\mathbf{x}_i; \\theta)} \\big)\\nabla_{\\mathbf{w}} f(\\mathbf{x}_i; \\theta), \\\\\n",
    "&= -  \\sum_{i=1}^n \\big(y_i \\frac{ 1 }{ f(\\mathbf{x}_i; \\theta)} + (1-y_i)  \\frac{  (-1) }{1 - f(\\mathbf{x}_i; \\theta)} \\big) f(\\mathbf{x}_i; \\theta) (1 - f(\\mathbf{x}_i; \\theta) ) \\nabla_{\\mathbf{w}} (\\mathbf{x}_i^T\\mathbf{w} + b), \\\\\n",
    "&= -  \\sum_{i=1}^n \\big(y_i \\frac{ 1 }{ f(\\mathbf{x}_i; \\theta)} + (1-y_i)  \\frac{  (-1) }{1 - f(\\mathbf{x}_i; \\theta)} \\big) f(\\mathbf{x}_i; \\theta) (1 - f(\\mathbf{x}_i; \\theta) ) \\ \\mathbf{x}_i , \\\\\n",
    "&= -  \\sum_{i=1}^n \\big( y_i   -   f(\\mathbf{x}_i; \\theta)  \\big)  \\mathbf{x}_i\n",
    "\\end{align}\n",
    "$$"
   ]
  },
  {
   "cell_type": "markdown",
   "metadata": {},
   "source": [
    "$$\n",
    "\\begin{align}\n",
    "\\nabla_{b} \\mathcal{L}(\\theta) &=  - \\sum_{i=1}^n \\big(y_i \\frac{ 1 }{ f(\\mathbf{x}_i; \\theta)} + (1-y_i)  \\frac{  (-1) }{1 - f(\\mathbf{x}_i; \\theta)} \\big) f(\\mathbf{x}_i; \\theta) (1 - f(\\mathbf{x}_i; \\theta) ) \\nabla_{b} (\\mathbf{x}_i^T\\mathbf{w} + b), \\\\\n",
    "&= -  \\sum_{i=1}^n \\big(y_i \\frac{ 1 }{ f(\\mathbf{x}_i; \\theta)} + (1-y_i)  \\frac{  (-1) }{1 - f(\\mathbf{x}_i; \\theta)} \\big) f(\\mathbf{x}_i; \\theta) (1 - f(\\mathbf{x}_i; \\theta) ) , \\\\\n",
    "&= -  \\sum_{i=1}^n \\big( y_i   -   f(\\mathbf{x}_i; \\theta)  \\big)\n",
    "\\end{align}\n",
    "$$"
   ]
  },
  {
   "cell_type": "markdown",
   "metadata": {},
   "source": [
    "#### Toy example of a Logistic Regressor"
   ]
  },
  {
   "cell_type": "markdown",
   "metadata": {},
   "source": [
    "1. **Generate a random binary dataset**"
   ]
  },
  {
   "cell_type": "code",
   "execution_count": 115,
   "metadata": {},
   "outputs": [
    {
     "data": {
      "text/plain": [
       "<matplotlib.collections.PathCollection at 0x18765513388>"
      ]
     },
     "execution_count": 115,
     "metadata": {},
     "output_type": "execute_result"
    },
    {
     "data": {
      "image/png": "[encoded data removed]",
      "text/plain": [
       "<Figure size 432x288 with 1 Axes>"
      ]
     },
     "metadata": {
      "needs_background": "light"
     },
     "output_type": "display_data"
    }
   ],
   "source": [
    "import numpy as np\n",
    "import matplotlib.pyplot as plt \n",
    "from sklearn.datasets import make_classification\n",
    "\n",
    "# we create 50 separable points\n",
    "X, y = make_classification(n_samples=200, n_features=2, n_redundant=0, n_informative=2,\n",
    "                           random_state=0, n_clusters_per_class=1)\n",
    "plt.scatter(X[:, 0], X[:, 1], c=y, edgecolors='black', s=25) "
   ]
  },
  {
   "cell_type": "markdown",
   "metadata": {},
   "source": [
    "2. **Designing the Logistic Model**"
   ]
  },
  {
   "cell_type": "code",
   "execution_count": null,
   "metadata": {},
   "outputs": [],
   "source": []
  },
  {
   "cell_type": "code",
   "execution_count": 120,
   "metadata": {},
   "outputs": [],
   "source": [
    "class MyLogisticRegression:\n",
    "    def __init__(self, n_feats, n_iter, lr):\n",
    "        \"\"\"\n",
    "        n_feats: (integer) \n",
    "            Dimension of the input data\n",
    "        n_iter: (integer)\n",
    "            Number of training iteration\n",
    "        lr: (float)\n",
    "            learning rate\n",
    "        \"\"\"\n",
    "        self.w = np.zeros((1, n_feats))\n",
    "        self.b = 0\n",
    "\n",
    "        self.n_feats = n_feats\n",
    "        self.n_iter = n_iter\n",
    "        self.lr = lr\n",
    "\n",
    "        self.losses = []\n",
    "        self.grads = []\n",
    "\n",
    "    def _optimize(self, X, y):\n",
    "        m = X.shape[0]\n",
    "\n",
    "        # cost function\n",
    "        probs = self.activation(X) \n",
    "        cost = (-1/m)*(np.sum((y*np.log(probs)) + ((1-y)*(np.log(1-probs)))))\n",
    "\n",
    "        # computing the gradient \n",
    "        dw = (1/m)*(np.dot((probs - y), X))\n",
    "        db = (1/m)*(np.sum(probs - y))\n",
    "\n",
    "        grads = {\"dLdw\": dw, \"dLdb\": db}\n",
    "\n",
    "        return grads, cost\n",
    "\n",
    "    def activation(self, X):            \n",
    "        return 1./(1. + np.exp(-np.dot(self.w, X.T) - self.b))\n",
    "    \n",
    "    def fit(self, X, y):\n",
    "        \"\"\"\n",
    "            Training the model\n",
    "            \n",
    "            X: (array, n_samples x n_feats)\n",
    "                data matrix\n",
    "            y: (array, n_samples)\n",
    "                targets \n",
    "        \"\"\"\n",
    "        for i in range(self.n_iter):\n",
    "            grads, cost = self._optimize(X, y)\n",
    "            #\n",
    "            dLdw = grads['dLdw']\n",
    "            dLdb = grads['dLdb']\n",
    "            \n",
    "            # gradient descent\n",
    "            self.w = self.w - self.lr * dLdw\n",
    "            self.b = self.b - self.lr * dLdb\n",
    "            \n",
    "            self.losses.append(cost)\n",
    "            self.grads.append(grads)\n",
    "            if (i % 10 == 0):\n",
    "                print(\"Standard Logistic Regression: Iter {}, Cost {}\".format(i, cost))\n",
    "            \n",
    "        print(\"Standard Logistic Regression: Iter {}, Cost {}\".format(i, cost))\n",
    "    \n",
    "    def predict(self, X):\n",
    "        \"\"\"\n",
    "            Predicting the discrete labels\n",
    "            \n",
    "            X: (array, n_samples x n_feats)\n",
    "                data matrix \n",
    "        \"\"\"\n",
    "        activ = self.activation(X)\n",
    "        return np.argmax(activ, 1)\n",
    "    \n",
    "    def predict_proba(self, X):\n",
    "        \n",
    "        \"\"\"\n",
    "            Predicting the probabilities\n",
    "\n",
    "            X: (array, n_samples x n_feats)\n",
    "                data matrix \n",
    "        \"\"\"\n",
    "        return self.activation(X) \n",
    "    \n",
    "    def score(self, X, y): \n",
    "        \"\"\"\n",
    "            computing the accuracy of the model\n",
    "            \n",
    "            X: (array, n_samples x n_feats)\n",
    "                data matrix\n",
    "            y: (array, n_sample)\n",
    "                targets \n",
    "        \"\"\"\n",
    "        pred = self.predict(X)\n",
    "        return (pred == y).mean()\n",
    "    "
   ]
  },
  {
   "cell_type": "markdown",
   "metadata": {},
   "source": [
    "3. **Instanciating the model and training**"
   ]
  },
  {
   "cell_type": "code",
   "execution_count": 127,
   "metadata": {
    "scrolled": true
   },
   "outputs": [
    {
     "name": "stdout",
     "output_type": "stream",
     "text": [
      "Standard Logistic Regression: Iter 0, Cost 0.6931471805599452\n",
      "Standard Logistic Regression: Iter 10, Cost 0.4174960137797045\n",
      "Standard Logistic Regression: Iter 20, Cost 0.3344481243516086\n",
      "Standard Logistic Regression: Iter 30, Cost 0.29578922925484175\n",
      "Standard Logistic Regression: Iter 40, Cost 0.2735141645769967\n",
      "Standard Logistic Regression: Iter 50, Cost 0.2590734584649922\n",
      "Standard Logistic Regression: Iter 60, Cost 0.24899209814552364\n",
      "Standard Logistic Regression: Iter 70, Cost 0.2415878042577485\n",
      "Standard Logistic Regression: Iter 80, Cost 0.2359451627958949\n",
      "Standard Logistic Regression: Iter 90, Cost 0.23152260104428027\n",
      "Standard Logistic Regression: Iter 100, Cost 0.22797894838341667\n",
      "Standard Logistic Regression: Iter 110, Cost 0.22508850583949655\n",
      "Standard Logistic Regression: Iter 120, Cost 0.22269599765832904\n",
      "Standard Logistic Regression: Iter 130, Cost 0.22069111377509865\n",
      "Standard Logistic Regression: Iter 140, Cost 0.21899336248468046\n",
      "Standard Logistic Regression: Iter 150, Cost 0.2175426638752335\n",
      "Standard Logistic Regression: Iter 160, Cost 0.21629329367267666\n",
      "Standard Logistic Regression: Iter 170, Cost 0.21520986194747926\n",
      "Standard Logistic Regression: Iter 180, Cost 0.21426457071346108\n",
      "Standard Logistic Regression: Iter 190, Cost 0.2134352995397936\n",
      "Standard Logistic Regression: Iter 200, Cost 0.21270424140483196\n",
      "Standard Logistic Regression: Iter 210, Cost 0.21205691272127628\n",
      "Standard Logistic Regression: Iter 220, Cost 0.211481423073666\n",
      "Standard Logistic Regression: Iter 230, Cost 0.2109679285656161\n",
      "Standard Logistic Regression: Iter 240, Cost 0.2105082171424573\n",
      "Standard Logistic Regression: Iter 250, Cost 0.21009539020995566\n",
      "Standard Logistic Regression: Iter 260, Cost 0.2097236154821804\n",
      "Standard Logistic Regression: Iter 270, Cost 0.2093879331789489\n",
      "Standard Logistic Regression: Iter 280, Cost 0.209084102641908\n",
      "Standard Logistic Regression: Iter 290, Cost 0.2088084798974402\n",
      "Standard Logistic Regression: Iter 300, Cost 0.20855791914640867\n",
      "Standard Logistic Regression: Iter 310, Cost 0.20832969292108316\n",
      "Standard Logistic Regression: Iter 320, Cost 0.2081214269285709\n",
      "Standard Logistic Regression: Iter 330, Cost 0.20793104653966119\n",
      "Standard Logistic Regression: Iter 340, Cost 0.2077567325793954\n",
      "Standard Logistic Regression: Iter 350, Cost 0.2075968845983026\n",
      "Standard Logistic Regression: Iter 360, Cost 0.2074500901984573\n",
      "Standard Logistic Regression: Iter 370, Cost 0.2073150992898861\n",
      "Standard Logistic Regression: Iter 380, Cost 0.20719080238451607\n",
      "Standard Logistic Regression: Iter 390, Cost 0.20707621221425185\n",
      "Standard Logistic Regression: Iter 400, Cost 0.2069704480996786\n",
      "Standard Logistic Regression: Iter 410, Cost 0.20687272260573347\n",
      "Standard Logistic Regression: Iter 420, Cost 0.20678233010746408\n",
      "Standard Logistic Regression: Iter 430, Cost 0.2066986369579643\n",
      "Standard Logistic Regression: Iter 440, Cost 0.20662107300570148\n",
      "Standard Logistic Regression: Iter 450, Cost 0.2065491242527488\n",
      "Standard Logistic Regression: Iter 460, Cost 0.20648232648121181\n",
      "Standard Logistic Regression: Iter 470, Cost 0.20642025970418373\n",
      "Standard Logistic Regression: Iter 480, Cost 0.20636254332123746\n",
      "Standard Logistic Regression: Iter 490, Cost 0.2063088318778602\n",
      "Standard Logistic Regression: Iter 500, Cost 0.20625881134418933\n",
      "Standard Logistic Regression: Iter 510, Cost 0.20621219584157863\n",
      "Standard Logistic Regression: Iter 520, Cost 0.20616872475645068\n",
      "Standard Logistic Regression: Iter 530, Cost 0.20612816018997646\n",
      "Standard Logistic Regression: Iter 540, Cost 0.20609028469971552\n",
      "Standard Logistic Regression: Iter 550, Cost 0.20605489929571022\n",
      "Standard Logistic Regression: Iter 560, Cost 0.20602182165887367\n",
      "Standard Logistic Regression: Iter 570, Cost 0.2059908845540239\n",
      "Standard Logistic Regression: Iter 580, Cost 0.20596193441372712\n",
      "Standard Logistic Regression: Iter 590, Cost 0.20593483007235816\n",
      "Standard Logistic Regression: Iter 600, Cost 0.20590944163252992\n",
      "Standard Logistic Regression: Iter 610, Cost 0.20588564944840343\n",
      "Standard Logistic Regression: Iter 620, Cost 0.20586334321239222\n",
      "Standard Logistic Regression: Iter 630, Cost 0.2058424211335041\n",
      "Standard Logistic Regression: Iter 640, Cost 0.20582278919704128\n",
      "Standard Logistic Regression: Iter 650, Cost 0.20580436049665804\n",
      "Standard Logistic Regression: Iter 660, Cost 0.20578705463087868\n",
      "Standard Logistic Regression: Iter 670, Cost 0.20577079715713026\n",
      "Standard Logistic Regression: Iter 680, Cost 0.20575551909717568\n",
      "Standard Logistic Regression: Iter 690, Cost 0.20574115648854957\n",
      "Standard Logistic Regression: Iter 700, Cost 0.20572764997722826\n",
      "Standard Logistic Regression: Iter 710, Cost 0.20571494444730895\n",
      "Standard Logistic Regression: Iter 720, Cost 0.20570298868395667\n",
      "Standard Logistic Regression: Iter 730, Cost 0.20569173506628852\n",
      "Standard Logistic Regression: Iter 740, Cost 0.20568113928724097\n",
      "Standard Logistic Regression: Iter 750, Cost 0.20567116009778105\n",
      "Standard Logistic Regression: Iter 760, Cost 0.2056617590731119\n",
      "Standard Logistic Regression: Iter 770, Cost 0.20565290039877213\n",
      "Standard Logistic Regression: Iter 780, Cost 0.2056445506747471\n",
      "Standard Logistic Regression: Iter 790, Cost 0.20563667873591335\n",
      "Standard Logistic Regression: Iter 800, Cost 0.20562925548730066\n",
      "Standard Logistic Regression: Iter 810, Cost 0.20562225375282062\n",
      "Standard Logistic Regression: Iter 820, Cost 0.20561564813623975\n",
      "Standard Logistic Regression: Iter 830, Cost 0.20560941489329992\n",
      "Standard Logistic Regression: Iter 840, Cost 0.20560353181399726\n",
      "Standard Logistic Regression: Iter 850, Cost 0.20559797811412728\n",
      "Standard Logistic Regression: Iter 860, Cost 0.20559273433528946\n",
      "Standard Logistic Regression: Iter 870, Cost 0.2055877822526219\n",
      "Standard Logistic Regression: Iter 880, Cost 0.20558310478960756\n",
      "Standard Logistic Regression: Iter 890, Cost 0.20557868593935247\n",
      "Standard Logistic Regression: Iter 900, Cost 0.20557451069179455\n",
      "Standard Logistic Regression: Iter 910, Cost 0.20557056496635093\n",
      "Standard Logistic Regression: Iter 920, Cost 0.205566835549555\n",
      "Standard Logistic Regression: Iter 930, Cost 0.2055633100372781\n",
      "Standard Logistic Regression: Iter 940, Cost 0.20555997678116256\n",
      "Standard Logistic Regression: Iter 950, Cost 0.20555682483893184\n",
      "Standard Logistic Regression: Iter 960, Cost 0.2055538439282664\n",
      "Standard Logistic Regression: Iter 970, Cost 0.205551024383967\n",
      "Standard Logistic Regression: Iter 980, Cost 0.20554835711814626\n",
      "Standard Logistic Regression: Iter 990, Cost 0.2055458335832156\n",
      "Standard Logistic Regression: Iter 999, Cost 0.20554367863527495\n"
     ]
    }
   ],
   "source": [
    "clf = MyLogisticRegression(n_feats=2, n_iter=1000, lr=0.2)\n",
    "clf.fit(X, y)"
   ]
  },
  {
   "cell_type": "markdown",
   "metadata": {},
   "source": [
    "4. **Plotting the decision boundary of the model**"
   ]
  },
  {
   "cell_type": "code",
   "execution_count": 128,
   "metadata": {
    "scrolled": true
   },
   "outputs": [
    {
     "data": {
      "image/png": "[encoded data removed]",
      "text/plain": [
       "<Figure size 432x288 with 1 Axes>"
      ]
     },
     "metadata": {
      "needs_background": "light"
     },
     "output_type": "display_data"
    }
   ],
   "source": [
    "def print_decision(X, clf):\n",
    "    h = .02\n",
    "    x_min, x_max = X[:, 0].min() - .5, X[:, 0].max() + .5\n",
    "    y_min, y_max = X[:, 1].min() - .5, X[:, 1].max() + .5\n",
    "    xx, yy = np.meshgrid(np.arange(x_min, x_max, h),\n",
    "                         np.arange(y_min, y_max, h))\n",
    "\n",
    "    Z = clf.predict_proba(np.c_[xx.ravel(), yy.ravel()])\n",
    "    Z = Z.reshape(xx.shape)\n",
    "\n",
    "    ax = plt.subplot(111)\n",
    "    ax.contourf(xx, yy, Z, alpha=.8)\n",
    "    plt.scatter(X[:, 0], X[:, 1], c=y, edgecolors='black', s=25) \n",
    "\n",
    "print_decision(X, clf)"
   ]
  },
  {
   "cell_type": "markdown",
   "metadata": {},
   "source": [
    "### 1.3 The regularized Log-Likelihood as loss function"
   ]
  },
  {
   "cell_type": "markdown",
   "metadata": {},
   "source": [
    "The **regularized** logistic regression loss function consists in assuming that the parameters follow a certain *a priori* distribution. We then used the **maximum a posteriori (MAP)** estimatimation to derive the final loss function.\n",
    "\n",
    "Let $p(\\theta)$ be the *a priori*.\n",
    "\n",
    "The goal is to minimize\n",
    "$$\n",
    "\\begin{align}\n",
    "\\mathcal{L}(\\theta) &= - \\log L(\\theta)p(\\theta), \\\\\n",
    "&= - \\log L(\\theta) - \\log p(\\theta).\n",
    "\\end{align}$$"
   ]
  },
  {
   "cell_type": "markdown",
   "metadata": {},
   "source": [
    "#### The $\\ell_2$ regularization"
   ]
  },
  {
   "cell_type": "markdown",
   "metadata": {},
   "source": [
    "The *a priori* is given by:\n",
    "$$p(\\theta = \\{\\mathbf{w}\\}) = exp( - \\lambda \\|w\\|_2^2)$$"
   ]
  },
  {
   "cell_type": "markdown",
   "metadata": {},
   "source": [
    "#### Example using the scikit-learn model"
   ]
  },
  {
   "cell_type": "code",
   "execution_count": 107,
   "metadata": {},
   "outputs": [],
   "source": [
    "from sklearn.linear_model import LogisticRegression"
   ]
  },
  {
   "cell_type": "code",
   "execution_count": 113,
   "metadata": {},
   "outputs": [
    {
     "name": "stdout",
     "output_type": "stream",
     "text": [
      "score: 0.935, sparsity: 0.0 \n"
     ]
    }
   ],
   "source": [
    "clf = LogisticRegression(C=50. / 100 , penalty='l2', solver='saga', tol=0.1)\n",
    "clf.fit(X, y)\n",
    "print(\"score: {}, sparsity: {} \".format(clf.score(X, y), np.mean(clf.coef_ == 0) * 100))"
   ]
  },
  {
   "cell_type": "markdown",
   "metadata": {},
   "source": [
    "## 2. Multi-class classification"
   ]
  },
  {
   "cell_type": "markdown",
   "metadata": {},
   "source": [
    "In this section, let $\\mathcal{D} = \\{(\\mathbf{x}_i \\in \\mathbb{R}^d, \\mathbf{y_i} \\in \\{0, 1\\}^{C})\\}_{i=1}^n$ be our training dataset. The samples are **i.i.d**."
   ]
  },
  {
   "cell_type": "markdown",
   "metadata": {},
   "source": [
    "### 2.1 Formulation"
   ]
  },
  {
   "cell_type": "markdown",
   "metadata": {},
   "source": [
    "In the case of multi-class tasks, the multinomial logistic regression can be used (*a.k.a.* **softmax regression**). The probability to obtain the class $c$ given an input $\\mathbf{x}$ is given by\n",
    "$$p(y = c | \\mathbf{x}; \\theta) = \\frac{exp( ( \\mathbf{x}^T\\mathbf{w}^{(c)} + b^{(c)})}{\\sum_{k=1}^C exp( ( \\mathbf{x}^T\\mathbf{w}^{(k)} + b^{(k)})}, $$\n",
    "where $(\\mathbf{w}^{(k)}, b^{(k)})$ are the parameter set dedicated to the $k$-th class."
   ]
  },
  {
   "cell_type": "markdown",
   "metadata": {},
   "source": [
    "Notice that we can retrieve the binary formulation from the multinomial definition. Say we have two class 0 and 1, then \n",
    "$p(y = 1 | \\mathbf{x}; \\theta) = \\frac{exp( \\mathbf{x}^T\\mathbf{w}^{(1)} + b^{(1)})}{ exp( \\mathbf{x}^T\\mathbf{w}^{(1)} + b^{(1)}) + exp( \\mathbf{x}^T\\mathbf{w}^{(0)} + b^{(0)})} = \\frac{1 }{1 + exp\\Big( \\big( \\mathbf{x}^T\\mathbf{w}^{(0)} + b^{(0)} \\big) - \\big(\\mathbf{x}^T\\mathbf{w}^{(1)} + b^{(1)}\\big) \\Big)} = \\frac{1 }{1 + exp \\Big(  \\mathbf{x}^T \\big(\\mathbf{w}^{(0)} - \\mathbf{w}^{(1)} \\big) +  \\big(b^{(0)} -  b^{(1)}\\big) \\Big)}.$"
   ]
  },
  {
   "cell_type": "markdown",
   "metadata": {},
   "source": [
    "> **N.B.**: The sofmax function is defined as \n",
    "$ \\mathbf{t} \\in \\mathbf{R}^C \\mapsto \\text{softmax} (\\mathbf{t}) = \\frac{1 }{\\sum_{k=1}^C e^{\\mathbf{t}[k]}}\\Big[e^{ \\mathbf{t}[1]}, e^{ \\mathbf{t}[2]}, \\cdots, e^{ \\mathbf{t}[C] }\\Big] $"
   ]
  },
  {
   "cell_type": "markdown",
   "metadata": {},
   "source": [
    "#### 2.1.2 The Loss function"
   ]
  },
  {
   "cell_type": "markdown",
   "metadata": {},
   "source": [
    "Given a data point $\\mathbf{x}$, the likelihood is given by\n",
    "$$\n",
    " L(\\theta) = p(y|\\mathbf{x}; \\theta) = \\Pi_{k=1}^C p(y = k|\\mathbf{x}; \\theta)^{\\mathbb{1}\\{y=k\\}},\n",
    "$$\n",
    "\n",
    "where $\\mathbb{1}\\{\\cdot\\}$ is the indicator function.\n",
    "\n",
    "And the negative log-likelihood, our multi-class loss function, is\n",
    "$$\n",
    "\\begin{align}\n",
    " \\mathcal{L}(\\theta) = -\\log L(\\theta) &= p(y|\\mathbf{x}; \\theta) = - \\sum_{k=1}^C {\\mathbb{1}\\{y=k\\}} \\log p(y = k|\\mathbf{x}; \\theta),\n",
    "\\end{align}\n",
    "$$"
   ]
  },
  {
   "cell_type": "markdown",
   "metadata": {},
   "source": [
    "The gradient w.r.t. to the $k$-th parameter $\\mathbf{w}^{(k)}$ is\n",
    "$$\n",
    " \\nabla_{\\mathbf{w}^{(k)}} \\mathcal{L}(\\theta) = -\\big({\\mathbb{1}\\{y=k\\}} +  p(y = k|\\mathbf{x}; \\theta) \\big) \\mathbf{x}.\n",
    "$$"
   ]
  },
  {
   "cell_type": "markdown",
   "metadata": {},
   "source": [
    "### 2.2 Example  (MNIST: handwritten digits classification)"
   ]
  },
  {
   "cell_type": "markdown",
   "metadata": {},
   "source": [
    "The main objective is to predict the digit inside an input image.\n",
    "<img src=\"images/mnist_goal.png\" width=\"40%\">"
   ]
  },
  {
   "cell_type": "markdown",
   "metadata": {},
   "source": [
    "The practical workflow is depicted below. \n",
    "\n",
    "1. Flattening the image to obtain a vector (*a.k.a* the **the feature vector**)\n",
    "2. Applying the model\n",
    "3. Using the argmax to retrieve the final output\n",
    "\n",
    "<img src=\"images/mnist_practical.png\" width=\"40%\">"
   ]
  },
  {
   "cell_type": "markdown",
   "metadata": {},
   "source": [
    "#### Import the important libraries\n",
    "- **fetch_openml** will be used to retrieve the dataset\n",
    "- **LogisticRegression** is the scikit-learn class for this type of model\n",
    "- **train_test_split** is used to split dataset into 2 folds (train and test) eventually 3 with additional validation set\n",
    "- **StandardScaler** is used to normalize the data by substracting the mean and dividing by the variance\n",
    "- **check_random_state** is used to randomly permutate the data"
   ]
  },
  {
   "cell_type": "code",
   "execution_count": 1,
   "metadata": {},
   "outputs": [],
   "source": [
    "import time\n",
    "import matplotlib.pyplot as plt\n",
    "import numpy as np\n",
    "\n",
    "from sklearn.datasets import fetch_openml\n",
    "from sklearn.linear_model import LogisticRegression\n",
    "from sklearn.model_selection import train_test_split\n",
    "from sklearn.preprocessing import StandardScaler\n",
    "from sklearn.utils import check_random_state\n"
   ]
  },
  {
   "cell_type": "markdown",
   "metadata": {},
   "source": [
    "#### We fix the number of training sample "
   ]
  },
  {
   "cell_type": "code",
   "execution_count": 3,
   "metadata": {},
   "outputs": [],
   "source": [
    "train_samples = 5000"
   ]
  },
  {
   "cell_type": "markdown",
   "metadata": {},
   "source": [
    "#### Data acquisition and preprocesing\n",
    "1. Load the MNIST data from https://www.openml.org/d/554\n",
    "2. Shuffling the data randomly\n",
    "3. Splitting the data into **Train** and **Test** sets\n",
    "4. Normalizing the data"
   ]
  },
  {
   "cell_type": "code",
   "execution_count": 4,
   "metadata": {},
   "outputs": [],
   "source": [
    "X, y = fetch_openml('mnist_784', version=1, return_X_y=True)\n",
    "\n",
    "random_state = check_random_state(0)\n",
    "permutation = random_state.permutation(X.shape[0])\n",
    "X = X[permutation]\n",
    "y = y[permutation]\n",
    "X = X.reshape((X.shape[0], -1))\n",
    "\n",
    "X_train, X_test, y_train, y_test = train_test_split(\n",
    "    X, y, train_size=train_samples, test_size=10000)\n",
    "\n",
    "scaler = StandardScaler()\n",
    "X_train = scaler.fit_transform(X_train)\n",
    "X_test = scaler.transform(X_test)\n"
   ]
  },
  {
   "cell_type": "markdown",
   "metadata": {},
   "source": [
    "#### Initializing the classifier"
   ]
  },
  {
   "cell_type": "code",
   "execution_count": 5,
   "metadata": {},
   "outputs": [],
   "source": [
    "# Turn up tolerance for faster convergence\n",
    "clf = LogisticRegression(\n",
    "    C=50. / train_samples, penalty='l1', solver='saga', tol=0.1\n",
    ")"
   ]
  },
  {
   "cell_type": "markdown",
   "metadata": {},
   "source": [
    "#### Training the classifier"
   ]
  },
  {
   "cell_type": "code",
   "execution_count": 6,
   "metadata": {},
   "outputs": [
    {
     "data": {
      "text/plain": [
       "LogisticRegression(C=0.01, class_weight=None, dual=False, fit_intercept=True,\n",
       "                   intercept_scaling=1, l1_ratio=None, max_iter=100,\n",
       "                   multi_class='auto', n_jobs=None, penalty='l1',\n",
       "                   random_state=None, solver='saga', tol=0.1, verbose=0,\n",
       "                   warm_start=False)"
      ]
     },
     "execution_count": 6,
     "metadata": {},
     "output_type": "execute_result"
    }
   ],
   "source": [
    "clf.fit(X_train, y_train)"
   ]
  },
  {
   "cell_type": "markdown",
   "metadata": {},
   "source": [
    "#### Printing some metrics:\n",
    "- The sparsity level\n",
    "- The Test score"
   ]
  },
  {
   "cell_type": "code",
   "execution_count": null,
   "metadata": {},
   "outputs": [],
   "source": [
    "sparsity = np.mean(clf.coef_ == 0) * 100\n",
    "score = clf.score(X_test, y_test)\n",
    "# print('Best C % .4f' % clf.C_)\n",
    "print(\"Sparsity with L1 penalty: %.2f%%\" % sparsity)\n",
    "print(\"Test score with L1 penalty: %.4f\" % score)"
   ]
  },
  {
   "cell_type": "code",
   "execution_count": null,
   "metadata": {},
   "outputs": [],
   "source": [
    "coef = clf.coef_.copy()\n",
    "plt.figure(figsize=(10, 5))\n",
    "scale = np.abs(coef).max()\n",
    "for i in range(10):\n",
    "    l1_plot = plt.subplot(2, 5, i + 1)\n",
    "    l1_plot.imshow(coef[i].reshape(28, 28), interpolation='nearest',\n",
    "                   cmap=plt.cm.RdBu, vmin=-scale, vmax=scale)\n",
    "    l1_plot.set_xticks(())\n",
    "    l1_plot.set_yticks(())\n",
    "    l1_plot.set_xlabel('Class %i' % i)\n",
    "plt.suptitle('Classification vector for...')\n",
    "plt.show()"
   ]
  },
  {
   "cell_type": "markdown",
   "metadata": {},
   "source": [
    "#### Plotting the learned parameters"
   ]
  },
  {
   "cell_type": "code",
   "execution_count": 8,
   "metadata": {},
   "outputs": [
    {
     "data": {
      "image/png": "[encoded data removed]",
      "text/plain": [
       "<Figure size 720x360 with 10 Axes>"
      ]
     },
     "metadata": {},
     "output_type": "display_data"
    }
   ],
   "source": [
    "coef = clf.coef_.copy()\n",
    "plt.figure(figsize=(10, 5))\n",
    "scale = np.abs(coef).max()\n",
    "for i in range(10):\n",
    "    l1_plot = plt.subplot(2, 5, i + 1)\n",
    "    l1_plot.imshow(coef[i].reshape(28, 28), interpolation='nearest',\n",
    "                   cmap=plt.cm.RdBu, vmin=-scale, vmax=scale)\n",
    "    l1_plot.set_xticks(())\n",
    "    l1_plot.set_yticks(())\n",
    "    l1_plot.set_xlabel('Class %i' % i)\n",
    "plt.suptitle('Classification vector for...')\n",
    "plt.show()"
   ]
  },
  {
   "cell_type": "markdown",
   "metadata": {},
   "source": [
    "## 2. Support Vector Machine (SVM)\n",
    "## 3. Decision Trees and Random Forests\n",
    "## 4. Clustering (K-Means)"
   ]
  },
  {
   "cell_type": "code",
   "execution_count": null,
   "metadata": {},
   "outputs": [],
   "source": []
  }
 ],
 "metadata": {
  "kernelspec": {
   "display_name": "Python 3",
   "language": "python",
   "name": "python3"
  },
  "language_info": {
   "codemirror_mode": {
    "name": "ipython",
    "version": 3
   },
   "file_extension": ".py",
   "mimetype": "text/x-python",
   "name": "python",
   "nbconvert_exporter": "python",
   "pygments_lexer": "ipython3",
   "version": "3.7.6"
  }
 },
 "nbformat": 4,
 "nbformat_minor": 2
}
