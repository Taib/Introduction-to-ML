{
 "cells": [
  {
   "cell_type": "markdown",
   "metadata": {},
   "source": [
    "# Machine Learning: No deep Learning"
   ]
  },
  {
   "cell_type": "markdown",
   "metadata": {},
   "source": [
    "This lesson presents non-deep learning based models: the basic ideas, the mathematical derivations and implementations. [@Taib](https://github.com/Taib)"
   ]
  },
  {
   "cell_type": "markdown",
   "metadata": {},
   "source": [
    "## 1. Binary Logistic Regression"
   ]
  },
  {
   "cell_type": "markdown",
   "metadata": {},
   "source": [
    "In this section, let $\\mathcal{D} = \\{(\\mathbf{x}_i \\in \\mathbb{R}^d, y_i \\in \\{0, 1\\})\\}_{i=1}^n$ be our training dataset. The samples are **i.i.d**."
   ]
  },
  {
   "cell_type": "markdown",
   "metadata": {},
   "source": [
    "### 1.1 Formulation"
   ]
  },
  {
   "cell_type": "markdown",
   "metadata": {},
   "source": [
    "**Logistic Regression is a classification model where the prediction function is a sigmoid function.**\n",
    "> The prediction function is defined as: $$ \\mathbf{x} \\mapsto f(\\mathbf{x}; \\theta=\\{\\mathbf{w}, b\\}) = \\frac{1}{1 + exp( -( \\mathbf{x}^T\\mathbf{w} + b))}.$$"
   ]
  },
  {
   "cell_type": "code",
   "execution_count": 1,
   "metadata": {},
   "outputs": [
    {
     "data": {
      "text/plain": [
       "<matplotlib.legend.Legend at 0x1ff1fd742c8>"
      ]
     },
     "execution_count": 1,
     "metadata": {},
     "output_type": "execute_result"
    },
    {
     "data": {
      "image/png": "[encoded data removed]",
      "text/plain": [
       "<Figure size 432x288 with 1 Axes>"
      ]
     },
     "metadata": {
      "needs_background": "light"
     },
     "output_type": "display_data"
    }
   ],
   "source": [
    "# Plotting a sigmoid function\n",
    "import numpy as np\n",
    "import pylab as plt\n",
    "\n",
    "sigmoid = lambda t : 1./(1. + np.exp(-t))\n",
    "\n",
    "x_coords = np.linspace(-10, 10, 100) \n",
    "plt.plot(x_coords, sigmoid(x_coords))\n",
    "plt.legend([\"The Sigmoid function\"])"
   ]
  },
  {
   "cell_type": "markdown",
   "metadata": {},
   "source": [
    "### 1.2 The Log-Likelihood as loss function"
   ]
  },
  {
   "cell_type": "markdown",
   "metadata": {},
   "source": [
    "We will use a probabilistic interpretation of the sigmoid prediction function (as a **Bernouilli distribution**). Let \n",
    "$$\n",
    "\\begin{equation}\n",
    "    \\begin{split}\n",
    "        p(y=1 | \\mathbf{x}; \\theta) &= f(\\mathbf{x}; \\theta), \\\\ \n",
    "        p(y=0 | \\mathbf{x}; \\theta) &= 1 - f(\\mathbf{x}; \\theta). \n",
    "    \\end{split}\n",
    "\\end{equation}\n",
    "$$"
   ]
  },
  {
   "cell_type": "markdown",
   "metadata": {},
   "source": [
    "Therefore, the **likelihood**, $L(\\theta)$, is defined as \n",
    "\n",
    "$$\n",
    "\n",
    "\\begin{equation}\n",
    "    \\begin{split} \n",
    "        L(\\theta) = p(y | \\mathbf{x}; \\theta) &= f(\\mathbf{x}; \\theta)^y (1 - f(\\mathbf{x}; \\theta))^{(1-y)}, \\\\\n",
    "        &= \\Pi_{i=1}^n f(\\mathbf{x}_i; \\theta)^{y_i} (1 - f(\\mathbf{x}_i; \\theta))^{(1-y_i)}. \\\\\n",
    "    \\end{split}\n",
    "\\end{equation}\n",
    "$$"
   ]
  },
  {
   "cell_type": "markdown",
   "metadata": {},
   "source": [
    "\n",
    "The **Log-likelihood** is \n",
    "$$ \n",
    "\\begin{equation}\n",
    "    \\begin{split} \n",
    "    \\log L(\\theta) &=  \\frac{1}{n}\\sum_{i=1}^n y_i \\log f(\\mathbf{x}_i; \\theta) + (1-y_i) \\log (1 - f(\\mathbf{x}_i; \\theta)), \\\\\n",
    "    &= \\sum_{i=1}^n y_i \\log(\\exp(- (\\mathbf{x}_i^T \\mathbf{w} + b )) + 1) + (1 - y_i) \\log(\\exp(\\mathbf{x}_i^T \\mathbf{w} + b) + 1)\\\\\n",
    "    \\end{split}\n",
    "\\end{equation}  \n",
    "$$"
   ]
  },
  {
   "cell_type": "markdown",
   "metadata": {},
   "source": [
    "The standard logistic regression loss function is therefore given by the **negative log-likelihood**\n",
    "$$\\mathcal{L}(\\theta) = - \\log L(\\theta).$$"
   ]
  },
  {
   "cell_type": "markdown",
   "metadata": {},
   "source": [
    "We now, need to compute the gradient of the loss w.r.t the parameters $(\\mathbf{w}, b)$."
   ]
  },
  {
   "cell_type": "markdown",
   "metadata": {},
   "source": [
    "$$\n",
    "\\begin{equation}\n",
    "    \\begin{split} \n",
    "            \\nabla_{\\mathbf{w}} \\mathcal{L}(\\theta) &= - \\sum_{i=1}^n y_i \\nabla_{\\mathbf{w}}  \\log f(\\mathbf{x}_i; \\theta) + (1-y_i) \\nabla_{\\mathbf{w}}  \\log (1 - f(\\mathbf{x}_i; \\theta)), \\\\\n",
    "            &=  - \\sum_{i=1}^n \\big(y_i \\frac{ 1 }{ f(\\mathbf{x}_i; \\theta)} + (1-y_i)  \\frac{  (-1) }{1 - f(\\mathbf{x}_i; \\theta)} \\big)\\nabla_{\\mathbf{w}} f(\\mathbf{x}_i; \\theta), \\\\\n",
    "            &= -  \\sum_{i=1}^n \\big(y_i \\frac{ 1 }{ f(\\mathbf{x}_i; \\theta)} + (1-y_i)  \\frac{  (-1) }{1 - f(\\mathbf{x}_i; \\theta)} \\big) f(\\mathbf{x}_i; \\theta) (1 - f(\\mathbf{x}_i; \\theta) ) \\nabla_{\\mathbf{w}} (\\mathbf{x}_i^T\\mathbf{w} + b), \\\\\n",
    "            &= -  \\sum_{i=1}^n \\big(y_i \\frac{ 1 }{ f(\\mathbf{x}_i; \\theta)} + (1-y_i)  \\frac{  (-1) }{1 - f(\\mathbf{x}_i; \\theta)} \\big) f(\\mathbf{x}_i; \\theta) (1 - f(\\mathbf{x}_i; \\theta) ) \\ \\mathbf{x}_i , \\\\\n",
    "            &= -  \\sum_{i=1}^n \\big( y_i   -   f(\\mathbf{x}_i; \\theta)  \\big)  \\mathbf{x}_i\n",
    "    \\end{split}\n",
    "\\end{equation}\n",
    "$$"
   ]
  },
  {
   "cell_type": "markdown",
   "metadata": {},
   "source": [
    "$$\n",
    "\\begin{equation}\n",
    "    \\begin{split} \n",
    "        \\nabla_{b} \\mathcal{L}(\\theta) &=  - \\sum_{i=1}^n \\big(y_i \\frac{ 1 }{ f(\\mathbf{x}_i; \\theta)} + (1-y_i)  \\frac{  (-1) }{1 - f(\\mathbf{x}_i; \\theta)} \\big) f(\\mathbf{x}_i; \\theta) (1 - f(\\mathbf{x}_i; \\theta) ) \\nabla_{b} (\\mathbf{x}_i^T\\mathbf{w} + b), \\\\\n",
    "        &= -  \\sum_{i=1}^n \\big(y_i \\frac{ 1 }{ f(\\mathbf{x}_i; \\theta)} + (1-y_i)  \\frac{  (-1) }{1 - f(\\mathbf{x}_i; \\theta)} \\big) f(\\mathbf{x}_i; \\theta) (1 - f(\\mathbf{x}_i; \\theta) ) , \\\\\n",
    "        &= -  \\sum_{i=1}^n \\big( y_i   -   f(\\mathbf{x}_i; \\theta)  \\big)\n",
    "    \\end{split}\n",
    "\\end{equation} \n",
    "$$"
   ]
  },
  {
   "cell_type": "markdown",
   "metadata": {},
   "source": [
    "#### Toy example of a Logistic Regressor"
   ]
  },
  {
   "cell_type": "markdown",
   "metadata": {},
   "source": [
    "1. **Generate a random binary dataset**"
   ]
  },
  {
   "cell_type": "code",
   "execution_count": 2,
   "metadata": {},
   "outputs": [
    {
     "data": {
      "text/plain": [
       "<matplotlib.collections.PathCollection at 0x1ff21d9b588>"
      ]
     },
     "execution_count": 2,
     "metadata": {},
     "output_type": "execute_result"
    },
    {
     "data": {
      "image/png": "[encoded data removed]",
      "text/plain": [
       "<Figure size 432x288 with 1 Axes>"
      ]
     },
     "metadata": {
      "needs_background": "light"
     },
     "output_type": "display_data"
    }
   ],
   "source": [
    "import numpy as np\n",
    "import matplotlib.pyplot as plt \n",
    "from sklearn.datasets import make_classification\n",
    "\n",
    "# we create 50 separable points\n",
    "X, y = make_classification(n_samples=200, n_features=2, n_redundant=0, n_informative=2,\n",
    "                           random_state=0, n_clusters_per_class=2, class_sep=2.0)\n",
    "plt.figure()\n",
    "plt.scatter(X[:, 0], X[:, 1], c=y, edgecolors='black', s=25) "
   ]
  },
  {
   "cell_type": "markdown",
   "metadata": {},
   "source": [
    "2. **Designing the Logistic Model**"
   ]
  },
  {
   "cell_type": "code",
   "execution_count": null,
   "metadata": {},
   "outputs": [],
   "source": []
  },
  {
   "cell_type": "code",
   "execution_count": 3,
   "metadata": {},
   "outputs": [],
   "source": [
    "import numpy as np\n",
    "\n",
    "class MyBinaryLogisticRegression:\n",
    "    def __init__(self, n_feats, n_iter, lr, regul='l2', r_lambda=0.1):\n",
    "        \"\"\"\n",
    "        A class for binary logistic regression model\n",
    "        \n",
    "        n_feats: (integer) \n",
    "            Dimension of the input data\n",
    "        n_iter: (integer)\n",
    "            Number of training iteration\n",
    "        lr: (float)\n",
    "            learning rate\n",
    "        \"\"\"\n",
    "        self.w = np.zeros((1, n_feats))\n",
    "        self.b = 0\n",
    "\n",
    "        self.n_feats = n_feats\n",
    "        self.n_iter = n_iter\n",
    "        self.lr = lr\n",
    "        self.r_lambda = r_lambda\n",
    "        self.regul = regul\n",
    "        \n",
    "        self.losses = []\n",
    "        self.grads = []\n",
    "\n",
    "    def _optimize(self, X, y):\n",
    "        m = X.shape[0]\n",
    "\n",
    "        # cost function\n",
    "        probs = self.activation(X) \n",
    "        cost = (-1/m)*(np.sum((y*np.log(probs)) + ((1-y)*(np.log(1-probs)))))\n",
    "\n",
    "        # computing the gradient \n",
    "        dw = (1/m)*(np.dot((probs - y), X)) \n",
    "        \n",
    "        if self.regul == \"l2\":\n",
    "            dw += 2*self.r_lambda* self.w # adding l2 regularization\n",
    "        elif self.regul == 'l1':\n",
    "            dw + self.r_lambda * np.sign(self.w) # adding l1 regularization\n",
    "            \n",
    "        db = (1/m)*(np.sum(probs - y))\n",
    "\n",
    "        grads = {\"dLdw\": dw, \"dLdb\": db}\n",
    "\n",
    "        return grads, cost\n",
    "\n",
    "    def activation(self, X):            \n",
    "        return 1./(1. + np.exp(-np.dot(self.w, X.T) - self.b))\n",
    "    \n",
    "    def fit(self, X, y):\n",
    "        \"\"\"\n",
    "            Training the model\n",
    "            \n",
    "            X: (array, n_samples x n_feats)\n",
    "                data matrix\n",
    "            y: (array, n_samples)\n",
    "                targets \n",
    "        \"\"\"\n",
    "        for i in range(self.n_iter):\n",
    "            grads, cost = self._optimize(X, y)\n",
    "            #\n",
    "            dLdw = grads['dLdw']\n",
    "            dLdb = grads['dLdb']\n",
    "            \n",
    "            # gradient descent\n",
    "            self.w = self.w - self.lr * dLdw\n",
    "            self.b = self.b - self.lr * dLdb\n",
    "            \n",
    "            self.losses.append(cost)\n",
    "            self.grads.append(grads)\n",
    "            if (i % 10 == 0):\n",
    "                print(\"Standard Logistic Regression: Iter {}, Cost {}\".format(i, cost))\n",
    "            \n",
    "        print(\"Standard Logistic Regression: Iter {}, Cost {}\".format(i, cost))\n",
    "    \n",
    "    def predict(self, X):\n",
    "        \"\"\"\n",
    "            Predicting the discrete labels\n",
    "            \n",
    "            X: (array, n_samples x n_feats)\n",
    "                data matrix \n",
    "        \"\"\"\n",
    "        activ = self.activation(X)\n",
    "        return activ >= 0.5 # np.argmax(activ, 1)\n",
    "    \n",
    "    def predict_proba(self, X):\n",
    "        \n",
    "        \"\"\"\n",
    "            Predicting the probabilities\n",
    "\n",
    "            X: (array, n_samples x n_feats)\n",
    "                data matrix \n",
    "        \"\"\"\n",
    "        return self.activation(X) \n",
    "    \n",
    "    def score(self, X, y): \n",
    "        \"\"\"\n",
    "            computing the accuracy of the model\n",
    "            \n",
    "            X: (array, n_samples x n_feats)\n",
    "                data matrix\n",
    "            y: (array, n_sample)\n",
    "                targets \n",
    "        \"\"\"\n",
    "        pred = self.predict(X)\n",
    "        return (pred == y).mean()\n",
    "    "
   ]
  },
  {
   "cell_type": "code",
   "execution_count": null,
   "metadata": {},
   "outputs": [],
   "source": []
  },
  {
   "cell_type": "markdown",
   "metadata": {},
   "source": [
    "3. **Instanciating the model and training**"
   ]
  },
  {
   "cell_type": "code",
   "execution_count": 4,
   "metadata": {
    "scrolled": true
   },
   "outputs": [
    {
     "name": "stdout",
     "output_type": "stream",
     "text": [
      "(200, 2) (200,)\n",
      "Standard Logistic Regression: Iter 0, Cost 0.6931471805599452\n",
      "Standard Logistic Regression: Iter 10, Cost 0.2542989009626561\n",
      "Standard Logistic Regression: Iter 20, Cost 0.1611625568957351\n",
      "Standard Logistic Regression: Iter 30, Cost 0.12225487791610239\n",
      "Standard Logistic Regression: Iter 40, Cost 0.10089747176280184\n",
      "Standard Logistic Regression: Iter 50, Cost 0.08738415505958798\n",
      "Standard Logistic Regression: Iter 60, Cost 0.07805888616671461\n",
      "Standard Logistic Regression: Iter 70, Cost 0.071237063883419\n",
      "Standard Logistic Regression: Iter 80, Cost 0.06603354206469617\n",
      "Standard Logistic Regression: Iter 90, Cost 0.06193802901054237\n",
      "Standard Logistic Regression: Iter 99, Cost 0.05893634539376782\n"
     ]
    }
   ],
   "source": [
    "my_clf = MyBinaryLogisticRegression(n_feats=2, n_iter=100, lr=0.1, r_lambda=0.01)\n",
    "print(X.shape, y.shape)\n",
    "my_clf.fit(X, y)"
   ]
  },
  {
   "cell_type": "markdown",
   "metadata": {},
   "source": [
    "4. **Plotting the decision boundary of the model**"
   ]
  },
  {
   "cell_type": "code",
   "execution_count": 5,
   "metadata": {
    "scrolled": true
   },
   "outputs": [],
   "source": [
    "def print_decision(X, clf, title=\"Decision Boundary\"):\n",
    "    plt.figure()\n",
    "    h = .02\n",
    "    x_min, x_max = X[:, 0].min() - .5, X[:, 0].max() + .5\n",
    "    y_min, y_max = X[:, 1].min() - .5, X[:, 1].max() + .5\n",
    "    xx, yy = np.meshgrid(np.arange(x_min, x_max, h),\n",
    "                         np.arange(y_min, y_max, h))\n",
    "\n",
    "    Z = clf.predict(np.c_[xx.ravel(), yy.ravel()])\n",
    "    Z = Z.reshape(xx.shape)\n",
    "\n",
    "    ax = plt.subplot(111)\n",
    "    ax.contourf(xx, yy, Z, alpha=.8)\n",
    "    plt.scatter(X[:, 0], X[:, 1], c=y, edgecolors='black', s=25) \n",
    "    plt.title(title)"
   ]
  },
  {
   "cell_type": "code",
   "execution_count": 6,
   "metadata": {},
   "outputs": [
    {
     "data": {
      "image/png": "[encoded data removed]",
      "text/plain": [
       "<Figure size 432x288 with 1 Axes>"
      ]
     },
     "metadata": {
      "needs_background": "light"
     },
     "output_type": "display_data"
    }
   ],
   "source": [
    "print_decision(X, my_clf)"
   ]
  },
  {
   "cell_type": "markdown",
   "metadata": {},
   "source": [
    "### 1.3 The regularized Log-Likelihood as loss function"
   ]
  },
  {
   "cell_type": "markdown",
   "metadata": {},
   "source": [
    "The **regularized** logistic regression loss function consists in assuming that the parameters follow a certain *a priori* distribution.\n",
    "\n",
    "We then used the **maximum a posteriori (MAP)** estimation to derive the final loss function.\n",
    "\n",
    "Let $p(\\theta)$ be the *a priori*.\n",
    "\n",
    "The goal is to minimize\n",
    "$$\n",
    "\\begin{equation}\n",
    "    \\begin{split} \n",
    "        \\mathcal{L}(\\theta) &= - \\log L(\\theta)p(\\theta), \\\\\n",
    "        &= - \\log L(\\theta) - \\log p(\\theta).\n",
    "    \\end{split}\n",
    "\\end{equation}\n",
    "$$"
   ]
  },
  {
   "cell_type": "markdown",
   "metadata": {},
   "source": [
    "1. The $\\ell_2$ regularization: the *a priori* is given by ($p$ follows a normal distribution): $$p(\\theta = \\{\\mathbf{w}\\}) = exp( - \\lambda \\|\\mathbf{w}\\|_2^2)$$\n",
    "2. The $\\ell_1$ regularization: the *a priori* is given by ($p$ follows a laplacian distribution): $$p(\\theta = \\{\\mathbf{w}\\}) = exp( - \\lambda \\|\\mathbf{w}\\|_1)$$"
   ]
  },
  {
   "cell_type": "markdown",
   "metadata": {},
   "source": [
    "Therefore, depending on the *a priori* the regularized loss is given by\n",
    "1. for the $\\ell_2$ regularization: \n",
    "$$ \\mathcal{L}(\\theta)  = \\overbrace{ -\\frac{1}{n}\\sum_{i=1}^n y_i \\log f(\\mathbf{x}_i; \\theta) + (1-y_i) \\log (1 - f(\\mathbf{x}_i; \\theta))}^{\\text{negative log-likelihood}} + \\lambda \\underbrace{\\|\\mathbf{w}\\|_2^2}_{\\ell_2-\\text{regularization}},$$\n",
    "2. for the $\\ell_1$ regularization:  $$ \\mathcal{L}(\\theta)  = \\overbrace{ -\\frac{1}{n}\\sum_{i=1}^n y_i \\log f(\\mathbf{x}_i; \\theta) + (1-y_i) \\log (1 - f(\\mathbf{x}_i; \\theta))}^{\\text{negative log-likelihood}} + \\lambda \\underbrace{\\|\\mathbf{w}\\|_1}_{\\ell_1-\\text{regularization}}, $$\n",
    "where $\\lambda \\in \\mathbb{R}$ balances the importance of the terms. \n",
    "\n",
    "> Note that, the above two equations can be rewritten as \n",
    "$$ \\mathcal{L}(\\theta)  =  \\overbrace{ -\\frac{C}{n}\\sum_{i=1}^n y_i \\log f(\\mathbf{x}_i; \\theta) + (1-y_i) \\log (1 - f(\\mathbf{x}_i; \\theta))}^{\\text{negative log-likelihood}} + \\underbrace{\\phi(\\theta)}_{\\text{regularization }(\\ell_2, \\ell_1)}, $$ \n",
    "where $C \\in \\mathbb{R}$."
   ]
  },
  {
   "cell_type": "markdown",
   "metadata": {},
   "source": [
    "#### Example using the scikit-learn model"
   ]
  },
  {
   "cell_type": "code",
   "execution_count": 7,
   "metadata": {},
   "outputs": [],
   "source": [
    "from sklearn.linear_model import LogisticRegression"
   ]
  },
  {
   "cell_type": "code",
   "execution_count": 8,
   "metadata": {},
   "outputs": [
    {
     "data": {
      "text/plain": [
       "LogisticRegression(C=0.5, class_weight=None, dual=False, fit_intercept=True,\n",
       "                   intercept_scaling=1, l1_ratio=None, max_iter=100,\n",
       "                   multi_class='auto', n_jobs=None, penalty='l2',\n",
       "                   random_state=None, solver='lbfgs', tol=0.1, verbose=0,\n",
       "                   warm_start=False)"
      ]
     },
     "execution_count": 8,
     "metadata": {},
     "output_type": "execute_result"
    }
   ],
   "source": [
    "clf = LogisticRegression(C=50. / 100 , penalty='l2', tol=0.1)\n",
    "clf.fit(X, y)"
   ]
  },
  {
   "cell_type": "code",
   "execution_count": 9,
   "metadata": {},
   "outputs": [
    {
     "name": "stdout",
     "output_type": "stream",
     "text": [
      "score: 1.0, sparsity: 0.0 \n"
     ]
    },
    {
     "data": {
      "image/png": "[encoded data removed]",
      "text/plain": [
       "<Figure size 432x288 with 1 Axes>"
      ]
     },
     "metadata": {
      "needs_background": "light"
     },
     "output_type": "display_data"
    }
   ],
   "source": [
    "print_decision(X, clf)\n",
    "print(\"score: {}, sparsity: {} \".format(clf.score(X, y), np.mean(clf.coef_ == 0) * 100))"
   ]
  },
  {
   "cell_type": "markdown",
   "metadata": {},
   "source": [
    "## 2. Multi-class classification"
   ]
  },
  {
   "cell_type": "markdown",
   "metadata": {},
   "source": [
    "In this section, let $\\mathcal{D} = \\{(\\mathbf{x}_i \\in \\mathbb{R}^d, \\mathbf{y_i} \\in \\{0, 1\\}^{C})\\}_{i=1}^n$ be our training dataset, where $C$ is the number of classes. The samples are **i.i.d**."
   ]
  },
  {
   "cell_type": "markdown",
   "metadata": {},
   "source": [
    "<img src=\"images/binary_vs_multi_classif.png\" width=\"90%\"/>"
   ]
  },
  {
   "cell_type": "markdown",
   "metadata": {},
   "source": [
    "### 2.1 Formulation"
   ]
  },
  {
   "cell_type": "markdown",
   "metadata": {},
   "source": [
    "In the case of multi-class tasks, the multinomial logistic regression can be used (*a.k.a.* **softmax regression**). The probability to obtain the class $c$ given an input $\\mathbf{x}$ is given by\n",
    "$$f(\\mathbf{x}; \\theta)[c] = p(y = c | \\mathbf{x}; \\theta) = \\frac{exp( \\mathbf{x}^T\\mathbf{w}^{(c)} + b^{(c)})}{\\sum_{k=1}^C exp( \\mathbf{x}^T\\mathbf{w}^{(k)} + b^{(k)})}, $$\n",
    "where $(\\mathbf{w}^{(k)}, b^{(k)})$ are the parameter set dedicated to the $k$-th class."
   ]
  },
  {
   "cell_type": "markdown",
   "metadata": {},
   "source": [
    "> Another way of working with multi-class data is to use a **one-versus-all** strategy. In other words, for each class, $c$, we train a binary logistic regressor where we label $c$ as $1$ and the other classes as $0$. And, at test time, we consider the argmax across all the regressors."
   ]
  },
  {
   "cell_type": "markdown",
   "metadata": {},
   "source": [
    "Notice that we can retrieve the binary formulation from the multinomial definition. Say we have two class 0 and 1, then \n",
    "$p(y = 1 | \\mathbf{x}; \\theta) = \\frac{exp\\big( \\mathbf{x}^T\\mathbf{w}^{(1)} + b^{(1)}\\big)}{ exp\\big(\\mathbf{x}^T\\mathbf{w}^{(1)} + b^{(1)}\\big) + exp\\big( \\mathbf{x}^T\\mathbf{w}^{(0)} + b^{(0)}\\big)} = \\frac{1 }{1 + exp\\Big( \\big( \\mathbf{x}^T\\mathbf{w}^{(0)} + b^{(0)} \\big) - \\big(\\mathbf{x}^T\\mathbf{w}^{(1)} + b^{(1)}\\big) \\Big)} = \\frac{1 }{1 + exp \\Big(  \\mathbf{x}^T \\big(\\mathbf{w}^{(0)} - \\mathbf{w}^{(1)} \\big) +  \\big(b^{(0)} -  b^{(1)}\\big) \\Big)}.$"
   ]
  },
  {
   "cell_type": "markdown",
   "metadata": {},
   "source": [
    "> **N.B.**: The sofmax function is defined as \n",
    "$ \\mathbf{t} \\in \\mathbf{R}^C \\mapsto \\text{softmax} (\\mathbf{t}) = \\frac{1 }{\\sum_{k=1}^C e^{\\mathbf{t}[k]}}\\Big[e^{ \\mathbf{t}[1]}, e^{ \\mathbf{t}[2]}, \\cdots, e^{ \\mathbf{t}[C] }\\Big] $"
   ]
  },
  {
   "cell_type": "markdown",
   "metadata": {},
   "source": [
    "#### 2.1.2 The Loss function"
   ]
  },
  {
   "cell_type": "markdown",
   "metadata": {},
   "source": [
    "Given a data point $\\mathbf{x}$, the likelihood is given by\n",
    "$$\n",
    " L(\\theta) = p(y|\\mathbf{x}; \\theta) = \\Pi_{k=1}^C p(y = k|\\mathbf{x}; \\theta)^{\\mathbb{1}\\{y=k\\}},\n",
    "$$\n",
    "\n",
    "where $\\mathbb{1}\\{\\cdot\\}$ is the indicator function.\n",
    "\n",
    "And the negative log-likelihood, our multi-class loss function, is\n",
    "$$\n",
    " \\mathcal{L}(\\theta) = -\\log L(\\theta) = p(y|\\mathbf{x}; \\theta) = - \\sum_{k=1}^C {\\mathbb{1}\\{y=k\\}} \\log p(y = k|\\mathbf{x}; \\theta).\n",
    "$$"
   ]
  },
  {
   "cell_type": "markdown",
   "metadata": {},
   "source": [
    "> Note we can add an additional regularization term. Using the same derivation given in the binary logistic section, we obtain the new regularized loss as\n",
    "$$\n",
    " \\mathcal{L}(\\theta) = -\\log L(\\theta) p(\\theta) = - \\sum_{k=1}^C {\\mathbb{1}\\{y=k\\}} \\log p(y = k|\\mathbf{x}; \\theta) + \\lambda \\phi(\\theta),\n",
    "$$\n",
    "where $\\phi$ can be any regularization function including the $\\ell_2$-norm or the $\\ell_1$-norm."
   ]
  },
  {
   "cell_type": "markdown",
   "metadata": {},
   "source": [
    "The gradient w.r.t. to the $c$-th parameter $\\mathbf{w}^{(c)}$ is\n",
    "$$\n",
    "\\begin{equation}\n",
    "    \\begin{split} \n",
    "         \\nabla_{\\mathbf{w}^{(c)}} - \\log L(\\theta) &= - \\nabla_{\\mathbf{w}^{(c)}}  \\Big(\\sum_{k=1}^C {\\mathbb{1}\\{y=k\\}} \\log p(y = k|\\mathbf{x}; \\theta) \\Big),\\\\\n",
    "         &= -  \\big( {\\mathbb{1}\\{y=c\\}} \\frac{1}{p(y = c|\\mathbf{x}; \\theta)} \\big) \\nabla_{\\mathbf{w}^{(k)}} p(y = c|\\mathbf{x}; \\theta) ,\\\\\n",
    "         &= -  \\big( {\\mathbb{1}\\{y=c\\}} \\frac{1}{p(y = c|\\mathbf{x}; \\theta)} \\big) \\nabla_{\\mathbf{w}^{(k)}} \\frac{exp( \\mathbf{x}^T\\mathbf{w}^{(c)} + b^{(c)})}{\\sum_{k=1}^C exp( \\mathbf{x}^T\\mathbf{w}^{(k)} + b^{(k)})} ,\\\\\n",
    "         &= -  \\big( {\\mathbb{1}\\{y=c\\}} \\frac{1}{p(y = c|\\mathbf{x}; \\theta)} \\big)\\frac{\\nabla_{\\mathbf{w}^{(k)}} \\big( exp( \\mathbf{x}^T\\mathbf{w}^{(c)} + b^{(c)}) \\big)\\sum_{k=1}^C exp( \\mathbf{x}^T\\mathbf{w}^{(k)} + b^{(k)}) -  exp(  \\mathbf{x}^T\\mathbf{w}^{(c)} + b^{(c)})\\nabla_{\\mathbf{w}^{(k)}} \\big( exp( \\mathbf{x}^T\\mathbf{w}^{(c)} + b^{(c)}) }{\\big(\\sum_{k=1}^C exp( \\mathbf{x}^T\\mathbf{w}^{(k)} + b^{(k)}) \\big)^2} ,\\\\\n",
    "         &= -  \\big( {\\mathbb{1}\\{y=c\\}} \\frac{1}{p(y = c|\\mathbf{x}; \\theta)} \\big)  \\frac{\\mathbf{x} \\big( exp( \\mathbf{x}^T\\mathbf{w}^{(c)} + b^{(c)}) \\big)\\sum_{k=1}^C exp( \\mathbf{x}^T\\mathbf{w}^{(k)} + b^{(k)}) -  exp(  \\mathbf{x}^T\\mathbf{w}^{(c)} + b^{(c)})^2 \\mathbf{x}}{\\big(\\sum_{k=1}^C exp( \\mathbf{x}^T\\mathbf{w}^{(k)} + b^{(k)}) \\big)^2} ,\\\\\n",
    "         &= -  \\big( {\\mathbb{1}\\{y=c\\}} \\frac{1}{p(y = c|\\mathbf{x}; \\theta)} \\big) \\big( \\mathbf{x} p(y = c|\\mathbf{x}; \\theta) - p(y = c|\\mathbf{x}; \\theta)^2\\mathbf{x} \\big) ,\\\\\n",
    "         &=-\\big({\\mathbb{1}\\{y=c\\}} +  p(y = c|\\mathbf{x}; \\theta) \\big) \\mathbf{x}.\n",
    "    \\end{split}\n",
    "\\end{equation}\n",
    "$$"
   ]
  },
  {
   "cell_type": "markdown",
   "metadata": {},
   "source": [
    "### 2.2 Example  (MNIST: handwritten digits classification)"
   ]
  },
  {
   "cell_type": "markdown",
   "metadata": {},
   "source": [
    "The main objective is to predict the digit inside an input image.\n",
    "<img src=\"images/mnist_goal.png\" width=\"40%\">"
   ]
  },
  {
   "cell_type": "markdown",
   "metadata": {},
   "source": [
    "The practical workflow is depicted below. \n",
    "\n",
    "1. Flattening the image to obtain a vector (*a.k.a* the **the feature vector**)\n",
    "2. Applying the model\n",
    "3. Using the argmax to retrieve the final output\n",
    "\n",
    "<img src=\"images/mnist_practical.png\" width=\"40%\">"
   ]
  },
  {
   "cell_type": "markdown",
   "metadata": {},
   "source": [
    "#### Import the important libraries\n",
    "- **fetch_openml** will be used to retrieve the dataset\n",
    "- **LogisticRegression** is the scikit-learn class for this type of model\n",
    "- **train_test_split** is used to split dataset into 2 folds (train and test) eventually 3 with additional validation set\n",
    "- **StandardScaler** is used to normalize the data by substracting the mean and dividing by the variance\n",
    "- **check_random_state** is used to randomly permutate the data"
   ]
  },
  {
   "cell_type": "code",
   "execution_count": 10,
   "metadata": {},
   "outputs": [],
   "source": [
    "import time\n",
    "import matplotlib.pyplot as plt\n",
    "import numpy as np\n",
    "\n",
    "from sklearn.datasets import fetch_openml\n",
    "from sklearn.linear_model import LogisticRegression\n",
    "from sklearn.model_selection import train_test_split\n",
    "from sklearn.preprocessing import StandardScaler\n",
    "from sklearn.utils import check_random_state\n"
   ]
  },
  {
   "cell_type": "markdown",
   "metadata": {},
   "source": [
    "#### We fix the number of training sample "
   ]
  },
  {
   "cell_type": "code",
   "execution_count": 11,
   "metadata": {},
   "outputs": [],
   "source": [
    "train_samples = 5000"
   ]
  },
  {
   "cell_type": "markdown",
   "metadata": {},
   "source": [
    "#### Data acquisition and preprocesing\n",
    "1. Load the MNIST data from https://www.openml.org/d/554\n",
    "2. Shuffling the data randomly\n",
    "3. Splitting the data into **Train** and **Test** sets\n",
    "4. Normalizing the data"
   ]
  },
  {
   "cell_type": "code",
   "execution_count": 12,
   "metadata": {},
   "outputs": [],
   "source": [
    "# Loading the images\n",
    "X, y = fetch_openml('mnist_784', version=1, return_X_y=True)\n",
    "\n",
    "# shuffling part\n",
    "random_state = check_random_state(0)\n",
    "permutation = random_state.permutation(X.shape[0])\n",
    "X = X[permutation]\n",
    "y = y[permutation]\n",
    "X = X.reshape((X.shape[0], -1))\n",
    "\n",
    "# data splitting\n",
    "X_train, X_test, y_train, y_test = train_test_split(\n",
    "    X, y, train_size=train_samples, test_size=10000)\n",
    "\n",
    "# Normalization\n",
    "scaler = StandardScaler()\n",
    "X_train = scaler.fit_transform(X_train)\n",
    "X_test = scaler.transform(X_test)\n"
   ]
  },
  {
   "cell_type": "markdown",
   "metadata": {},
   "source": [
    "#### Initializing the classifier"
   ]
  },
  {
   "cell_type": "code",
   "execution_count": 13,
   "metadata": {},
   "outputs": [],
   "source": [
    "# Turn up tolerance for faster convergence\n",
    "clf = LogisticRegression(\n",
    "    C=50. / train_samples, penalty='l2', solver='saga', tol=0.1\n",
    ")"
   ]
  },
  {
   "cell_type": "markdown",
   "metadata": {},
   "source": [
    "#### Training the classifier"
   ]
  },
  {
   "cell_type": "code",
   "execution_count": 14,
   "metadata": {},
   "outputs": [
    {
     "data": {
      "text/plain": [
       "LogisticRegression(C=0.01, class_weight=None, dual=False, fit_intercept=True,\n",
       "                   intercept_scaling=1, l1_ratio=None, max_iter=100,\n",
       "                   multi_class='auto', n_jobs=None, penalty='l2',\n",
       "                   random_state=None, solver='saga', tol=0.1, verbose=0,\n",
       "                   warm_start=False)"
      ]
     },
     "execution_count": 14,
     "metadata": {},
     "output_type": "execute_result"
    }
   ],
   "source": [
    "clf.fit(X_train, y_train)"
   ]
  },
  {
   "cell_type": "markdown",
   "metadata": {},
   "source": [
    "#### Printing some metrics:\n",
    "- The sparsity level\n",
    "- The Test score"
   ]
  },
  {
   "cell_type": "code",
   "execution_count": 15,
   "metadata": {},
   "outputs": [
    {
     "name": "stdout",
     "output_type": "stream",
     "text": [
      "Sparsity with L1 penalty: 16.84%\n",
      "Test score with L1 penalty: 0.8668\n"
     ]
    }
   ],
   "source": [
    "sparsity = np.mean(clf.coef_ == 0) * 100\n",
    "score = clf.score(X_test, y_test)\n",
    "# print('Best C % .4f' % clf.C_)\n",
    "print(\"Sparsity with L1 penalty: %.2f%%\" % sparsity)\n",
    "print(\"Test score with L1 penalty: %.4f\" % score)"
   ]
  },
  {
   "cell_type": "markdown",
   "metadata": {},
   "source": [
    "**Plotting some test images and there predictions**"
   ]
  },
  {
   "cell_type": "code",
   "execution_count": 16,
   "metadata": {},
   "outputs": [
    {
     "data": {
      "image/png": "[encoded data removed]",
      "text/plain": [
       "<Figure size 720x360 with 10 Axes>"
      ]
     },
     "metadata": {},
     "output_type": "display_data"
    }
   ],
   "source": [
    "coef = clf.coef_.copy()\n",
    "plt.figure(figsize=(10, 5))\n",
    "scale = np.abs(coef).max()\n",
    "for i in range(10):\n",
    "    pred_plot = plt.subplot(2, 5, i + 1)\n",
    "    \n",
    "    pred = clf.predict(X_test[i:i+1])\n",
    "    \n",
    "    pred_plot.imshow(X_test[i].reshape(28, 28), interpolation='nearest', \n",
    "                     cmap=plt.cm.gray, vmin=-scale, vmax=scale)\n",
    "    pred_plot.set_xticks(())\n",
    "    pred_plot.set_yticks(())\n",
    "    pred_plot.set_xlabel('Pred: %s, True: %s' %(int(pred[0]), y_test[i]))\n",
    "plt.suptitle('Classification vector for...')\n",
    "plt.show()"
   ]
  },
  {
   "cell_type": "markdown",
   "metadata": {},
   "source": [
    "#### Plotting the learned parameters"
   ]
  },
  {
   "cell_type": "code",
   "execution_count": 17,
   "metadata": {
    "scrolled": true
   },
   "outputs": [],
   "source": [
    "def plot_coefs(coef, title='Classification vector for...'):\n",
    "    plt.figure(figsize=(10, 5))\n",
    "    scale = np.abs(coef).max()\n",
    "    for i in range(10):\n",
    "        l1_plot = plt.subplot(2, 5, i + 1)\n",
    "        l1_plot.imshow(coef[i].reshape(28, 28), interpolation='nearest',\n",
    "                       cmap=plt.cm.RdBu, vmin=-scale, vmax=scale)\n",
    "        l1_plot.set_xticks(())\n",
    "        l1_plot.set_yticks(())\n",
    "        l1_plot.set_xlabel('Class %i' % i)\n",
    "    plt.suptitle(title)\n",
    "    plt.show()"
   ]
  },
  {
   "cell_type": "code",
   "execution_count": 18,
   "metadata": {},
   "outputs": [
    {
     "data": {
      "image/png": "[encoded data removed]",
      "text/plain": [
       "<Figure size 720x360 with 10 Axes>"
      ]
     },
     "metadata": {},
     "output_type": "display_data"
    }
   ],
   "source": [
    "plot_coefs(clf.coef_.copy(), title='Classification vectors learned by \"Scikit-Learn\"')"
   ]
  },
  {
   "cell_type": "markdown",
   "metadata": {},
   "source": [
    "### 2.3 Coding a Multi-Class Logistic Regressor  (test on MNIST)"
   ]
  },
  {
   "cell_type": "code",
   "execution_count": 19,
   "metadata": {},
   "outputs": [],
   "source": [
    "class MyMultiClassLogisticRegression:\n",
    "    def __init__(self, n_iter, lr, regul=\"l2\", r_lambda=0.1):\n",
    "        \"\"\"\n",
    "        A class for multiclass logistic regression model\n",
    "         \n",
    "        n_iter: (integer)\n",
    "            Number of training iteration\n",
    "        lr: (float)\n",
    "            learning rate  \n",
    "        \"\"\"\n",
    "        \n",
    "        self.n_iter = n_iter\n",
    "        self.lr = lr\n",
    "        self.regul = regul\n",
    "        self.r_lambda = r_lambda \n",
    "        \n",
    "        self.losses = []\n",
    "        self.grads = []\n",
    "    \n",
    "    def init_params(self, n_feats, n_class):\n",
    "        self.W = np.zeros((n_class, n_feats))\n",
    "        self.b = np.zeros(n_class)\n",
    "\n",
    "    def _optimize(self, X, y):\n",
    "        \"\"\"\n",
    "            Computing the loss and the gradients\n",
    "            \n",
    "            X: (array, n_samples x n_feats)\n",
    "                data matrix\n",
    "            y: (array, n_samples x n_class)\n",
    "                one-hot endoded representation for each target \n",
    "        \"\"\"\n",
    "        m = X.shape[0]\n",
    "\n",
    "        # cost function\n",
    "        probs = self.activation(X) \n",
    "        cost = (-1/m)*np.sum(y*np.log(probs))\n",
    "        \n",
    "        # ( \\mathbb{1}\\{y=c\\} +  f(\\mathbf{x}; \\theta)[c] ) \\mathbf{x}\n",
    "        # computing the gradient \n",
    "        dw = []; db = []\n",
    "        for i in range(self.W.shape[0]):\n",
    "            dw.append(-(1/m) * (np.dot((probs[:, i] + y[:, i]), X)))  \n",
    "            \n",
    "            if self.regul=='l2':\n",
    "                dw[-1] += 2*self.r_lambda*self.W[i] # adding l2 regularization\n",
    "            elif self.regul == 'l1':\n",
    "                dw[-1] += self.r_lambda*np.sign(self.W[i]) # adding l1 regularization\n",
    "                \n",
    "            db.append(-(1/m) * np.sum(probs[:, i] - y[:, i]) )\n",
    "\n",
    "        grads = {\"dLdw\": np.array(dw), \"dLdb\": np.array(db)}\n",
    "\n",
    "        return grads, cost\n",
    "\n",
    "    def activation(self, X):      \n",
    "        vect_of_eponents = np.exp(np.dot(X, self.W.T) + self.b) \n",
    "        return vect_of_eponents/ np.tile(np.sum(vect_of_eponents, 1), (self.W.shape[0],1)).T\n",
    "    \n",
    "    def one_hot_encode(self, y):\n",
    "        v = np.zeros((y.size, len(np.unique(y))))\n",
    "        v[np.arange(y.size), y.astype(int)] = 1\n",
    "        return v\n",
    "    \n",
    "    def fit(self, X, y):\n",
    "        \"\"\"\n",
    "            Training the model\n",
    "            \n",
    "            X: (array, n_samples x n_feats)\n",
    "                data matrix\n",
    "            y: (array, n_samples)\n",
    "                targets \n",
    "        \"\"\"\n",
    "        self.init_params(X.shape[1], len(np.unique(y)))\n",
    "        one_hot_labels = self.one_hot_encode(y) \n",
    "        \n",
    "        for i in range(self.n_iter):\n",
    "            grads, cost = self._optimize(X, one_hot_labels)\n",
    "            #\n",
    "            dLdw = grads['dLdw']\n",
    "            dLdb = grads['dLdb']\n",
    "            \n",
    "            # gradient descent\n",
    "            self.W = self.W - self.lr * dLdw\n",
    "            self.b = self.b - self.lr * dLdb\n",
    "            \n",
    "            self.losses.append(cost)\n",
    "            self.grads.append(grads)\n",
    "            if (i % 10 == 0):\n",
    "                print(\"Multiclass Logistic Regression: Iter {}, Cost {}\".format(i, cost))\n",
    "            \n",
    "        print(\"Multiclass Logistic Regression: Iter {}, Cost {}\".format(i, cost))\n",
    "    \n",
    "    def predict(self, X):\n",
    "        \"\"\"\n",
    "            Predicting the discrete labels\n",
    "            \n",
    "            X: (array, n_samples x n_feats)\n",
    "                data matrix \n",
    "        \"\"\"\n",
    "        activ = self.activation(X)\n",
    "        return np.argmax(activ, 1)\n",
    "    \n",
    "    def predict_proba(self, X):\n",
    "        \n",
    "        \"\"\"\n",
    "            Predicting the probabilities\n",
    "\n",
    "            X: (array, n_samples x n_feats)\n",
    "                data matrix \n",
    "        \"\"\"\n",
    "        return self.activation(X) \n",
    "    \n",
    "    def score(self, X, y): \n",
    "        \"\"\"\n",
    "            computing the accuracy of the model\n",
    "            \n",
    "            X: (array, n_samples x n_feats)\n",
    "                data matrix\n",
    "            y: (array, n_sample)\n",
    "                targets \n",
    "        \"\"\"\n",
    "        pred = self.predict(X)\n",
    "        return (pred == y).mean()\n",
    "    "
   ]
  },
  {
   "cell_type": "code",
   "execution_count": 20,
   "metadata": {},
   "outputs": [],
   "source": [
    "my_mclr = MyMultiClassLogisticRegression(n_iter=100, lr=0.001, regul=\"l2\", r_lambda=0.1)"
   ]
  },
  {
   "cell_type": "code",
   "execution_count": 21,
   "metadata": {
    "scrolled": true
   },
   "outputs": [
    {
     "name": "stdout",
     "output_type": "stream",
     "text": [
      "(5000, 784) (5000,)\n",
      "Multiclass Logistic Regression: Iter 0, Cost 2.3025850929940455\n",
      "Multiclass Logistic Regression: Iter 10, Cost 2.2203370802842803\n",
      "Multiclass Logistic Regression: Iter 20, Cost 2.1384004272995054\n",
      "Multiclass Logistic Regression: Iter 30, Cost 2.0569581768019587\n",
      "Multiclass Logistic Regression: Iter 40, Cost 1.9762544234701427\n",
      "Multiclass Logistic Regression: Iter 50, Cost 1.8966116017552497\n",
      "Multiclass Logistic Regression: Iter 60, Cost 1.818443180574398\n",
      "Multiclass Logistic Regression: Iter 70, Cost 1.7422508208117835\n",
      "Multiclass Logistic Regression: Iter 80, Cost 1.6685949187138176\n",
      "Multiclass Logistic Regression: Iter 90, Cost 1.5980382667030246\n",
      "Multiclass Logistic Regression: Iter 99, Cost 1.5376024663994716\n"
     ]
    }
   ],
   "source": [
    "print(X_train.shape, y_train.shape)\n",
    "my_mclr.fit(X_train, y_train.astype(int))"
   ]
  },
  {
   "cell_type": "code",
   "execution_count": 22,
   "metadata": {},
   "outputs": [
    {
     "name": "stdout",
     "output_type": "stream",
     "text": [
      "Sparsity: 16.84%\n",
      "Test score: 0.7101\n"
     ]
    }
   ],
   "source": [
    "sparsity = np.mean(my_mclr.W == 0) * 100\n",
    "score = my_mclr.score(X_test, y_test.astype(int))\n",
    "\n",
    "print(\"Sparsity: %.2f%%\" % sparsity)\n",
    "print(\"Test score: %.4f\" % score)"
   ]
  },
  {
   "cell_type": "code",
   "execution_count": 23,
   "metadata": {},
   "outputs": [
    {
     "data": {
      "image/png": "[encoded data removed]",
      "text/plain": [
       "<Figure size 720x360 with 10 Axes>"
      ]
     },
     "metadata": {},
     "output_type": "display_data"
    }
   ],
   "source": [
    "plot_coefs(my_mclr.W.copy(), title='Classification vectors learned by \"MyMultiClassLogisticRegression\"')"
   ]
  },
  {
   "cell_type": "code",
   "execution_count": 24,
   "metadata": {},
   "outputs": [
    {
     "name": "stdout",
     "output_type": "stream",
     "text": [
      "Multiclass Logistic Regression: Iter 0, Cost 1.3862943611198904\n",
      "Multiclass Logistic Regression: Iter 10, Cost 1.3644986577538774\n",
      "Multiclass Logistic Regression: Iter 20, Cost 1.3427532376185332\n",
      "Multiclass Logistic Regression: Iter 30, Cost 1.321064955283582\n",
      "Multiclass Logistic Regression: Iter 40, Cost 1.2994408667181148\n",
      "Multiclass Logistic Regression: Iter 50, Cost 1.2778882199677493\n",
      "Multiclass Logistic Regression: Iter 60, Cost 1.2564144442885337\n",
      "Multiclass Logistic Regression: Iter 70, Cost 1.2350271377010305\n",
      "Multiclass Logistic Regression: Iter 80, Cost 1.2137340529422136\n",
      "Multiclass Logistic Regression: Iter 90, Cost 1.1925430818088123\n",
      "Multiclass Logistic Regression: Iter 99, Cost 1.1735651359629335\n"
     ]
    },
    {
     "data": {
      "image/png": "[encoded data removed]",
      "text/plain": [
       "<Figure size 432x288 with 1 Axes>"
      ]
     },
     "metadata": {
      "needs_background": "light"
     },
     "output_type": "display_data"
    }
   ],
   "source": [
    "from sklearn.datasets import make_classification\n",
    "X, y = make_classification(n_samples=200, n_classes=4, n_features=2, n_redundant=0, n_informative=2,\n",
    "                           random_state=0, n_clusters_per_class=1, class_sep=2.0)\n",
    "#plt.scatter(X[:, 0], X[:, 1], c=y, edgecolors='black', s=25) \n",
    "my_mclr.fit(X, y)\n",
    "print_decision(X, my_mclr)"
   ]
  },
  {
   "cell_type": "markdown",
   "metadata": {},
   "source": [
    "## 3. Linear Support Vector Machine (SVM)"
   ]
  },
  {
   "cell_type": "markdown",
   "metadata": {},
   "source": [
    "In this section, let $\\mathcal{D} = \\{(\\mathbf{x}_i \\in \\mathbb{R}^d, y_i \\in \\{-1, 1\\})\\}_{i=1}^n$ be our training dataset. The samples are **i.i.d**."
   ]
  },
  {
   "cell_type": "markdown",
   "metadata": {},
   "source": [
    "> Recall that in the Logistic regression model, the prediction function was defined using the sigmoid as **activation** function: $$ \\mathbf{x} \\mapsto f(\\mathbf{x}; \\theta=\\{\\mathbf{w}, b\\}) = \\frac{1}{1 + exp( -( \\mathbf{x}^T\\mathbf{w} + b))} \\overset{\\text{def}}{=} sigmoid( \\langle \\mathbf{x}, \\mathbf{w} \\rangle + b)).$$\n",
    "\n",
    "In this section, we will use the sign function as activation function: \n",
    "$$ \\mathbf{x} \\mapsto f(\\mathbf{x}; \\theta=\\{\\mathbf{w}, b\\}) = sign(\\langle \\mathbf{x}, \\mathbf{w} \\rangle + b).$$"
   ]
  },
  {
   "cell_type": "markdown",
   "metadata": {},
   "source": [
    "Therefore, the sample $\\mathbf{x}_i$ is well classified iif $y_i (\\langle x, w \\rangle + b ) \\ge 1$."
   ]
  },
  {
   "cell_type": "markdown",
   "metadata": {},
   "source": [
    "We have seen that the Logistic Regression model can be used to find a hyperplane that separates the data. "
   ]
  },
  {
   "cell_type": "markdown",
   "metadata": {},
   "source": [
    "> However, we can notice that, actually have infinite number of hyperplanes that work fine on the dataset. The question is which one to choose?"
   ]
  },
  {
   "cell_type": "markdown",
   "metadata": {},
   "source": [
    "> The idea introduce by Vapnik, in the 90's, is to say a good hyperplane should be robust to small perturbations in the training set. \n",
    "\n",
    ">In other words, we should maximize the so called **margin** defined as the minimum distance between all the samples and the hyperplane. See the figure below for illustration."
   ]
  },
  {
   "cell_type": "markdown",
   "metadata": {},
   "source": [
    "<img src=\"images/intro_to_margin.png\">"
   ]
  },
  {
   "cell_type": "markdown",
   "metadata": {},
   "source": [
    "### 3.1 Hard SVM"
   ]
  },
  {
   "cell_type": "markdown",
   "metadata": {},
   "source": [
    "Suppose our dataset is **separable**, that is, there exists a hyperplane that perfectly seperate the classes."
   ]
  },
  {
   "cell_type": "markdown",
   "metadata": {},
   "source": [
    "In such separable case, let $\\mathbf{x}_1$  be one of the closest positively labeled (with $y_1 = 1$) points to the hyperplane (if not the closest) and $\\mathbf{x}_2$ is chosen similarly among the negatively labeled points. "
   ]
  },
  {
   "cell_type": "markdown",
   "metadata": {},
   "source": [
    "Upon normalizing with a constant, we can write\n",
    "$$\n",
    "\\begin{equation}\n",
    "\\begin{split}\n",
    "    \\langle \\mathbf{x}_1, \\mathbf{w} \\rangle + b &= 1, \\\\\n",
    "    \\langle \\mathbf{x}_2, \\mathbf{w} \\rangle + b &= -1. \\\\\n",
    "\\end{split}\n",
    "\\end{equation}\n",
    "$$"
   ]
  },
  {
   "cell_type": "markdown",
   "metadata": {},
   "source": [
    "<img src=\"images/hard_svm.png\">"
   ]
  },
  {
   "cell_type": "markdown",
   "metadata": {},
   "source": [
    "**Note**: The samples that satifies $y_i  \\langle \\mathbf{x}_i , \\mathbf{w} \\rangle + b = 1 $ are the so called **support vectors**. "
   ]
  },
  {
   "cell_type": "markdown",
   "metadata": {},
   "source": [
    "Using the notation given in the above Figure, we have:\n",
    "$$\n",
    "\\begin{equation}\n",
    "\\begin{split}\n",
    " \\langle \\frac{\\mathbf{w}}{\\|\\mathbf{w}\\|_2^2},  \\mathbf{x}_1 - \\mathbf{x}_2 \\rangle &= 2Margin = d, \\\\\n",
    "  \\langle\\mathbf{x}_1 - \\mathbf{x}_2 , \\mathbf{w} \\rangle &= 2, \\\\\n",
    "     &  \\Rightarrow Margin = \\frac{1}{\\|\\mathbf{w} \\|_2^2} & \\\\\n",
    "\\end{split}\n",
    "\\end{equation}\n",
    "$$"
   ]
  },
  {
   "cell_type": "markdown",
   "metadata": {},
   "source": [
    "Therefore, maximizing the margin is equivalent to minimizing the $\\ell_2$-norm of $\\mathbf{w}$."
   ]
  },
  {
   "cell_type": "markdown",
   "metadata": {},
   "source": [
    "> Finally, the (*primal*) hard SVM optimization problem is given by\n",
    "$$\n",
    "\\begin{equation}\n",
    "    \\begin{split}\n",
    "        \\text{minimize } & \\frac{1}{2} \\| \\mathbf{w}\\|_2^2  \\\\\n",
    "        & \\text{s.t.} \\quad 1 - y_i (\\langle \\mathbf{x}_i, \\mathbf{w} \\rangle + b) \\le 0 \\quad \\forall i \\in \\{1, \\cdots, n\\}.\n",
    "    \\end{split}\n",
    "\\end{equation}\n",
    "$$"
   ]
  },
  {
   "cell_type": "markdown",
   "metadata": {},
   "source": [
    "> And the Lagrangian $L_H$ of the Hard SVM is given by\n",
    "$$\n",
    "\\begin{equation} \n",
    "        L_H(\\mathbf{w}, b, \\alpha) =   \\frac{1}{2} \\| \\mathbf{w}\\|_2^2  + \\sum_{i=1}^n \\alpha_i\\big( 1 - y_i (\\langle \\mathbf{x}_i, \\mathbf{w} \\rangle + b) \\big),\n",
    "\\end{equation}\n",
    "$$where the $\\alpha_i$'s are the so called **Lagrangian multipliers**."
   ]
  },
  {
   "cell_type": "markdown",
   "metadata": {},
   "source": [
    "We can therefore solve this convex optimization problem. However, we made a strong assumption that the dataset is separable while in practice this is generally not the case. We shall now introduce the Soft SVM that handles this assumption issue."
   ]
  },
  {
   "cell_type": "markdown",
   "metadata": {},
   "source": [
    "### 3.2 Soft SVM"
   ]
  },
  {
   "cell_type": "markdown",
   "metadata": {},
   "source": [
    "Now we don't any separability conditions on the dataset, and our main goals are:\n",
    "1. maximize the margin\n",
    "2. minimize an error related to the number of wrongly classified samples"
   ]
  },
  {
   "cell_type": "markdown",
   "metadata": {},
   "source": [
    "Vapnik defined the error in the second point as: the distance needed to move wrongly classified point to get it on the correct side of the hyperplane."
   ]
  },
  {
   "cell_type": "markdown",
   "metadata": {},
   "source": [
    "To do so, we introduce new variables, $\\xi_i$ is the distance needed to move the $i$-th sample to the correct side of the hyperplane. Note that $\\xi_i = 0$ if the sample is well classified.  See the figure below for illustration."
   ]
  },
  {
   "cell_type": "markdown",
   "metadata": {},
   "source": [
    "<img src=\"images/soft_svm.png\">"
   ]
  },
  {
   "cell_type": "markdown",
   "metadata": {},
   "source": [
    "Formally, this consists in relaxing our constrains by adding the new variables. The new constrains are\n",
    "$$\n",
    "\\begin{equation}\n",
    "    \\begin{split}\n",
    "        y_i (\\langle \\mathbf{x}, \\mathbf{w} \\rangle + b) &\\ge 1 - \\xi_i \\quad \\forall i \\in \\{1, \\cdots, n\\},\\\\\n",
    "        \\xi_i &\\ge 0\n",
    "    \\end{split}\n",
    "\\end{equation}\n",
    "$$"
   ]
  },
  {
   "cell_type": "markdown",
   "metadata": {},
   "source": [
    "> The (*primal*) Soft SVM optimization problem is given by\n",
    "$$\n",
    "\\begin{equation}\n",
    "    \\begin{split}\n",
    "        \\underset{\\mathbf{w}, \\xi}{\\text{minimize }} && \\frac{1}{2} \\| \\mathbf{w}\\|_2^2  + C \\sum_{i=1}^n \\xi_i & \\\\\n",
    "        & \\text{s.t. } & \\quad 1 - y_i (\\langle \\mathbf{x}_i, \\mathbf{w} \\rangle + b) &\\le \\xi_i \\quad \\forall i \\in \\{1, \\cdots, n\\}\\\\\n",
    "        & &\\quad \\xi_i  \\ge 0 \\quad \\forall i \\in \\{1, \\cdots, n\\},\n",
    "    \\end{split}\n",
    "\\end{equation}\n",
    "$$ where $\\xi = [\\xi_1, \\cdots, \\xi_n]$."
   ]
  },
  {
   "cell_type": "markdown",
   "metadata": {},
   "source": [
    "Suppose $\\mathbf{w}$ and $b$ are fixed. We  want that, $ \\xi_i \\ge 1 - y_i (\\langle \\mathbf{x}_i, \\mathbf{w} \\rangle + b), \\ \\forall i$, and $\\xi_i \\ge 0$. Therefore, we have:\n",
    "$$\n",
    "\\xi_i = \\max \\big( 0, 1 - y_i (\\langle \\mathbf{x}_i, \\mathbf{w} \\rangle + b) \\big).\n",
    "$$"
   ]
  },
  {
   "cell_type": "markdown",
   "metadata": {},
   "source": [
    "> The final (*unconstrained*) Soft SVM optimization problem is \n",
    "$$\n",
    "\\underset{\\mathbf{w}, b}{\\text{minimize }} \\frac{1}{2} \\| \\mathbf{w}\\|_2^2  + C \\sum_{i=1}^n \\underbrace{\\max \\big( 0, 1 - y_i (\\langle \\mathbf{x}_i, \\mathbf{w} \\rangle + b) \\big)}_{\\text{The Hinge Loss}}.\n",
    "$$"
   ]
  },
  {
   "cell_type": "markdown",
   "metadata": {},
   "source": [
    "### 3.3 Optimization"
   ]
  },
  {
   "cell_type": "markdown",
   "metadata": {},
   "source": [
    "#### 3.3.1  Optmization of the unconstrained Soft SVM problem"
   ]
  },
  {
   "cell_type": "markdown",
   "metadata": {},
   "source": [
    "Let $\\mathcal{L}$ be our loss function: $$\\mathcal{L}(\\theta = \\{\\mathbf{w}, b\\}) = \\frac{1}{2} \\| \\mathbf{w}\\|_2^2  + C \\sum_{i=1}^n \\max \\big( 0, 1 - y_i (\\langle \\mathbf{x}_i, \\mathbf{w} \\rangle + b) \\big).$$"
   ]
  },
  {
   "cell_type": "markdown",
   "metadata": {},
   "source": [
    "This loss is being convex (sum of two convex functions), the standard gradient descent technique can be efficiently applied to minimize it. Let's compute the gradients w.r.t to the parameters."
   ]
  },
  {
   "cell_type": "markdown",
   "metadata": {},
   "source": [
    "$$\n",
    "\\begin{equation}\n",
    "    \\begin{split}\n",
    "        \\nabla_{\\mathbf{w}}  \\mathcal{L}(\\theta) &= \\frac{1}{n} \\sum_{i=1}^n \\begin{cases}\n",
    "             \\mathbf{w}  & \\text{if } \\max \\big( 0, 1 - y_i (\\langle \\mathbf{x}_i, \\mathbf{w} \\rangle + b) \\big) = 0 \\\\\n",
    "             \\mathbf{w} - C  y_i \\mathbf{x}_i & \\text{otherwise }\n",
    "       \\end{cases}, \\\\       \n",
    "        \\nabla_{b}  \\mathcal{L}(\\theta) &= \\frac{1}{n} \\sum_{i=1}^n \\begin{cases}\n",
    "             0  & \\text{if } \\max \\big( 0, 1 - y_i (\\langle \\mathbf{x}_i, \\mathbf{w} \\rangle + b) \\big) = 0 \\\\\n",
    "             -C y_i  & \\text{otherwise }\n",
    "       \\end{cases}.\n",
    "    \\end{split}\n",
    "\\end{equation}\n",
    "$$"
   ]
  },
  {
   "cell_type": "markdown",
   "metadata": {},
   "source": [
    "#### 3.3.2 Optimization of the constrained Soft SVM problem using the dual"
   ]
  },
  {
   "cell_type": "markdown",
   "metadata": {},
   "source": [
    "> Recall that the constrained Soft SVM Problem (the *primal*) is defined as\n",
    "$$\n",
    "\\begin{equation}\n",
    "    \\begin{split}\n",
    "        \\underset{\\mathbf{w}, \\xi}{\\text{minimize }} && \\frac{1}{2} \\| \\mathbf{w}\\|_2^2  + C \\sum_{i=1}^n \\xi_i & \\\\\n",
    "        & \\text{s.t. } & \\quad 1 - y_i (\\langle \\mathbf{x}_i, \\mathbf{w} \\rangle + b) &\\le \\xi_i \\quad \\forall i \\in \\{1, \\cdots, n\\}\\\\\n",
    "        & &\\quad \\xi_i  \\ge 0 \\quad \\forall i \\in \\{1, \\cdots, n\\}\n",
    "    \\end{split}\n",
    "\\end{equation}\n",
    "$$"
   ]
  },
  {
   "cell_type": "markdown",
   "metadata": {},
   "source": [
    "The Lagrangian $L_S$ of the Soft SVM is given by:\n",
    "$$\n",
    "    L_S(\\mathbf{w}, b, \\xi, \\alpha) =  \\frac{1}{2} \\| \\mathbf{w}\\|_2^2  +  C \\sum_{i=1}^n \\xi_i  + \\sum_{i=1}^n \\alpha_i\\big( 1 - \\xi_i - y_i (\\langle \\mathbf{x}_i, \\mathbf{w} \\rangle + b) \\big).\n",
    "$$"
   ]
  },
  {
   "cell_type": "markdown",
   "metadata": {},
   "source": [
    "To obtain the dual formulation, we start by minimizing the Lagrangian $L_S$ w.r.t. the *primal* variables $(\\mathbf{w}, b, \\xi)$. "
   ]
  },
  {
   "cell_type": "markdown",
   "metadata": {},
   "source": [
    "By setting $\\nabla_{\\mathbf{w}} L_S(\\mathbf{w}, b, \\xi, \\alpha) = 0$, $\\nabla_{b} L_S(\\mathbf{w}, b, \\xi, \\alpha) = 0$, and $\\nabla_{\\xi} L_S(\\mathbf{w}, b, \\xi, \\alpha) = 0$, (parts of the **KKT conditions**) we obtain\n",
    "\n",
    "$$\n",
    "\\begin{equation}\n",
    "    \\begin{split}\n",
    "        \\nabla_{\\mathbf{w}}   L_S(\\mathbf{w}, b, \\xi, \\alpha) &=  \\mathbf{w} - \\sum_{i=1}^n \\alpha_i y_i \\mathbf{x}_i &= 0, \\\\       \n",
    "        \\nabla_{b}   L_S(\\mathbf{w}, b, \\xi, \\alpha)&= - \\sum_{i=1}^n \\alpha_i y_i &= 0, \\\\\n",
    "        \\nabla_{\\xi_i}   L_S(\\mathbf{w}, b, \\xi, \\alpha) &=  C - \\alpha_i &= 0.\\\\\n",
    "    \\end{split}\n",
    "\\end{equation}\n",
    "$$"
   ]
  },
  {
   "cell_type": "markdown",
   "metadata": {},
   "source": [
    "We then obtain the following equations\n",
    "$$\n",
    "\\begin{equation}\n",
    "    \\begin{split}\n",
    "        \\sum_{i=1}^n \\alpha_i y_i \\mathbf{x}_i &= \\mathbf{w}, \\\\       \n",
    "         \\sum_{i=1}^n \\alpha_i y_i &= 0, \\\\\n",
    "         \\alpha_i &= C.\\\\\n",
    "    \\end{split}\n",
    "\\end{equation}\n",
    "$$"
   ]
  },
  {
   "cell_type": "markdown",
   "metadata": {},
   "source": [
    "Notice that the third equality on the $\\alpha_i$'s implies that $0 \\le \\alpha_i \\le C$."
   ]
  },
  {
   "cell_type": "markdown",
   "metadata": {},
   "source": [
    "> Note the other equations derived from the *KKT conditions* state that\n",
    "$$\n",
    "\\begin{equation}\n",
    "    \\begin{split}\n",
    "        \\alpha_i \\big(1 - \\xi_i - y_i (\\langle \\mathbf{x}_i, \\mathbf{w} \\rangle + b) \\big) &= 0., \\\\      \n",
    "         1 - \\xi_i  - y_i (\\langle \\mathbf{x}_i, \\mathbf{w} \\rangle + b)  & \\le 0, \\\\         \n",
    "         \\alpha_i &\\ge 0.\\\\\n",
    "    \\end{split}\n",
    "\\end{equation}\n",
    "$$\n",
    "Therefore, if $\\alpha_i > 0$ then $\\big(1 - \\xi_i - y_i (\\langle \\mathbf{x}_i, \\mathbf{w} \\rangle + b) \\big) = 0$. Meaning that only the Lagragian multipliers of the support vectors are not null. \n",
    "**Hence, the obtained $\\mathbf{w}$ is a linear combination of the support vectors.**"
   ]
  },
  {
   "cell_type": "markdown",
   "metadata": {},
   "source": [
    "To obtain the Dual, we plugin the previously obtain equations in the $L_S$ formulation."
   ]
  },
  {
   "cell_type": "markdown",
   "metadata": {},
   "source": [
    "> The Dual optimization problem is given by \n",
    "$$\n",
    "\\begin{equation}\n",
    "    \\begin{split}\n",
    "        \\underset{\\alpha}{\\text{maximize }} & \\sum_{i=1}^n \\alpha_i    - \\frac{1}{2} \\sum_{i=1, j=1}^n \\alpha_i \\alpha_j y_i y_j \\langle \\mathbf{x}_i, \\mathbf{x}_j \\rangle\\\\\n",
    "        & \\text{s.t. } \\quad \\sum_{i=1}^n \\alpha_i y_i = 0  \\quad \\forall i \\in \\{1, \\cdots, n\\}\\\\\n",
    "        & \\quad \\quad 0 \\le \\alpha_i \\le C \\quad \\forall i \\in \\{1, \\cdots, n\\}\n",
    "    \\end{split}\n",
    "\\end{equation}\n",
    "$$"
   ]
  },
  {
   "cell_type": "markdown",
   "metadata": {},
   "source": [
    "This Dual problem can be solved by using various optimization techniques including:\n",
    "- quadratic optimization techniques,\n",
    "- Coordinate descent techniques, \n",
    "- The Sequential Minimal Optimization Algorithm."
   ]
  },
  {
   "cell_type": "markdown",
   "metadata": {},
   "source": [
    "### 3.4 Example 1 (plotting the margin)"
   ]
  },
  {
   "cell_type": "markdown",
   "metadata": {},
   "source": [
    "#### 3.4.1 Importing the libraries"
   ]
  },
  {
   "cell_type": "code",
   "execution_count": 25,
   "metadata": {},
   "outputs": [],
   "source": [
    "import numpy as np\n",
    "import matplotlib.pyplot as plt\n",
    "from sklearn import svm\n",
    "from sklearn.datasets import make_blobs"
   ]
  },
  {
   "cell_type": "markdown",
   "metadata": {},
   "source": [
    "#### 3.4.2 Using the Scikit-Learn *make_blobs* to randomly generate a toy dataset"
   ]
  },
  {
   "cell_type": "code",
   "execution_count": 26,
   "metadata": {},
   "outputs": [],
   "source": [
    "X, y = make_blobs(n_samples=40, centers=2)"
   ]
  },
  {
   "cell_type": "markdown",
   "metadata": {},
   "source": [
    "#### 3.4.3 Creating the SVM classifier (SVC) and training"
   ]
  },
  {
   "cell_type": "code",
   "execution_count": 27,
   "metadata": {},
   "outputs": [
    {
     "data": {
      "text/plain": [
       "SVC(C=1000, break_ties=False, cache_size=200, class_weight=None, coef0=0.0,\n",
       "    decision_function_shape='ovr', degree=3, gamma='scale', kernel='linear',\n",
       "    max_iter=-1, probability=False, random_state=None, shrinking=True,\n",
       "    tol=0.001, verbose=False)"
      ]
     },
     "execution_count": 27,
     "metadata": {},
     "output_type": "execute_result"
    }
   ],
   "source": [
    "clf = svm.SVC(kernel='linear', C=1000)\n",
    "clf.fit(X, y)"
   ]
  },
  {
   "cell_type": "markdown",
   "metadata": {},
   "source": [
    "#### 3.4.4 Plotting the boundaries,  the support vectors, and the margins "
   ]
  },
  {
   "cell_type": "code",
   "execution_count": 28,
   "metadata": {},
   "outputs": [
    {
     "data": {
      "image/png": "[encoded data removed]",
      "text/plain": [
       "<Figure size 432x288 with 1 Axes>"
      ]
     },
     "metadata": {
      "needs_background": "light"
     },
     "output_type": "display_data"
    }
   ],
   "source": [
    "plt.scatter(X[:, 0], X[:, 1], c=y, s=30, cmap=plt.cm.Paired)\n",
    "\n",
    "# plot the decision function\n",
    "ax = plt.gca()\n",
    "xlim = ax.get_xlim()\n",
    "ylim = ax.get_ylim()\n",
    "\n",
    "# create grid to evaluate model\n",
    "xx = np.linspace(xlim[0], xlim[1], 30)\n",
    "yy = np.linspace(ylim[0], ylim[1], 30)\n",
    "YY, XX = np.meshgrid(yy, xx)\n",
    "xy = np.vstack([XX.ravel(), YY.ravel()]).T\n",
    "Z = clf.decision_function(xy).reshape(XX.shape)\n",
    "\n",
    "# plot decision boundary and margins\n",
    "ax.contour(XX, YY, Z, colors='k', levels=[-1, 0, 1], alpha=0.5,\n",
    "           linestyles=['--', '-', '--'])\n",
    "# plot support vectors\n",
    "ax.scatter(clf.support_vectors_[:, 0], clf.support_vectors_[:, 1], s=100,\n",
    "           linewidth=1, facecolors='none', edgecolors='k')\n",
    "\n",
    "plt.title(\"SVM and Margin separation\")\n",
    "plt.show()"
   ]
  },
  {
   "cell_type": "markdown",
   "metadata": {},
   "source": [
    "### 3.5. Coding our SVM (using unconstrained Soft SVM formulation)"
   ]
  },
  {
   "cell_type": "markdown",
   "metadata": {},
   "source": [
    "#### 3.5.1 Main class of the model"
   ]
  },
  {
   "cell_type": "code",
   "execution_count": 29,
   "metadata": {},
   "outputs": [],
   "source": [
    "class MyLinearSVM:\n",
    "    def __init__(self, n_iter, lr, C=0.1):\n",
    "        \"\"\"\n",
    "        A class for linear SVM model\n",
    "        \n",
    "        n_iter: (integer)\n",
    "            Number of training iteration\n",
    "        lr: (float)\n",
    "            learning rate\n",
    "        C: (float)\n",
    "            regularization weight\n",
    "        \"\"\" \n",
    " \n",
    "        self.n_iter = n_iter\n",
    "        self.lr = lr\n",
    "        self.C = C \n",
    "        \n",
    "        self.losses = []\n",
    "        self.grads = []\n",
    "\n",
    "    def init_params(self, n_feats):\n",
    "        self.w = np.zeros((1, n_feats))\n",
    "        self.b = 0\n",
    "\n",
    "    def _optimize(self, X, y):\n",
    "        m = X.shape[0]\n",
    "    \n",
    "        dist = 1. - y*(np.dot(self.w, X.T) + self.b)\n",
    "        dist[dist < 0] = 0\n",
    "        # cost function \n",
    "        cost = 0.5 * np.dot(self.w, self.w.T) + self.C * np.mean(dist)\n",
    "        \n",
    "        # computing the gradient \n",
    "        dw = 0; db = 0\n",
    "        for i, d in enumerate(np.squeeze(dist)):\n",
    "            if d != 0:\n",
    "                dw += self.w - self.C* np.squeeze(y)[i]* X[i]\n",
    "                db +=   -self.C* np.squeeze(y)[i]\n",
    "            else:\n",
    "                dw += self.w \n",
    "                db +=  0\n",
    "        \n",
    "        dw *=  (1./m)\n",
    "        db *=  (1./m)\n",
    "        \n",
    "        grads = {\"dLdw\": dw, \"dLdb\": db}\n",
    "        \n",
    "        return grads, cost\n",
    "\n",
    "    def activation(self, X):            \n",
    "        return np.sign(np.dot(self.w, X.T) + self.b)\n",
    "    \n",
    "    def fit(self, X, y):\n",
    "        \"\"\"\n",
    "            Training the model\n",
    "            \n",
    "            X: (array, n_samples x n_feats)\n",
    "                data matrix\n",
    "            y: (array, n_samples)\n",
    "                targets \n",
    "        \"\"\"\n",
    "        assert len(np.unique(y)) == 2, \"More than two labels in y %s\"%(np.unique(y))\n",
    "        labels = list(np.squeeze(np.unique(y)))\n",
    "        remapped_labels = y\n",
    "        if labels != [-1, 1]:\n",
    "            remapped_labels = np.zeros_like(y)\n",
    "            remapped_labels[y == np.unique(y)[0]] = 1\n",
    "            remapped_labels[y == np.unique(y)[1]] = -1\n",
    "        \n",
    "        self.init_params(X.shape[1])\n",
    "        \n",
    "        for i in range(self.n_iter):\n",
    "            grads, cost = self._optimize(X, remapped_labels)\n",
    "            #\n",
    "            dLdw = grads['dLdw']\n",
    "            dLdb = grads['dLdb']\n",
    "            \n",
    "            # gradient descent\n",
    "            self.w = self.w - self.lr * dLdw\n",
    "            self.b = self.b - self.lr * dLdb\n",
    "            \n",
    "            self.losses.append(cost)\n",
    "            self.grads.append(grads)\n",
    "            #if (i % 10 == 0):\n",
    "            #    print(\"Standard Logistic Regression: Iter {}, Cost {}\".format(i, cost))\n",
    "            \n",
    "        print(\"Standard Logistic Regression: Iter {}, Cost {}\".format(i, cost))\n",
    "    \n",
    "    def predict(self, X):\n",
    "        \"\"\"\n",
    "            Predicting the discrete labels\n",
    "            \n",
    "            X: (array, n_samples x n_feats)\n",
    "                data matrix \n",
    "        \"\"\"\n",
    "        return self.activation(X)\n",
    "    \n",
    "    def predict_proba(self, X):\n",
    "        \n",
    "        \"\"\"\n",
    "            Predicting the probabilities\n",
    "\n",
    "            X: (array, n_samples x n_feats)\n",
    "                data matrix \n",
    "        \"\"\"\n",
    "        return self.activation(X) \n",
    "    \n",
    "    def score(self, X, y): \n",
    "        \"\"\"\n",
    "            computing the accuracy of the model\n",
    "            \n",
    "            X: (array, n_samples x n_feats)\n",
    "                data matrix\n",
    "            y: (array, n_sample)\n",
    "                targets \n",
    "        \"\"\"\n",
    "        pred = self.predict(X)\n",
    "        return (pred == y).mean()\n",
    "    "
   ]
  },
  {
   "cell_type": "markdown",
   "metadata": {},
   "source": [
    "#### 3.5.2 Training the model and printing its decision boundary"
   ]
  },
  {
   "cell_type": "code",
   "execution_count": 30,
   "metadata": {},
   "outputs": [
    {
     "name": "stdout",
     "output_type": "stream",
     "text": [
      "Standard Logistic Regression: Iter 9999, Cost [[0.02572552]]\n"
     ]
    },
    {
     "data": {
      "image/png": "[encoded data removed]",
      "text/plain": [
       "<Figure size 432x288 with 1 Axes>"
      ]
     },
     "metadata": {
      "needs_background": "light"
     },
     "output_type": "display_data"
    }
   ],
   "source": [
    "my_lsvm = MyLinearSVM(10000, 0.01, 0.1)\n",
    "my_lsvm.fit(X, y)\n",
    "print_decision(X, my_lsvm, \"Output of my linear SVM model\")"
   ]
  },
  {
   "cell_type": "code",
   "execution_count": 31,
   "metadata": {},
   "outputs": [],
   "source": [
    "my_blr = MyBinaryLogisticRegression(2, 10000, 0.1, r_lambda=0)"
   ]
  },
  {
   "cell_type": "code",
   "execution_count": 32,
   "metadata": {},
   "outputs": [
    {
     "name": "stdout",
     "output_type": "stream",
     "text": [
      "Standard Logistic Regression: Iter 0, Cost 0.6931471805599454\n",
      "Standard Logistic Regression: Iter 10, Cost 0.09405137857554091\n",
      "Standard Logistic Regression: Iter 20, Cost 0.06086006205351731\n",
      "Standard Logistic Regression: Iter 30, Cost 0.045804121713201335\n",
      "Standard Logistic Regression: Iter 40, Cost 0.03697757735308399\n",
      "Standard Logistic Regression: Iter 50, Cost 0.031118922992590788\n",
      "Standard Logistic Regression: Iter 60, Cost 0.0269255647401078\n",
      "Standard Logistic Regression: Iter 70, Cost 0.023766304648217704\n",
      "Standard Logistic Regression: Iter 80, Cost 0.02129567013602555\n",
      "Standard Logistic Regression: Iter 90, Cost 0.019307805323473405\n",
      "Standard Logistic Regression: Iter 100, Cost 0.017672055536578267\n",
      "Standard Logistic Regression: Iter 110, Cost 0.016301335971630165\n",
      "Standard Logistic Regression: Iter 120, Cost 0.015135283934994094\n",
      "Standard Logistic Regression: Iter 130, Cost 0.01413069402135389\n",
      "Standard Logistic Regression: Iter 140, Cost 0.013255800462513746\n",
      "Standard Logistic Regression: Iter 150, Cost 0.012486710221218281\n",
      "Standard Logistic Regression: Iter 160, Cost 0.011805096378100954\n",
      "Standard Logistic Regression: Iter 170, Cost 0.011196659980066425\n",
      "Standard Logistic Regression: Iter 180, Cost 0.01065007670270115\n",
      "Standard Logistic Regression: Iter 190, Cost 0.010156258556110397\n",
      "Standard Logistic Regression: Iter 200, Cost 0.009707825688165556\n",
      "Standard Logistic Regression: Iter 210, Cost 0.009298721545621492\n",
      "Standard Logistic Regression: Iter 220, Cost 0.008923927871132345\n",
      "Standard Logistic Regression: Iter 230, Cost 0.008579250511396214\n",
      "Standard Logistic Regression: Iter 240, Cost 0.00826115628612735\n",
      "Standard Logistic Regression: Iter 250, Cost 0.007966647231759034\n",
      "Standard Logistic Regression: Iter 260, Cost 0.007693162578016198\n",
      "Standard Logistic Regression: Iter 270, Cost 0.00743850156148508\n",
      "Standard Logistic Regression: Iter 280, Cost 0.007200762075648426\n",
      "Standard Logistic Regression: Iter 290, Cost 0.006978291484894764\n",
      "Standard Logistic Regression: Iter 300, Cost 0.00676964687353995\n",
      "Standard Logistic Regression: Iter 310, Cost 0.006573562679878695\n",
      "Standard Logistic Regression: Iter 320, Cost 0.006388924159726437\n",
      "Standard Logistic Regression: Iter 330, Cost 0.006214745487961385\n",
      "Standard Logistic Regression: Iter 340, Cost 0.006050151577391681\n",
      "Standard Logistic Regression: Iter 350, Cost 0.0058943628976743795\n",
      "Standard Logistic Regression: Iter 360, Cost 0.005746682731161801\n",
      "Standard Logistic Regression: Iter 370, Cost 0.00560648642036562\n",
      "Standard Logistic Regression: Iter 380, Cost 0.005473212252488007\n",
      "Standard Logistic Regression: Iter 390, Cost 0.005346353696914609\n",
      "Standard Logistic Regression: Iter 400, Cost 0.005225452766625623\n",
      "Standard Logistic Regression: Iter 410, Cost 0.005110094317809768\n",
      "Standard Logistic Regression: Iter 420, Cost 0.004999901136276091\n",
      "Standard Logistic Regression: Iter 430, Cost 0.00489452968659049\n",
      "Standard Logistic Regression: Iter 440, Cost 0.0047936664217626745\n",
      "Standard Logistic Regression: Iter 450, Cost 0.004697024568947198\n",
      "Standard Logistic Regression: Iter 460, Cost 0.004604341320906352\n",
      "Standard Logistic Regression: Iter 470, Cost 0.0045153753746012566\n",
      "Standard Logistic Regression: Iter 480, Cost 0.004429904767779241\n",
      "Standard Logistic Regression: Iter 490, Cost 0.0043477249722252255\n",
      "Standard Logistic Regression: Iter 500, Cost 0.004268647208778391\n",
      "Standard Logistic Regression: Iter 510, Cost 0.004192496954542373\n",
      "Standard Logistic Regression: Iter 520, Cost 0.0041191126171453325\n",
      "Standard Logistic Regression: Iter 530, Cost 0.004048344354602241\n",
      "Standard Logistic Regression: Iter 540, Cost 0.003980053022425073\n",
      "Standard Logistic Regression: Iter 550, Cost 0.003914109232229169\n",
      "Standard Logistic Regression: Iter 560, Cost 0.0038503925082749506\n",
      "Standard Logistic Regression: Iter 570, Cost 0.0037887905302410804\n",
      "Standard Logistic Regression: Iter 580, Cost 0.003729198452097425\n",
      "Standard Logistic Regression: Iter 590, Cost 0.0036715182882873115\n",
      "Standard Logistic Regression: Iter 600, Cost 0.0036156583595706067\n",
      "Standard Logistic Regression: Iter 610, Cost 0.0035615327918588763\n",
      "Standard Logistic Regression: Iter 620, Cost 0.0035090610622124556\n",
      "Standard Logistic Regression: Iter 630, Cost 0.003458167586893046\n",
      "Standard Logistic Regression: Iter 640, Cost 0.0034087813469876153\n",
      "Standard Logistic Regression: Iter 650, Cost 0.003360835547658875\n",
      "Standard Logistic Regression: Iter 660, Cost 0.0033142673075443373\n",
      "Standard Logistic Regression: Iter 670, Cost 0.0032690173752318225\n",
      "Standard Logistic Regression: Iter 680, Cost 0.00322502987009208\n",
      "Standard Logistic Regression: Iter 690, Cost 0.0031822520450577097\n",
      "Standard Logistic Regression: Iter 700, Cost 0.0031406340692064906\n",
      "Standard Logistic Regression: Iter 710, Cost 0.0031001288282431526\n",
      "Standard Logistic Regression: Iter 720, Cost 0.003060691741181265\n",
      "Standard Logistic Regression: Iter 730, Cost 0.0030222805917079192\n",
      "Standard Logistic Regression: Iter 740, Cost 0.0029848553728750848\n",
      "Standard Logistic Regression: Iter 750, Cost 0.002948378143903002\n",
      "Standard Logistic Regression: Iter 760, Cost 0.0029128128980053535\n",
      "Standard Logistic Regression: Iter 770, Cost 0.0028781254402576333\n",
      "Standard Logistic Regression: Iter 780, Cost 0.002844283274627911\n",
      "Standard Logistic Regression: Iter 790, Cost 0.002811255499376457\n",
      "Standard Logistic Regression: Iter 800, Cost 0.0027790127101085817\n",
      "Standard Logistic Regression: Iter 810, Cost 0.002747526909834101\n",
      "Standard Logistic Regression: Iter 820, Cost 0.002716771425448708\n",
      "Standard Logistic Regression: Iter 830, Cost 0.0026867208301074538\n",
      "Standard Logistic Regression: Iter 840, Cost 0.00265735087101042\n",
      "Standard Logistic Regression: Iter 850, Cost 0.002628638402164495\n",
      "Standard Logistic Regression: Iter 860, Cost 0.002600561321724983\n",
      "Standard Logistic Regression: Iter 870, Cost 0.0025730985135568154\n",
      "Standard Logistic Regression: Iter 880, Cost 0.00254622979268662\n",
      "Standard Logistic Regression: Iter 890, Cost 0.002519935854346394\n",
      "Standard Logistic Regression: Iter 900, Cost 0.0024941982263355315\n",
      "Standard Logistic Regression: Iter 910, Cost 0.002468999224450833\n",
      "Standard Logistic Regression: Iter 920, Cost 0.0024443219107568794\n",
      "Standard Logistic Regression: Iter 930, Cost 0.0024201500544863666\n",
      "Standard Logistic Regression: Iter 940, Cost 0.0023964680953799055\n",
      "Standard Logistic Regression: Iter 950, Cost 0.0023732611092880385\n",
      "Standard Logistic Regression: Iter 960, Cost 0.00235051477587489\n",
      "Standard Logistic Regression: Iter 970, Cost 0.0023282153482744984\n",
      "Standard Logistic Regression: Iter 980, Cost 0.0023063496245631795\n",
      "Standard Logistic Regression: Iter 990, Cost 0.00228490492092237\n",
      "Standard Logistic Regression: Iter 1000, Cost 0.002263869046375762\n",
      "Standard Logistic Regression: Iter 1010, Cost 0.0022432302789941712\n",
      "Standard Logistic Regression: Iter 1020, Cost 0.002222977343469028\n",
      "Standard Logistic Regression: Iter 1030, Cost 0.0022030993899637284\n",
      "Standard Logistic Regression: Iter 1040, Cost 0.002183585974158334\n",
      "Standard Logistic Regression: Iter 1050, Cost 0.0021644270384097893\n",
      "Standard Logistic Regression: Iter 1060, Cost 0.002145612893955164\n",
      "Standard Logistic Regression: Iter 1070, Cost 0.0021271342040915437\n",
      "Standard Logistic Regression: Iter 1080, Cost 0.002108981968270086\n",
      "Standard Logistic Regression: Iter 1090, Cost 0.002091147507046739\n",
      "Standard Logistic Regression: Iter 1100, Cost 0.00207362244783639\n",
      "Standard Logistic Regression: Iter 1110, Cost 0.002056398711420613\n",
      "Standard Logistic Regression: Iter 1120, Cost 0.0020394684991627615\n",
      "Standard Logistic Regression: Iter 1130, Cost 0.0020228242808876004\n",
      "Standard Logistic Regression: Iter 1140, Cost 0.002006458783385486\n",
      "Standard Logistic Regression: Iter 1150, Cost 0.0019903649795034012\n",
      "Standard Logistic Regression: Iter 1160, Cost 0.0019745360777886933\n",
      "Standard Logistic Regression: Iter 1170, Cost 0.0019589655126527306\n",
      "Standard Logistic Regression: Iter 1180, Cost 0.001943646935024205\n",
      "Standard Logistic Regression: Iter 1190, Cost 0.0019285742034639885\n",
      "Standard Logistic Regression: Iter 1200, Cost 0.0019137413757149891\n",
      "Standard Logistic Regression: Iter 1210, Cost 0.0018991427006624245\n",
      "Standard Logistic Regression: Iter 1220, Cost 0.0018847726106813274\n",
      "Standard Logistic Regression: Iter 1230, Cost 0.0018706257143496351\n",
      "Standard Logistic Regression: Iter 1240, Cost 0.0018566967895067494\n",
      "Standard Logistic Regression: Iter 1250, Cost 0.0018429807766384505\n",
      "Standard Logistic Regression: Iter 1260, Cost 0.0018294727725703362\n",
      "Standard Logistic Regression: Iter 1270, Cost 0.0018161680244531957\n",
      "Standard Logistic Regression: Iter 1280, Cost 0.0018030619240247845\n",
      "Standard Logistic Regression: Iter 1290, Cost 0.0017901500021327823\n",
      "Standard Logistic Regression: Iter 1300, Cost 0.001777427923505829\n",
      "Standard Logistic Regression: Iter 1310, Cost 0.0017648914817588327\n",
      "Standard Logistic Regression: Iter 1320, Cost 0.0017525365946212013\n",
      "Standard Logistic Regression: Iter 1330, Cost 0.0017403592993756687\n",
      "Standard Logistic Regression: Iter 1340, Cost 0.001728355748497528\n",
      "Standard Logistic Regression: Iter 1350, Cost 0.001716522205483783\n",
      "Standard Logistic Regression: Iter 1360, Cost 0.00170485504086257\n",
      "Standard Logistic Regression: Iter 1370, Cost 0.0016933507283739488\n",
      "Standard Logistic Regression: Iter 1380, Cost 0.001682005841313574\n",
      "Standard Logistic Regression: Iter 1390, Cost 0.0016708170490308443\n",
      "Standard Logistic Regression: Iter 1400, Cost 0.0016597811135745729\n",
      "Standard Logistic Regression: Iter 1410, Cost 0.0016488948864781944\n",
      "Standard Logistic Regression: Iter 1420, Cost 0.0016381553056783412\n",
      "Standard Logistic Regression: Iter 1430, Cost 0.0016275593925603841\n",
      "Standard Logistic Regression: Iter 1440, Cost 0.0016171042491242302\n",
      "Standard Logistic Regression: Iter 1450, Cost 0.0016067870552655711\n",
      "Standard Logistic Regression: Iter 1460, Cost 0.001596605066166447\n",
      "Standard Logistic Regression: Iter 1470, Cost 0.0015865556097903858\n",
      "Standard Logistic Regression: Iter 1480, Cost 0.0015766360844770512\n",
      "Standard Logistic Regression: Iter 1490, Cost 0.0015668439566318853\n",
      "Standard Logistic Regression: Iter 1500, Cost 0.0015571767585065418\n",
      "Standard Logistic Regression: Iter 1510, Cost 0.0015476320860655817\n",
      "Standard Logistic Regression: Iter 1520, Cost 0.0015382075969360837\n",
      "Standard Logistic Regression: Iter 1530, Cost 0.001528901008435799\n",
      "Standard Logistic Regression: Iter 1540, Cost 0.0015197100956769148\n",
      "Standard Logistic Regression: Iter 1550, Cost 0.0015106326897417741\n",
      "Standard Logistic Regression: Iter 1560, Cost 0.001501666675927313\n",
      "Standard Logistic Regression: Iter 1570, Cost 0.0014928099920555136\n",
      "Standard Logistic Regression: Iter 1580, Cost 0.0014840606268466036\n",
      "Standard Logistic Regression: Iter 1590, Cost 0.001475416618352752\n",
      "Standard Logistic Regression: Iter 1600, Cost 0.0014668760524490507\n",
      "Standard Logistic Regression: Iter 1610, Cost 0.0014584370613800717\n",
      "Standard Logistic Regression: Iter 1620, Cost 0.001450097822358879\n",
      "Standard Logistic Regression: Iter 1630, Cost 0.0014418565562169456\n",
      "Standard Logistic Regression: Iter 1640, Cost 0.0014337115261023863\n",
      "Standard Logistic Regression: Iter 1650, Cost 0.0014256610362245587\n",
      "Standard Logistic Regression: Iter 1660, Cost 0.0014177034306436043\n",
      "Standard Logistic Regression: Iter 1670, Cost 0.0014098370921020594\n",
      "Standard Logistic Regression: Iter 1680, Cost 0.0014020604408980075\n",
      "Standard Logistic Regression: Iter 1690, Cost 0.0013943719337970774\n",
      "Standard Logistic Regression: Iter 1700, Cost 0.001386770062982468\n",
      "Standard Logistic Regression: Iter 1710, Cost 0.001379253355040775\n",
      "Standard Logistic Regression: Iter 1720, Cost 0.0013718203699829247\n",
      "Standard Logistic Regression: Iter 1730, Cost 0.0013644697002982054\n",
      "Standard Logistic Regression: Iter 1740, Cost 0.0013571999700402713\n",
      "Standard Logistic Regression: Iter 1750, Cost 0.001350009833944197\n",
      "Standard Logistic Regression: Iter 1760, Cost 0.001342897976572789\n",
      "Standard Logistic Regression: Iter 1770, Cost 0.0013358631114914403\n",
      "Standard Logistic Regression: Iter 1780, Cost 0.0013289039804703314\n",
      "Standard Logistic Regression: Iter 1790, Cost 0.0013220193527127791\n",
      "Standard Logistic Regression: Iter 1800, Cost 0.0013152080241088855\n",
      "Standard Logistic Regression: Iter 1810, Cost 0.0013084688165136533\n",
      "Standard Logistic Regression: Iter 1820, Cost 0.0013018005770480381\n",
      "Standard Logistic Regression: Iter 1830, Cost 0.0012952021774230655\n",
      "Standard Logistic Regression: Iter 1840, Cost 0.0012886725132850228\n",
      "Standard Logistic Regression: Iter 1850, Cost 0.0012822105035820816\n",
      "Standard Logistic Regression: Iter 1860, Cost 0.001275815089950446\n",
      "Standard Logistic Regression: Iter 1870, Cost 0.0012694852361201984\n",
      "Standard Logistic Regression: Iter 1880, Cost 0.0012632199273397218\n",
      "Standard Logistic Regression: Iter 1890, Cost 0.0012570181698178236\n",
      "Standard Logistic Regression: Iter 1900, Cost 0.0012508789901835241\n",
      "Standard Logistic Regression: Iter 1910, Cost 0.0012448014349622893\n",
      "Standard Logistic Regression: Iter 1920, Cost 0.0012387845700682942\n",
      "Standard Logistic Regression: Iter 1930, Cost 0.0012328274803124206\n",
      "Standard Logistic Regression: Iter 1940, Cost 0.0012269292689249586\n",
      "Standard Logistic Regression: Iter 1950, Cost 0.0012210890570928717\n",
      "Standard Logistic Regression: Iter 1960, Cost 0.0012153059835110233\n",
      "Standard Logistic Regression: Iter 1970, Cost 0.0012095792039465555\n",
      "Standard Logistic Regression: Iter 1980, Cost 0.00120390789081672\n",
      "Standard Logistic Regression: Iter 1990, Cost 0.0011982912327786006\n",
      "Standard Logistic Regression: Iter 2000, Cost 0.0011927284343315827\n",
      "Standard Logistic Regression: Iter 2010, Cost 0.0011872187154308824\n",
      "Standard Logistic Regression: Iter 2020, Cost 0.0011817613111127928\n",
      "Standard Logistic Regression: Iter 2030, Cost 0.0011763554711305343\n",
      "Standard Logistic Regression: Iter 2040, Cost 0.0011710004596008903\n"
     ]
    },
    {
     "name": "stdout",
     "output_type": "stream",
     "text": [
      "Standard Logistic Regression: Iter 2050, Cost 0.0011656955546606757\n",
      "Standard Logistic Regression: Iter 2060, Cost 0.001160440048133294\n",
      "Standard Logistic Regression: Iter 2070, Cost 0.0011552332452047745\n",
      "Standard Logistic Regression: Iter 2080, Cost 0.0011500744641088313\n",
      "Standard Logistic Regression: Iter 2090, Cost 0.0011449630358209314\n",
      "Standard Logistic Regression: Iter 2100, Cost 0.0011398983037609956\n",
      "Standard Logistic Regression: Iter 2110, Cost 0.0011348796235042442\n",
      "Standard Logistic Regression: Iter 2120, Cost 0.0011299063625002125\n",
      "Standard Logistic Regression: Iter 2130, Cost 0.0011249778997995507\n",
      "Standard Logistic Regression: Iter 2140, Cost 0.0011200936257882348\n",
      "Standard Logistic Regression: Iter 2150, Cost 0.0011152529419292425\n",
      "Standard Logistic Regression: Iter 2160, Cost 0.0011104552605110541\n",
      "Standard Logistic Regression: Iter 2170, Cost 0.0011057000044032987\n",
      "Standard Logistic Regression: Iter 2180, Cost 0.0011009866068185986\n",
      "Standard Logistic Regression: Iter 2190, Cost 0.001096314511081311\n",
      "Standard Logistic Regression: Iter 2200, Cost 0.0010916831704019555\n",
      "Standard Logistic Regression: Iter 2210, Cost 0.0010870920476581546\n",
      "Standard Logistic Regression: Iter 2220, Cost 0.0010825406151809848\n",
      "Standard Logistic Regression: Iter 2230, Cost 0.0010780283545472602\n",
      "Standard Logistic Regression: Iter 2240, Cost 0.0010735547563771246\n",
      "Standard Logistic Regression: Iter 2250, Cost 0.0010691193201370652\n",
      "Standard Logistic Regression: Iter 2260, Cost 0.0010647215539478785\n",
      "Standard Logistic Regression: Iter 2270, Cost 0.0010603609743978788\n",
      "Standard Logistic Regression: Iter 2280, Cost 0.0010560371063607751\n",
      "Standard Logistic Regression: Iter 2290, Cost 0.0010517494828182368\n",
      "Standard Logistic Regression: Iter 2300, Cost 0.001047497644687047\n",
      "Standard Logistic Regression: Iter 2310, Cost 0.0010432811406508248\n",
      "Standard Logistic Regression: Iter 2320, Cost 0.0010390995269956333\n",
      "Standard Logistic Regression: Iter 2330, Cost 0.001034952367450159\n",
      "Standard Logistic Regression: Iter 2340, Cost 0.0010308392330296825\n",
      "Standard Logistic Regression: Iter 2350, Cost 0.001026759701884045\n",
      "Standard Logistic Regression: Iter 2360, Cost 0.0010227133591493947\n",
      "Standard Logistic Regression: Iter 2370, Cost 0.0010186997968037066\n",
      "Standard Logistic Regression: Iter 2380, Cost 0.0010147186135256914\n",
      "Standard Logistic Regression: Iter 2390, Cost 0.001010769414557407\n",
      "Standard Logistic Regression: Iter 2400, Cost 0.0010068518115700588\n",
      "Standard Logistic Regression: Iter 2410, Cost 0.0010029654225332477\n",
      "Standard Logistic Regression: Iter 2420, Cost 0.0009991098715872392\n",
      "Standard Logistic Regression: Iter 2430, Cost 0.0009952847889185777\n",
      "Standard Logistic Regression: Iter 2440, Cost 0.0009914898106384033\n",
      "Standard Logistic Regression: Iter 2450, Cost 0.0009877245786639138\n",
      "Standard Logistic Regression: Iter 2460, Cost 0.0009839887406025928\n",
      "Standard Logistic Regression: Iter 2470, Cost 0.0009802819496392754\n",
      "Standard Logistic Regression: Iter 2480, Cost 0.0009766038644257354\n",
      "Standard Logistic Regression: Iter 2490, Cost 0.0009729541489730872\n",
      "Standard Logistic Regression: Iter 2500, Cost 0.0009693324725466145\n",
      "Standard Logistic Regression: Iter 2510, Cost 0.0009657385095630666\n",
      "Standard Logistic Regression: Iter 2520, Cost 0.0009621719394904103\n",
      "Standard Logistic Regression: Iter 2530, Cost 0.0009586324467499363\n",
      "Standard Logistic Regression: Iter 2540, Cost 0.0009551197206204468\n",
      "Standard Logistic Regression: Iter 2550, Cost 0.0009516334551450557\n",
      "Standard Logistic Regression: Iter 2560, Cost 0.0009481733490396419\n",
      "Standard Logistic Regression: Iter 2570, Cost 0.0009447391056038965\n",
      "Standard Logistic Regression: Iter 2580, Cost 0.0009413304326339451\n",
      "Standard Logistic Regression: Iter 2590, Cost 0.0009379470423373338\n",
      "Standard Logistic Regression: Iter 2600, Cost 0.0009345886512497851\n",
      "Standard Logistic Regression: Iter 2610, Cost 0.0009312549801536913\n",
      "Standard Logistic Regression: Iter 2620, Cost 0.0009279457539988058\n",
      "Standard Logistic Regression: Iter 2630, Cost 0.0009246607018243915\n",
      "Standard Logistic Regression: Iter 2640, Cost 0.0009213995566832331\n",
      "Standard Logistic Regression: Iter 2650, Cost 0.00091816205556732\n",
      "Standard Logistic Regression: Iter 2660, Cost 0.0009149479393352061\n",
      "Standard Logistic Regression: Iter 2670, Cost 0.0009117569526410304\n",
      "Standard Logistic Regression: Iter 2680, Cost 0.0009085888438648927\n",
      "Standard Logistic Regression: Iter 2690, Cost 0.0009054433650449886\n",
      "Standard Logistic Regression: Iter 2700, Cost 0.0009023202718111159\n",
      "Standard Logistic Regression: Iter 2710, Cost 0.0008992193233196127\n",
      "Standard Logistic Regression: Iter 2720, Cost 0.0008961402821898146\n",
      "Standard Logistic Regression: Iter 2730, Cost 0.0008930829144417002\n",
      "Standard Logistic Regression: Iter 2740, Cost 0.0008900469894351541\n",
      "Standard Logistic Regression: Iter 2750, Cost 0.0008870322798101839\n",
      "Standard Logistic Regression: Iter 2760, Cost 0.0008840385614287404\n",
      "Standard Logistic Regression: Iter 2770, Cost 0.0008810656133176189\n",
      "Standard Logistic Regression: Iter 2780, Cost 0.0008781132176125617\n",
      "Standard Logistic Regression: Iter 2790, Cost 0.0008751811595035516\n",
      "Standard Logistic Regression: Iter 2800, Cost 0.0008722692271813826\n",
      "Standard Logistic Regression: Iter 2810, Cost 0.0008693772117851421\n",
      "Standard Logistic Regression: Iter 2820, Cost 0.0008665049073510178\n",
      "Standard Logistic Regression: Iter 2830, Cost 0.0008636521107619453\n",
      "Standard Logistic Regression: Iter 2840, Cost 0.0008608186216984643\n",
      "Standard Logistic Regression: Iter 2850, Cost 0.0008580042425906164\n",
      "Standard Logistic Regression: Iter 2860, Cost 0.0008552087785706746\n",
      "Standard Logistic Regression: Iter 2870, Cost 0.0008524320374268817\n",
      "Standard Logistic Regression: Iter 2880, Cost 0.000849673829558455\n",
      "Standard Logistic Regression: Iter 2890, Cost 0.0008469339679308675\n",
      "Standard Logistic Regression: Iter 2900, Cost 0.0008442122680326985\n",
      "Standard Logistic Regression: Iter 2910, Cost 0.0008415085478329933\n",
      "Standard Logistic Regression: Iter 2920, Cost 0.000838822627739572\n",
      "Standard Logistic Regression: Iter 2930, Cost 0.0008361543305581544\n",
      "Standard Logistic Regression: Iter 2940, Cost 0.0008335034814523777\n",
      "Standard Logistic Regression: Iter 2950, Cost 0.0008308699079045147\n",
      "Standard Logistic Regression: Iter 2960, Cost 0.0008282534396770593\n",
      "Standard Logistic Regression: Iter 2970, Cost 0.0008256539087750016\n",
      "Standard Logistic Regression: Iter 2980, Cost 0.0008230711494089664\n",
      "Standard Logistic Regression: Iter 2990, Cost 0.0008205049979589789\n",
      "Standard Logistic Regression: Iter 3000, Cost 0.0008179552929388698\n",
      "Standard Logistic Regression: Iter 3010, Cost 0.0008154218749616294\n",
      "Standard Logistic Regression: Iter 3020, Cost 0.0008129045867051985\n",
      "Standard Logistic Regression: Iter 3030, Cost 0.0008104032728790298\n",
      "Standard Logistic Regression: Iter 3040, Cost 0.0008079177801913039\n",
      "Standard Logistic Regression: Iter 3050, Cost 0.0008054479573167174\n",
      "Standard Logistic Regression: Iter 3060, Cost 0.0008029936548650217\n",
      "Standard Logistic Regression: Iter 3070, Cost 0.0008005547253499963\n",
      "Standard Logistic Regression: Iter 3080, Cost 0.000798131023159077\n",
      "Standard Logistic Regression: Iter 3090, Cost 0.0007957224045237584\n",
      "Standard Logistic Regression: Iter 3100, Cost 0.0007933287274901777\n",
      "Standard Logistic Regression: Iter 3110, Cost 0.0007909498518906414\n",
      "Standard Logistic Regression: Iter 3120, Cost 0.0007885856393153693\n",
      "Standard Logistic Regression: Iter 3130, Cost 0.000786235953085061\n",
      "Standard Logistic Regression: Iter 3140, Cost 0.000783900658223825\n",
      "Standard Logistic Regression: Iter 3150, Cost 0.0007815796214324513\n",
      "Standard Logistic Regression: Iter 3160, Cost 0.0007792727110626165\n",
      "Standard Logistic Regression: Iter 3170, Cost 0.000776979797091189\n",
      "Standard Logistic Regression: Iter 3180, Cost 0.0007747007510950401\n",
      "Standard Logistic Regression: Iter 3190, Cost 0.0007724354462266502\n",
      "Standard Logistic Regression: Iter 3200, Cost 0.0007701837571897298\n",
      "Standard Logistic Regression: Iter 3210, Cost 0.0007679455602156499\n",
      "Standard Logistic Regression: Iter 3220, Cost 0.0007657207330399678\n",
      "Standard Logistic Regression: Iter 3230, Cost 0.0007635091548797418\n",
      "Standard Logistic Regression: Iter 3240, Cost 0.0007613107064109799\n",
      "Standard Logistic Regression: Iter 3250, Cost 0.0007591252697466196\n",
      "Standard Logistic Regression: Iter 3260, Cost 0.0007569527284149258\n",
      "Standard Logistic Regression: Iter 3270, Cost 0.0007547929673381546\n"
     ]
    },
    {
     "name": "stdout",
     "output_type": "stream",
     "text": [
      "Standard Logistic Regression: Iter 3280, Cost 0.0007526458728117467\n",
      "Standard Logistic Regression: Iter 3290, Cost 0.0007505113324838183\n",
      "Standard Logistic Regression: Iter 3300, Cost 0.0007483892353350925\n",
      "Standard Logistic Regression: Iter 3310, Cost 0.0007462794716589635\n",
      "Standard Logistic Regression: Iter 3320, Cost 0.0007441819330423288\n",
      "Standard Logistic Regression: Iter 3330, Cost 0.000742096512346239\n",
      "Standard Logistic Regression: Iter 3340, Cost 0.0007400231036874183\n",
      "Standard Logistic Regression: Iter 3350, Cost 0.0007379616024197089\n",
      "Standard Logistic Regression: Iter 3360, Cost 0.0007359119051159723\n",
      "Standard Logistic Regression: Iter 3370, Cost 0.0007338739095504955\n",
      "Standard Logistic Regression: Iter 3380, Cost 0.0007318475146813371\n",
      "Standard Logistic Regression: Iter 3390, Cost 0.0007298326206332818\n",
      "Standard Logistic Regression: Iter 3400, Cost 0.0007278291286809654\n",
      "Standard Logistic Regression: Iter 3410, Cost 0.0007258369412323936\n",
      "Standard Logistic Regression: Iter 3420, Cost 0.0007238559618125132\n",
      "Standard Logistic Regression: Iter 3430, Cost 0.0007218860950473506\n",
      "Standard Logistic Regression: Iter 3440, Cost 0.0007199272466482137\n",
      "Standard Logistic Regression: Iter 3450, Cost 0.0007179793233962916\n",
      "Standard Logistic Regression: Iter 3460, Cost 0.0007160422331274956\n",
      "Standard Logistic Regression: Iter 3470, Cost 0.0007141158847174096\n",
      "Standard Logistic Regression: Iter 3480, Cost 0.0007122001880668102\n",
      "Standard Logistic Regression: Iter 3490, Cost 0.0007102950540870245\n",
      "Standard Logistic Regression: Iter 3500, Cost 0.0007084003946858618\n",
      "Standard Logistic Regression: Iter 3510, Cost 0.000706516122753748\n",
      "Standard Logistic Regression: Iter 3520, Cost 0.0007046421521498571\n",
      "Standard Logistic Regression: Iter 3530, Cost 0.000702778397688738\n",
      "Standard Logistic Regression: Iter 3540, Cost 0.000700924775127002\n",
      "Standard Logistic Regression: Iter 3550, Cost 0.0006990812011503352\n",
      "Standard Logistic Regression: Iter 3560, Cost 0.0006972475933606998\n",
      "Standard Logistic Regression: Iter 3570, Cost 0.0006954238702635798\n",
      "Standard Logistic Regression: Iter 3580, Cost 0.0006936099512558259\n",
      "Standard Logistic Regression: Iter 3590, Cost 0.0006918057566132508\n",
      "Standard Logistic Regression: Iter 3600, Cost 0.000690011207478721\n",
      "Standard Logistic Regression: Iter 3610, Cost 0.0006882262258503898\n",
      "Standard Logistic Regression: Iter 3620, Cost 0.000686450734570029\n",
      "Standard Logistic Regression: Iter 3630, Cost 0.0006846846573116421\n",
      "Standard Logistic Regression: Iter 3640, Cost 0.0006829279185702527\n",
      "Standard Logistic Regression: Iter 3650, Cost 0.000681180443650818\n",
      "Standard Logistic Regression: Iter 3660, Cost 0.0006794421586573901\n",
      "Standard Logistic Regression: Iter 3670, Cost 0.0006777129904824231\n",
      "Standard Logistic Regression: Iter 3680, Cost 0.0006759928667962136\n",
      "Standard Logistic Regression: Iter 3690, Cost 0.0006742817160365804\n",
      "Standard Logistic Regression: Iter 3700, Cost 0.000672579467398628\n",
      "Standard Logistic Regression: Iter 3710, Cost 0.0006708860508248448\n",
      "Standard Logistic Regression: Iter 3720, Cost 0.000669201396995052\n",
      "Standard Logistic Regression: Iter 3730, Cost 0.0006675254373167958\n",
      "Standard Logistic Regression: Iter 3740, Cost 0.0006658581039158633\n",
      "Standard Logistic Regression: Iter 3750, Cost 0.0006641993296266768\n",
      "Standard Logistic Regression: Iter 3760, Cost 0.0006625490479832584\n",
      "Standard Logistic Regression: Iter 3770, Cost 0.0006609071932098722\n",
      "Standard Logistic Regression: Iter 3780, Cost 0.0006592737002123531\n",
      "Standard Logistic Regression: Iter 3790, Cost 0.0006576485045689455\n",
      "Standard Logistic Regression: Iter 3800, Cost 0.0006560315425218698\n",
      "Standard Logistic Regression: Iter 3810, Cost 0.0006544227509686332\n",
      "Standard Logistic Regression: Iter 3820, Cost 0.0006528220674536285\n",
      "Standard Logistic Regression: Iter 3830, Cost 0.0006512294301598274\n",
      "Standard Logistic Regression: Iter 3840, Cost 0.0006496447779006501\n",
      "Standard Logistic Regression: Iter 3850, Cost 0.0006480680501118985\n",
      "Standard Logistic Regression: Iter 3860, Cost 0.0006464991868438163\n",
      "Standard Logistic Regression: Iter 3870, Cost 0.0006449381287532696\n",
      "Standard Logistic Regression: Iter 3880, Cost 0.0006433848170961719\n",
      "Standard Logistic Regression: Iter 3890, Cost 0.000641839193719785\n",
      "Standard Logistic Regression: Iter 3900, Cost 0.000640301201055341\n",
      "Standard Logistic Regression: Iter 3910, Cost 0.00063877078211072\n",
      "Standard Logistic Regression: Iter 3920, Cost 0.0006372478804631617\n",
      "Standard Logistic Regression: Iter 3930, Cost 0.0006357324402522323\n",
      "Standard Logistic Regression: Iter 3940, Cost 0.0006342244061726984\n",
      "Standard Logistic Regression: Iter 3950, Cost 0.0006327237234677352\n",
      "Standard Logistic Regression: Iter 3960, Cost 0.0006312303379220744\n",
      "Standard Logistic Regression: Iter 3970, Cost 0.0006297441958552632\n",
      "Standard Logistic Regression: Iter 3980, Cost 0.0006282652441151497\n",
      "Standard Logistic Regression: Iter 3990, Cost 0.0006267934300712773\n",
      "Standard Logistic Regression: Iter 4000, Cost 0.0006253287016085552\n",
      "Standard Logistic Regression: Iter 4010, Cost 0.0006238710071209117\n",
      "Standard Logistic Regression: Iter 4020, Cost 0.0006224202955050541\n",
      "Standard Logistic Regression: Iter 4030, Cost 0.0006209765161544243\n",
      "Standard Logistic Regression: Iter 4040, Cost 0.0006195396189530387\n",
      "Standard Logistic Regression: Iter 4050, Cost 0.0006181095542695871\n",
      "Standard Logistic Regression: Iter 4060, Cost 0.000616686272951608\n",
      "Standard Logistic Regression: Iter 4070, Cost 0.0006152697263196581\n",
      "Standard Logistic Regression: Iter 4080, Cost 0.0006138598661615817\n",
      "Standard Logistic Regression: Iter 4090, Cost 0.000612456644727068\n",
      "Standard Logistic Regression: Iter 4100, Cost 0.0006110600147218521\n",
      "Standard Logistic Regression: Iter 4110, Cost 0.0006096699293024994\n",
      "Standard Logistic Regression: Iter 4120, Cost 0.0006082863420708615\n",
      "Standard Logistic Regression: Iter 4130, Cost 0.0006069092070689724\n",
      "Standard Logistic Regression: Iter 4140, Cost 0.0006055384787734867\n",
      "Standard Logistic Regression: Iter 4150, Cost 0.0006041741120910056\n",
      "Standard Logistic Regression: Iter 4160, Cost 0.000602816062352525\n",
      "Standard Logistic Regression: Iter 4170, Cost 0.000601464285308801\n",
      "Standard Logistic Regression: Iter 4180, Cost 0.0006001187371251419\n",
      "Standard Logistic Regression: Iter 4190, Cost 0.0005987793743767779\n",
      "Standard Logistic Regression: Iter 4200, Cost 0.0005974461540438509\n",
      "Standard Logistic Regression: Iter 4210, Cost 0.0005961190335069286\n",
      "Standard Logistic Regression: Iter 4220, Cost 0.0005947979705420636\n",
      "Standard Logistic Regression: Iter 4230, Cost 0.0005934829233163989\n",
      "Standard Logistic Regression: Iter 4240, Cost 0.0005921738503836394\n",
      "Standard Logistic Regression: Iter 4250, Cost 0.0005908707106794127\n",
      "Standard Logistic Regression: Iter 4260, Cost 0.0005895734635170579\n",
      "Standard Logistic Regression: Iter 4270, Cost 0.0005882820685831387\n",
      "Standard Logistic Regression: Iter 4280, Cost 0.0005869964859332205\n",
      "Standard Logistic Regression: Iter 4290, Cost 0.0005857166759876596\n",
      "Standard Logistic Regression: Iter 4300, Cost 0.000584442599527403\n",
      "Standard Logistic Regression: Iter 4310, Cost 0.0005831742176898598\n",
      "Standard Logistic Regression: Iter 4320, Cost 0.0005819114919648806\n",
      "Standard Logistic Regression: Iter 4330, Cost 0.000580654384190737\n",
      "Standard Logistic Regression: Iter 4340, Cost 0.0005794028565502384\n",
      "Standard Logistic Regression: Iter 4350, Cost 0.0005781568715667005\n",
      "Standard Logistic Regression: Iter 4360, Cost 0.0005769163921002161\n",
      "Standard Logistic Regression: Iter 4370, Cost 0.0005756813813439017\n",
      "Standard Logistic Regression: Iter 4380, Cost 0.0005744518028200871\n",
      "Standard Logistic Regression: Iter 4390, Cost 0.0005732276203765638\n",
      "Standard Logistic Regression: Iter 4400, Cost 0.0005720087981831047\n",
      "Standard Logistic Regression: Iter 4410, Cost 0.0005707953007278473\n",
      "Standard Logistic Regression: Iter 4420, Cost 0.0005695870928135786\n",
      "Standard Logistic Regression: Iter 4430, Cost 0.0005683841395544539\n",
      "Standard Logistic Regression: Iter 4440, Cost 0.0005671864063725378\n",
      "Standard Logistic Regression: Iter 4450, Cost 0.00056599385899417\n",
      "Standard Logistic Regression: Iter 4460, Cost 0.0005648064634469497\n",
      "Standard Logistic Regression: Iter 4470, Cost 0.0005636241860561108\n",
      "Standard Logistic Regression: Iter 4480, Cost 0.0005624469934415289\n",
      "Standard Logistic Regression: Iter 4490, Cost 0.0005612748525142388\n",
      "Standard Logistic Regression: Iter 4500, Cost 0.0005601077304734826\n",
      "Standard Logistic Regression: Iter 4510, Cost 0.0005589455948034258\n",
      "Standard Logistic Regression: Iter 4520, Cost 0.000557788413270097\n",
      "Standard Logistic Regression: Iter 4530, Cost 0.0005566361539183126\n",
      "Standard Logistic Regression: Iter 4540, Cost 0.0005554887850687606\n",
      "Standard Logistic Regression: Iter 4550, Cost 0.0005543462753148332\n",
      "Standard Logistic Regression: Iter 4560, Cost 0.0005532085935198551\n",
      "Standard Logistic Regression: Iter 4570, Cost 0.0005520757088141088\n"
     ]
    },
    {
     "name": "stdout",
     "output_type": "stream",
     "text": [
      "Standard Logistic Regression: Iter 4580, Cost 0.0005509475905919984\n",
      "Standard Logistic Regression: Iter 4590, Cost 0.0005498242085091494\n",
      "Standard Logistic Regression: Iter 4600, Cost 0.0005487055324797402\n",
      "Standard Logistic Regression: Iter 4610, Cost 0.0005475915326735979\n",
      "Standard Logistic Regression: Iter 4620, Cost 0.0005464821795136176\n",
      "Standard Logistic Regression: Iter 4630, Cost 0.0005453774436729624\n",
      "Standard Logistic Regression: Iter 4640, Cost 0.0005442772960725209\n",
      "Standard Logistic Regression: Iter 4650, Cost 0.0005431817078781948\n",
      "Standard Logistic Regression: Iter 4660, Cost 0.0005420906504983403\n",
      "Standard Logistic Regression: Iter 4670, Cost 0.0005410040955812945\n",
      "Standard Logistic Regression: Iter 4680, Cost 0.0005399220150126629\n",
      "Standard Logistic Regression: Iter 4690, Cost 0.000538844380913101\n",
      "Standard Logistic Regression: Iter 4700, Cost 0.0005377711656355754\n",
      "Standard Logistic Regression: Iter 4710, Cost 0.0005367023417632042\n",
      "Standard Logistic Regression: Iter 4720, Cost 0.0005356378821066235\n",
      "Standard Logistic Regression: Iter 4730, Cost 0.0005345777597017843\n",
      "Standard Logistic Regression: Iter 4740, Cost 0.0005335219478075783\n",
      "Standard Logistic Regression: Iter 4750, Cost 0.0005324704199034686\n",
      "Standard Logistic Regression: Iter 4760, Cost 0.0005314231496872764\n",
      "Standard Logistic Regression: Iter 4770, Cost 0.0005303801110729325\n",
      "Standard Logistic Regression: Iter 4780, Cost 0.0005293412781882005\n",
      "Standard Logistic Regression: Iter 4790, Cost 0.0005283066253725195\n",
      "Standard Logistic Regression: Iter 4800, Cost 0.0005272761271748709\n",
      "Standard Logistic Regression: Iter 4810, Cost 0.0005262497583515715\n",
      "Standard Logistic Regression: Iter 4820, Cost 0.0005252274938641948\n",
      "Standard Logistic Regression: Iter 4830, Cost 0.0005242093088774239\n",
      "Standard Logistic Regression: Iter 4840, Cost 0.0005231951787571517\n",
      "Standard Logistic Regression: Iter 4850, Cost 0.0005221850790681944\n",
      "Standard Logistic Regression: Iter 4860, Cost 0.000521178985572537\n",
      "Standard Logistic Regression: Iter 4870, Cost 0.0005201768742270916\n",
      "Standard Logistic Regression: Iter 4880, Cost 0.0005191787211819794\n",
      "Standard Logistic Regression: Iter 4890, Cost 0.0005181845027783758\n",
      "Standard Logistic Regression: Iter 4900, Cost 0.00051719419554677\n",
      "Standard Logistic Regression: Iter 4910, Cost 0.0005162077762049005\n",
      "Standard Logistic Regression: Iter 4920, Cost 0.0005152252216560447\n",
      "Standard Logistic Regression: Iter 4930, Cost 0.0005142465089870601\n",
      "Standard Logistic Regression: Iter 4940, Cost 0.0005132716154666063\n",
      "Standard Logistic Regression: Iter 4950, Cost 0.0005123005185433077\n",
      "Standard Logistic Regression: Iter 4960, Cost 0.0005113331958439673\n",
      "Standard Logistic Regression: Iter 4970, Cost 0.000510369625171906\n",
      "Standard Logistic Regression: Iter 4980, Cost 0.0005094097845050147\n",
      "Standard Logistic Regression: Iter 4990, Cost 0.0005084536519942772\n",
      "Standard Logistic Regression: Iter 5000, Cost 0.0005075012059618508\n",
      "Standard Logistic Regression: Iter 5010, Cost 0.0005065524248995624\n",
      "Standard Logistic Regression: Iter 5020, Cost 0.0005056072874671555\n",
      "Standard Logistic Regression: Iter 5030, Cost 0.0005046657724905719\n",
      "Standard Logistic Regression: Iter 5040, Cost 0.0005037278589605309\n",
      "Standard Logistic Regression: Iter 5050, Cost 0.0005027935260307502\n",
      "Standard Logistic Regression: Iter 5060, Cost 0.0005018627530165106\n",
      "Standard Logistic Regression: Iter 5070, Cost 0.0005009355193928584\n",
      "Standard Logistic Regression: Iter 5080, Cost 0.0005000118047933319\n",
      "Standard Logistic Regression: Iter 5090, Cost 0.0004990915890082411\n",
      "Standard Logistic Regression: Iter 5100, Cost 0.00049817485198325\n",
      "Standard Logistic Regression: Iter 5110, Cost 0.0004972615738178774\n",
      "Standard Logistic Regression: Iter 5120, Cost 0.000496351734763914\n",
      "Standard Logistic Regression: Iter 5130, Cost 0.0004954453152240853\n",
      "Standard Logistic Regression: Iter 5140, Cost 0.0004945422957505669\n",
      "Standard Logistic Regression: Iter 5150, Cost 0.0004936426570435851\n",
      "Standard Logistic Regression: Iter 5160, Cost 0.0004927463799499031\n",
      "Standard Logistic Regression: Iter 5170, Cost 0.000491853445461591\n",
      "Standard Logistic Regression: Iter 5180, Cost 0.0004909638347144538\n",
      "Standard Logistic Regression: Iter 5190, Cost 0.0004900775289868488\n",
      "Standard Logistic Regression: Iter 5200, Cost 0.000489194509698248\n",
      "Standard Logistic Regression: Iter 5210, Cost 0.0004883147584079324\n",
      "Standard Logistic Regression: Iter 5220, Cost 0.0004874382568135943\n",
      "Standard Logistic Regression: Iter 5230, Cost 0.00048656498675015114\n",
      "Standard Logistic Regression: Iter 5240, Cost 0.00048569493018845323\n",
      "Standard Logistic Regression: Iter 5250, Cost 0.00048482806923390976\n",
      "Standard Logistic Regression: Iter 5260, Cost 0.0004839643861252769\n",
      "Standard Logistic Regression: Iter 5270, Cost 0.00048310386323346705\n",
      "Standard Logistic Regression: Iter 5280, Cost 0.00048224648306026234\n",
      "Standard Logistic Regression: Iter 5290, Cost 0.00048139222823713305\n",
      "Standard Logistic Regression: Iter 5300, Cost 0.000480541081523984\n",
      "Standard Logistic Regression: Iter 5310, Cost 0.00047969302580796503\n",
      "Standard Logistic Regression: Iter 5320, Cost 0.00047884804410243176\n",
      "Standard Logistic Regression: Iter 5330, Cost 0.00047800611954553954\n",
      "Standard Logistic Regression: Iter 5340, Cost 0.000477167235399373\n",
      "Standard Logistic Regression: Iter 5350, Cost 0.00047633137504854726\n",
      "Standard Logistic Regression: Iter 5360, Cost 0.0004754985219992205\n",
      "Standard Logistic Regression: Iter 5370, Cost 0.0004746686598780111\n",
      "Standard Logistic Regression: Iter 5380, Cost 0.00047384177243083134\n",
      "Standard Logistic Regression: Iter 5390, Cost 0.0004730178435217591\n",
      "Standard Logistic Regression: Iter 5400, Cost 0.00047219685713207227\n",
      "Standard Logistic Regression: Iter 5410, Cost 0.0004713787973591349\n",
      "Standard Logistic Regression: Iter 5420, Cost 0.00047056364841525873\n",
      "Standard Logistic Regression: Iter 5430, Cost 0.00046975139462682625\n",
      "Standard Logistic Regression: Iter 5440, Cost 0.00046894202043317764\n",
      "Standard Logistic Regression: Iter 5450, Cost 0.00046813551038548605\n",
      "Standard Logistic Regression: Iter 5460, Cost 0.00046733184914594505\n",
      "Standard Logistic Regression: Iter 5470, Cost 0.0004665310214866554\n",
      "Standard Logistic Regression: Iter 5480, Cost 0.00046573301228863503\n",
      "Standard Logistic Regression: Iter 5490, Cost 0.000464937806540911\n",
      "Standard Logistic Regression: Iter 5500, Cost 0.0004641453893394824\n",
      "Standard Logistic Regression: Iter 5510, Cost 0.0004633557458864162\n",
      "Standard Logistic Regression: Iter 5520, Cost 0.00046256886148878467\n",
      "Standard Logistic Regression: Iter 5530, Cost 0.000461784721558047\n",
      "Standard Logistic Regression: Iter 5540, Cost 0.00046100331160862365\n",
      "Standard Logistic Regression: Iter 5550, Cost 0.00046022461725747855\n",
      "Standard Logistic Regression: Iter 5560, Cost 0.0004594486242229372\n",
      "Standard Logistic Regression: Iter 5570, Cost 0.00045867531832379394\n",
      "Standard Logistic Regression: Iter 5580, Cost 0.00045790468547858413\n",
      "Standard Logistic Regression: Iter 5590, Cost 0.0004571367117045349\n",
      "Standard Logistic Regression: Iter 5600, Cost 0.0004563713831167459\n",
      "Standard Logistic Regression: Iter 5610, Cost 0.0004556086859274413\n",
      "Standard Logistic Regression: Iter 5620, Cost 0.00045484860644499377\n",
      "Standard Logistic Regression: Iter 5630, Cost 0.0004540911310730993\n",
      "Standard Logistic Regression: Iter 5640, Cost 0.0004533362463100212\n",
      "Standard Logistic Regression: Iter 5650, Cost 0.00045258393874769807\n",
      "Standard Logistic Regression: Iter 5660, Cost 0.00045183419507090726\n",
      "Standard Logistic Regression: Iter 5670, Cost 0.00045108700205660925\n",
      "Standard Logistic Regression: Iter 5680, Cost 0.00045034234657291686\n",
      "Standard Logistic Regression: Iter 5690, Cost 0.0004496002155784925\n",
      "Standard Logistic Regression: Iter 5700, Cost 0.00044886059612170883\n",
      "Standard Logistic Regression: Iter 5710, Cost 0.0004481234753399217\n",
      "Standard Logistic Regression: Iter 5720, Cost 0.0004473888404585586\n",
      "Standard Logistic Regression: Iter 5730, Cost 0.00044665667879050246\n",
      "Standard Logistic Regression: Iter 5740, Cost 0.0004459269777352998\n",
      "Standard Logistic Regression: Iter 5750, Cost 0.0004451997247785174\n",
      "Standard Logistic Regression: Iter 5760, Cost 0.00044447490749072237\n",
      "Standard Logistic Regression: Iter 5770, Cost 0.0004437525135270939\n",
      "Standard Logistic Regression: Iter 5780, Cost 0.00044303253062652145\n",
      "Standard Logistic Regression: Iter 5790, Cost 0.00044231494661092394\n",
      "Standard Logistic Regression: Iter 5800, Cost 0.0004415997493845204\n",
      "Standard Logistic Regression: Iter 5810, Cost 0.00044088692693321934\n"
     ]
    },
    {
     "name": "stdout",
     "output_type": "stream",
     "text": [
      "Standard Logistic Regression: Iter 5820, Cost 0.0004401764673238192\n",
      "Standard Logistic Regression: Iter 5830, Cost 0.00043946835870340394\n",
      "Standard Logistic Regression: Iter 5840, Cost 0.00043876258929865755\n",
      "Standard Logistic Regression: Iter 5850, Cost 0.00043805914741516474\n",
      "Standard Logistic Regression: Iter 5860, Cost 0.00043735802143675677\n",
      "Standard Logistic Regression: Iter 5870, Cost 0.00043665919982485354\n",
      "Standard Logistic Regression: Iter 5880, Cost 0.00043596267111783196\n",
      "Standard Logistic Regression: Iter 5890, Cost 0.000435268423930418\n",
      "Standard Logistic Regression: Iter 5900, Cost 0.00043457644695294383\n",
      "Standard Logistic Regression: Iter 5910, Cost 0.0004338867289508374\n",
      "Standard Logistic Regression: Iter 5920, Cost 0.00043319925876386894\n",
      "Standard Logistic Regression: Iter 5930, Cost 0.0004325140253056654\n",
      "Standard Logistic Regression: Iter 5940, Cost 0.0004318310175630508\n",
      "Standard Logistic Regression: Iter 5950, Cost 0.00043115022459538693\n",
      "Standard Logistic Regression: Iter 5960, Cost 0.0004304716355340602\n",
      "Standard Logistic Regression: Iter 5970, Cost 0.00042979523958180856\n",
      "Standard Logistic Regression: Iter 5980, Cost 0.00042912102601220067\n",
      "Standard Logistic Regression: Iter 5990, Cost 0.0004284489841690626\n",
      "Standard Logistic Regression: Iter 6000, Cost 0.00042777910346579326\n",
      "Standard Logistic Regression: Iter 6010, Cost 0.0004271113733848989\n",
      "Standard Logistic Regression: Iter 6020, Cost 0.00042644578347740374\n",
      "Standard Logistic Regression: Iter 6030, Cost 0.00042578232336230187\n",
      "Standard Logistic Regression: Iter 6040, Cost 0.00042512098272596367\n",
      "Standard Logistic Regression: Iter 6050, Cost 0.000424461751321608\n",
      "Standard Logistic Regression: Iter 6060, Cost 0.0004238046189687703\n",
      "Standard Logistic Regression: Iter 6070, Cost 0.00042314957555277915\n",
      "Standard Logistic Regression: Iter 6080, Cost 0.000422496611024187\n",
      "Standard Logistic Regression: Iter 6090, Cost 0.0004218457153982125\n",
      "Standard Logistic Regression: Iter 6100, Cost 0.0004211968787543772\n",
      "Standard Logistic Regression: Iter 6110, Cost 0.0004205500912357647\n",
      "Standard Logistic Regression: Iter 6120, Cost 0.0004199053430486848\n",
      "Standard Logistic Regression: Iter 6130, Cost 0.00041926262446206414\n",
      "Standard Logistic Regression: Iter 6140, Cost 0.00041862192580703974\n",
      "Standard Logistic Regression: Iter 6150, Cost 0.00041798323747633685\n",
      "Standard Logistic Regression: Iter 6160, Cost 0.0004173465499238791\n",
      "Standard Logistic Regression: Iter 6170, Cost 0.0004167118536642933\n",
      "Standard Logistic Regression: Iter 6180, Cost 0.0004160791392723711\n",
      "Standard Logistic Regression: Iter 6190, Cost 0.0004154483973826062\n",
      "Standard Logistic Regression: Iter 6200, Cost 0.00041481961868872826\n",
      "Standard Logistic Regression: Iter 6210, Cost 0.00041419279394330186\n",
      "Standard Logistic Regression: Iter 6220, Cost 0.00041356791395711837\n",
      "Standard Logistic Regression: Iter 6230, Cost 0.00041294496959891195\n",
      "Standard Logistic Regression: Iter 6240, Cost 0.0004123239517947288\n",
      "Standard Logistic Regression: Iter 6250, Cost 0.0004117048515275244\n",
      "Standard Logistic Regression: Iter 6260, Cost 0.0004110876598368438\n",
      "Standard Logistic Regression: Iter 6270, Cost 0.00041047236781826537\n",
      "Standard Logistic Regression: Iter 6280, Cost 0.0004098589666229043\n",
      "Standard Logistic Regression: Iter 6290, Cost 0.00040924744745712025\n",
      "Standard Logistic Regression: Iter 6300, Cost 0.00040863780158195906\n",
      "Standard Logistic Regression: Iter 6310, Cost 0.0004080300203128362\n",
      "Standard Logistic Regression: Iter 6320, Cost 0.0004074240950190532\n",
      "Standard Logistic Regression: Iter 6330, Cost 0.0004068200171233755\n",
      "Standard Logistic Regression: Iter 6340, Cost 0.0004062177781015912\n",
      "Standard Logistic Regression: Iter 6350, Cost 0.00040561736948221337\n",
      "Standard Logistic Regression: Iter 6360, Cost 0.00040501878284596084\n",
      "Standard Logistic Regression: Iter 6370, Cost 0.0004044220098253948\n",
      "Standard Logistic Regression: Iter 6380, Cost 0.0004038270421044797\n",
      "Standard Logistic Regression: Iter 6390, Cost 0.000403233871418278\n",
      "Standard Logistic Regression: Iter 6400, Cost 0.00040264248955247813\n",
      "Standard Logistic Regression: Iter 6410, Cost 0.00040205288834302004\n",
      "Standard Logistic Regression: Iter 6420, Cost 0.0004014650596757365\n",
      "Standard Logistic Regression: Iter 6430, Cost 0.0004008789954859956\n",
      "Standard Logistic Regression: Iter 6440, Cost 0.0004002946877582037\n",
      "Standard Logistic Regression: Iter 6450, Cost 0.00039971212852553075\n",
      "Standard Logistic Regression: Iter 6460, Cost 0.00039913130986953286\n",
      "Standard Logistic Regression: Iter 6470, Cost 0.00039855222391981936\n",
      "Standard Logistic Regression: Iter 6480, Cost 0.0003979748628535477\n",
      "Standard Logistic Regression: Iter 6490, Cost 0.00039739921889519634\n",
      "Standard Logistic Regression: Iter 6500, Cost 0.00039682528431619505\n",
      "Standard Logistic Regression: Iter 6510, Cost 0.000396253051434471\n",
      "Standard Logistic Regression: Iter 6520, Cost 0.00039568251261422284\n",
      "Standard Logistic Regression: Iter 6530, Cost 0.0003951136602654728\n",
      "Standard Logistic Regression: Iter 6540, Cost 0.0003945464868437938\n",
      "Standard Logistic Regression: Iter 6550, Cost 0.00039398098484996064\n",
      "Standard Logistic Regression: Iter 6560, Cost 0.00039341714682950853\n",
      "Standard Logistic Regression: Iter 6570, Cost 0.0003928549653725928\n",
      "Standard Logistic Regression: Iter 6580, Cost 0.00039229443311338577\n",
      "Standard Logistic Regression: Iter 6590, Cost 0.0003917355427300755\n",
      "Standard Logistic Regression: Iter 6600, Cost 0.0003911782869441995\n",
      "Standard Logistic Regression: Iter 6610, Cost 0.00039062265852065335\n",
      "Standard Logistic Regression: Iter 6620, Cost 0.0003900686502670424\n",
      "Standard Logistic Regression: Iter 6630, Cost 0.0003895162550336482\n",
      "Standard Logistic Regression: Iter 6640, Cost 0.0003889654657129244\n",
      "Standard Logistic Regression: Iter 6650, Cost 0.00038841627523924995\n",
      "Standard Logistic Regression: Iter 6660, Cost 0.0003878686765886746\n",
      "Standard Logistic Regression: Iter 6670, Cost 0.00038732266277844443\n",
      "Standard Logistic Regression: Iter 6680, Cost 0.00038677822686693935\n",
      "Standard Logistic Regression: Iter 6690, Cost 0.0003862353619531874\n",
      "Standard Logistic Regression: Iter 6700, Cost 0.00038569406117655727\n",
      "Standard Logistic Regression: Iter 6710, Cost 0.000385154317716629\n",
      "Standard Logistic Regression: Iter 6720, Cost 0.000384616124792731\n",
      "Standard Logistic Regression: Iter 6730, Cost 0.0003840794756637182\n",
      "Standard Logistic Regression: Iter 6740, Cost 0.0003835443636277351\n",
      "Standard Logistic Regression: Iter 6750, Cost 0.00038301078202176314\n",
      "Standard Logistic Regression: Iter 6760, Cost 0.000382478724221583\n",
      "Standard Logistic Regression: Iter 6770, Cost 0.00038194818364123157\n",
      "Standard Logistic Regression: Iter 6780, Cost 0.0003814191537329527\n",
      "Standard Logistic Regression: Iter 6790, Cost 0.0003808916279867759\n",
      "Standard Logistic Regression: Iter 6800, Cost 0.0003803655999302511\n",
      "Standard Logistic Regression: Iter 6810, Cost 0.0003798410631282631\n",
      "Standard Logistic Regression: Iter 6820, Cost 0.0003793180111826889\n",
      "Standard Logistic Regression: Iter 6830, Cost 0.00037879643773218447\n",
      "Standard Logistic Regression: Iter 6840, Cost 0.00037827633645186646\n",
      "Standard Logistic Regression: Iter 6850, Cost 0.0003777577010530359\n",
      "Standard Logistic Regression: Iter 6860, Cost 0.00037724052528298734\n",
      "Standard Logistic Regression: Iter 6870, Cost 0.0003767248029247465\n",
      "Standard Logistic Regression: Iter 6880, Cost 0.000376210527796757\n",
      "Standard Logistic Regression: Iter 6890, Cost 0.0003756976937526574\n",
      "Standard Logistic Regression: Iter 6900, Cost 0.00037518629468104834\n",
      "Standard Logistic Regression: Iter 6910, Cost 0.0003746763245052304\n",
      "Standard Logistic Regression: Iter 6920, Cost 0.0003741677771829108\n",
      "Standard Logistic Regression: Iter 6930, Cost 0.00037366064670602103\n",
      "Standard Logistic Regression: Iter 6940, Cost 0.0003731549271005186\n",
      "Standard Logistic Regression: Iter 6950, Cost 0.0003726506124259658\n",
      "Standard Logistic Regression: Iter 6960, Cost 0.00037214769677550635\n",
      "Standard Logistic Regression: Iter 6970, Cost 0.0003716461742754912\n",
      "Standard Logistic Regression: Iter 6980, Cost 0.00037114603908525005\n",
      "Standard Logistic Regression: Iter 6990, Cost 0.0003706472853969974\n",
      "Standard Logistic Regression: Iter 7000, Cost 0.0003701499074353599\n",
      "Standard Logistic Regression: Iter 7010, Cost 0.0003696538994573961\n",
      "Standard Logistic Regression: Iter 7020, Cost 0.00036915925575223794\n",
      "Standard Logistic Regression: Iter 7030, Cost 0.0003686659706407911\n",
      "Standard Logistic Regression: Iter 7040, Cost 0.0003681740384757398\n",
      "Standard Logistic Regression: Iter 7050, Cost 0.00036768345364117025\n",
      "Standard Logistic Regression: Iter 7060, Cost 0.00036719421055226393\n",
      "Standard Logistic Regression: Iter 7070, Cost 0.00036670630365534323\n",
      "Standard Logistic Regression: Iter 7080, Cost 0.00036621972742739565\n",
      "Standard Logistic Regression: Iter 7090, Cost 0.00036573447637604396\n",
      "Standard Logistic Regression: Iter 7100, Cost 0.00036525054503919863\n",
      "Standard Logistic Regression: Iter 7110, Cost 0.0003647679279849612\n",
      "Standard Logistic Regression: Iter 7120, Cost 0.00036428661981129887\n",
      "Standard Logistic Regression: Iter 7130, Cost 0.0003638066151459981\n",
      "Standard Logistic Regression: Iter 7140, Cost 0.00036332790864628895\n",
      "Standard Logistic Regression: Iter 7150, Cost 0.00036285049499872675\n",
      "Standard Logistic Regression: Iter 7160, Cost 0.00036237436891900515\n",
      "Standard Logistic Regression: Iter 7170, Cost 0.0003618995251517546\n",
      "Standard Logistic Regression: Iter 7180, Cost 0.0003614259584702081\n",
      "Standard Logistic Regression: Iter 7190, Cost 0.0003609536636763362\n",
      "Standard Logistic Regression: Iter 7200, Cost 0.00036048263560018703\n",
      "Standard Logistic Regression: Iter 7210, Cost 0.00036001286910009955\n",
      "Standard Logistic Regression: Iter 7220, Cost 0.0003595443590623105\n",
      "Standard Logistic Regression: Iter 7230, Cost 0.0003590771004008005\n",
      "Standard Logistic Regression: Iter 7240, Cost 0.00035861108805711526\n",
      "Standard Logistic Regression: Iter 7250, Cost 0.00035814631700017\n",
      "Standard Logistic Regression: Iter 7260, Cost 0.0003576827822261122\n",
      "Standard Logistic Regression: Iter 7270, Cost 0.00035722047875798974\n",
      "Standard Logistic Regression: Iter 7280, Cost 0.00035675940164580326\n",
      "Standard Logistic Regression: Iter 7290, Cost 0.00035629954596611544\n",
      "Standard Logistic Regression: Iter 7300, Cost 0.0003558409068219615\n",
      "Standard Logistic Regression: Iter 7310, Cost 0.00035538347934267294\n",
      "Standard Logistic Regression: Iter 7320, Cost 0.0003549272586836822\n",
      "Standard Logistic Regression: Iter 7330, Cost 0.00035447224002636076\n",
      "Standard Logistic Regression: Iter 7340, Cost 0.00035401841857781184\n",
      "Standard Logistic Regression: Iter 7350, Cost 0.0003535657895707783\n",
      "Standard Logistic Regression: Iter 7360, Cost 0.0003531143482633474\n",
      "Standard Logistic Regression: Iter 7370, Cost 0.0003526640899388989\n",
      "Standard Logistic Regression: Iter 7380, Cost 0.0003522150099058885\n",
      "Standard Logistic Regression: Iter 7390, Cost 0.00035176710349764314\n",
      "Standard Logistic Regression: Iter 7400, Cost 0.0003513203660722665\n",
      "Standard Logistic Regression: Iter 7410, Cost 0.0003508747930124648\n",
      "Standard Logistic Regression: Iter 7420, Cost 0.000350430379725308\n",
      "Standard Logistic Regression: Iter 7430, Cost 0.0003499871216421197\n",
      "Standard Logistic Regression: Iter 7440, Cost 0.0003495450142183712\n",
      "Standard Logistic Regression: Iter 7450, Cost 0.00034910405293344125\n",
      "Standard Logistic Regression: Iter 7460, Cost 0.00034866423329047125\n",
      "Standard Logistic Regression: Iter 7470, Cost 0.0003482255508162304\n",
      "Standard Logistic Regression: Iter 7480, Cost 0.0003477880010609735\n",
      "Standard Logistic Regression: Iter 7490, Cost 0.0003473515795982539\n",
      "Standard Logistic Regression: Iter 7500, Cost 0.0003469162820247531\n",
      "Standard Logistic Regression: Iter 7510, Cost 0.00034648210396021344\n",
      "Standard Logistic Regression: Iter 7520, Cost 0.00034604904104717566\n",
      "Standard Logistic Regression: Iter 7530, Cost 0.0003456170889509534\n",
      "Standard Logistic Regression: Iter 7540, Cost 0.0003451862433593491\n"
     ]
    },
    {
     "name": "stdout",
     "output_type": "stream",
     "text": [
      "Standard Logistic Regression: Iter 7550, Cost 0.0003447564999825999\n",
      "Standard Logistic Regression: Iter 7560, Cost 0.0003443278545532693\n",
      "Standard Logistic Regression: Iter 7570, Cost 0.0003439003028259536\n",
      "Standard Logistic Regression: Iter 7580, Cost 0.0003434738405772347\n",
      "Standard Logistic Regression: Iter 7590, Cost 0.0003430484636056039\n",
      "Standard Logistic Regression: Iter 7600, Cost 0.000342624167731167\n",
      "Standard Logistic Regression: Iter 7610, Cost 0.0003422009487956261\n",
      "Standard Logistic Regression: Iter 7620, Cost 0.0003417788026620825\n",
      "Standard Logistic Regression: Iter 7630, Cost 0.0003413577252148882\n",
      "Standard Logistic Regression: Iter 7640, Cost 0.00034093771235956986\n",
      "Standard Logistic Regression: Iter 7650, Cost 0.0003405187600226621\n",
      "Standard Logistic Regression: Iter 7660, Cost 0.0003401008641515393\n",
      "Standard Logistic Regression: Iter 7670, Cost 0.00033968402071431273\n",
      "Standard Logistic Regression: Iter 7680, Cost 0.00033926822569970436\n",
      "Standard Logistic Regression: Iter 7690, Cost 0.00033885347511690455\n",
      "Standard Logistic Regression: Iter 7700, Cost 0.0003384397649954408\n",
      "Standard Logistic Regression: Iter 7710, Cost 0.0003380270913850352\n",
      "Standard Logistic Regression: Iter 7720, Cost 0.00033761545035548753\n",
      "Standard Logistic Regression: Iter 7730, Cost 0.00033720483799658496\n",
      "Standard Logistic Regression: Iter 7740, Cost 0.0003367952504179268\n",
      "Standard Logistic Regression: Iter 7750, Cost 0.00033638668374877086\n",
      "Standard Logistic Regression: Iter 7760, Cost 0.00033597913413798845\n",
      "Standard Logistic Regression: Iter 7770, Cost 0.00033557259775390233\n",
      "Standard Logistic Regression: Iter 7780, Cost 0.00033516707078415\n",
      "Standard Logistic Regression: Iter 7790, Cost 0.00033476254943553055\n",
      "Standard Logistic Regression: Iter 7800, Cost 0.00033435902993400883\n",
      "Standard Logistic Regression: Iter 7810, Cost 0.0003339565085244851\n",
      "Standard Logistic Regression: Iter 7820, Cost 0.0003335549814706519\n",
      "Standard Logistic Regression: Iter 7830, Cost 0.000333154445054983\n",
      "Standard Logistic Regression: Iter 7840, Cost 0.000332754895578546\n",
      "Standard Logistic Regression: Iter 7850, Cost 0.00033235632936089653\n",
      "Standard Logistic Regression: Iter 7860, Cost 0.0003319587427399829\n",
      "Standard Logistic Regression: Iter 7870, Cost 0.00033156213207196803\n",
      "Standard Logistic Regression: Iter 7880, Cost 0.00033116649373118954\n",
      "Standard Logistic Regression: Iter 7890, Cost 0.00033077182411005125\n",
      "Standard Logistic Regression: Iter 7900, Cost 0.00033037811961881907\n",
      "Standard Logistic Regression: Iter 7910, Cost 0.00032998537668560163\n",
      "Standard Logistic Regression: Iter 7920, Cost 0.0003295935917562134\n",
      "Standard Logistic Regression: Iter 7930, Cost 0.00032920276129403206\n",
      "Standard Logistic Regression: Iter 7940, Cost 0.0003288128817798984\n",
      "Standard Logistic Regression: Iter 7950, Cost 0.0003284239497120876\n",
      "Standard Logistic Regression: Iter 7960, Cost 0.0003280359616061059\n",
      "Standard Logistic Regression: Iter 7970, Cost 0.0003276489139946068\n",
      "Standard Logistic Regression: Iter 7980, Cost 0.0003272628034272907\n",
      "Standard Logistic Regression: Iter 7990, Cost 0.0003268776264708509\n",
      "Standard Logistic Regression: Iter 8000, Cost 0.00032649337970874575\n",
      "Standard Logistic Regression: Iter 8010, Cost 0.0003261100597412728\n",
      "Standard Logistic Regression: Iter 8020, Cost 0.00032572766318526625\n",
      "Standard Logistic Regression: Iter 8030, Cost 0.00032534618667413384\n",
      "Standard Logistic Regression: Iter 8040, Cost 0.0003249656268577494\n",
      "Standard Logistic Regression: Iter 8050, Cost 0.0003245859804022625\n",
      "Standard Logistic Regression: Iter 8060, Cost 0.0003242072439901371\n",
      "Standard Logistic Regression: Iter 8070, Cost 0.00032382941431985114\n",
      "Standard Logistic Regression: Iter 8080, Cost 0.00032345248810600977\n",
      "Standard Logistic Regression: Iter 8090, Cost 0.0003230764620791807\n",
      "Standard Logistic Regression: Iter 8100, Cost 0.00032270133298564974\n",
      "Standard Logistic Regression: Iter 8110, Cost 0.0003223270975875615\n",
      "Standard Logistic Regression: Iter 8120, Cost 0.0003219537526626496\n",
      "Standard Logistic Regression: Iter 8130, Cost 0.000321581295004214\n",
      "Standard Logistic Regression: Iter 8140, Cost 0.00032120972142105373\n",
      "Standard Logistic Regression: Iter 8150, Cost 0.0003208390287372692\n",
      "Standard Logistic Regression: Iter 8160, Cost 0.0003204692137922977\n",
      "Standard Logistic Regression: Iter 8170, Cost 0.00032010027344074924\n",
      "Standard Logistic Regression: Iter 8180, Cost 0.0003197322045522615\n",
      "Standard Logistic Regression: Iter 8190, Cost 0.0003193650040115299\n",
      "Standard Logistic Regression: Iter 8200, Cost 0.0003189986687181958\n",
      "Standard Logistic Regression: Iter 8210, Cost 0.00031863319558664364\n",
      "Standard Logistic Regression: Iter 8220, Cost 0.00031826858154598923\n",
      "Standard Logistic Regression: Iter 8230, Cost 0.0003179048235400873\n",
      "Standard Logistic Regression: Iter 8240, Cost 0.00031754191852724804\n",
      "Standard Logistic Regression: Iter 8250, Cost 0.0003171798634803033\n",
      "Standard Logistic Regression: Iter 8260, Cost 0.00031681865538645595\n",
      "Standard Logistic Regression: Iter 8270, Cost 0.00031645829124718776\n",
      "Standard Logistic Regression: Iter 8280, Cost 0.0003160987680782564\n",
      "Standard Logistic Regression: Iter 8290, Cost 0.00031574008290946424\n",
      "Standard Logistic Regression: Iter 8300, Cost 0.0003153822327847356\n",
      "Standard Logistic Regression: Iter 8310, Cost 0.00031502521476190555\n",
      "Standard Logistic Regression: Iter 8320, Cost 0.0003146690259126774\n",
      "Standard Logistic Regression: Iter 8330, Cost 0.00031431366332262256\n",
      "Standard Logistic Regression: Iter 8340, Cost 0.00031395912409094373\n",
      "Standard Logistic Regression: Iter 8350, Cost 0.00031360540533052766\n",
      "Standard Logistic Regression: Iter 8360, Cost 0.0003132525041678164\n",
      "Standard Logistic Regression: Iter 8370, Cost 0.0003129004177427075\n",
      "Standard Logistic Regression: Iter 8380, Cost 0.0003125491432085002\n",
      "Standard Logistic Regression: Iter 8390, Cost 0.00031219867773183427\n",
      "Standard Logistic Regression: Iter 8400, Cost 0.00031184901849253135\n",
      "Standard Logistic Regression: Iter 8410, Cost 0.00031150016268362475\n",
      "Standard Logistic Regression: Iter 8420, Cost 0.0003111521075112565\n",
      "Standard Logistic Regression: Iter 8430, Cost 0.00031080485019448255\n",
      "Standard Logistic Regression: Iter 8440, Cost 0.0003104583879653556\n",
      "Standard Logistic Regression: Iter 8450, Cost 0.00031011271806882177\n",
      "Standard Logistic Regression: Iter 8460, Cost 0.00030976783776252354\n",
      "Standard Logistic Regression: Iter 8470, Cost 0.0003094237443168485\n",
      "Standard Logistic Regression: Iter 8480, Cost 0.00030908043501487437\n",
      "Standard Logistic Regression: Iter 8490, Cost 0.00030873790715210106\n",
      "Standard Logistic Regression: Iter 8500, Cost 0.0003083961580366538\n",
      "Standard Logistic Regression: Iter 8510, Cost 0.0003080551849890407\n",
      "Standard Logistic Regression: Iter 8520, Cost 0.0003077149853420773\n",
      "Standard Logistic Regression: Iter 8530, Cost 0.00030737555644084786\n",
      "Standard Logistic Regression: Iter 8540, Cost 0.0003070368956426789\n",
      "Standard Logistic Regression: Iter 8550, Cost 0.0003066990003170321\n",
      "Standard Logistic Regression: Iter 8560, Cost 0.0003063618678453774\n",
      "Standard Logistic Regression: Iter 8570, Cost 0.000306025495621224\n",
      "Standard Logistic Regression: Iter 8580, Cost 0.00030568988105000893\n",
      "Standard Logistic Regression: Iter 8590, Cost 0.0003053550215489796\n",
      "Standard Logistic Regression: Iter 8600, Cost 0.0003050209145472271\n",
      "Standard Logistic Regression: Iter 8610, Cost 0.00030468755748551364\n",
      "Standard Logistic Regression: Iter 8620, Cost 0.0003043549478162803\n",
      "Standard Logistic Regression: Iter 8630, Cost 0.00030402308300356355\n",
      "Standard Logistic Regression: Iter 8640, Cost 0.00030369196052288674\n",
      "Standard Logistic Regression: Iter 8650, Cost 0.0003033615778612981\n",
      "Standard Logistic Regression: Iter 8660, Cost 0.00030303193251714043\n",
      "Standard Logistic Regression: Iter 8670, Cost 0.000302703022000156\n",
      "Standard Logistic Regression: Iter 8680, Cost 0.00030237484383129195\n",
      "Standard Logistic Regression: Iter 8690, Cost 0.0003020473955427608\n",
      "Standard Logistic Regression: Iter 8700, Cost 0.00030172067467786555\n",
      "Standard Logistic Regression: Iter 8710, Cost 0.0003013946787909851\n",
      "Standard Logistic Regression: Iter 8720, Cost 0.00030106940544750754\n",
      "Standard Logistic Regression: Iter 8730, Cost 0.00030074485222378496\n",
      "Standard Logistic Regression: Iter 8740, Cost 0.00030042101670699206\n",
      "Standard Logistic Regression: Iter 8750, Cost 0.00030009789649522553\n",
      "Standard Logistic Regression: Iter 8760, Cost 0.00029977548919728675\n",
      "Standard Logistic Regression: Iter 8770, Cost 0.0002994537924326711\n",
      "Standard Logistic Regression: Iter 8780, Cost 0.00029913280383155315\n",
      "Standard Logistic Regression: Iter 8790, Cost 0.00029881252103465333\n",
      "Standard Logistic Regression: Iter 8800, Cost 0.00029849294169322923\n",
      "Standard Logistic Regression: Iter 8810, Cost 0.00029817406346903624\n",
      "Standard Logistic Regression: Iter 8820, Cost 0.000297855884034186\n",
      "Standard Logistic Regression: Iter 8830, Cost 0.0002975384010711733\n",
      "Standard Logistic Regression: Iter 8840, Cost 0.0002972216122727378\n",
      "Standard Logistic Regression: Iter 8850, Cost 0.0002969055153419263\n",
      "Standard Logistic Regression: Iter 8860, Cost 0.0002965901079918965\n",
      "Standard Logistic Regression: Iter 8870, Cost 0.00029627538794594943\n",
      "Standard Logistic Regression: Iter 8880, Cost 0.00029596135293750726\n",
      "Standard Logistic Regression: Iter 8890, Cost 0.0002956480007098651\n",
      "Standard Logistic Regression: Iter 8900, Cost 0.00029533532901640546\n",
      "Standard Logistic Regression: Iter 8910, Cost 0.0002950233356203227\n",
      "Standard Logistic Regression: Iter 8920, Cost 0.0002947120182947307\n",
      "Standard Logistic Regression: Iter 8930, Cost 0.0002944013748224576\n",
      "Standard Logistic Regression: Iter 8940, Cost 0.00029409140299612016\n",
      "Standard Logistic Regression: Iter 8950, Cost 0.00029378210061795144\n",
      "Standard Logistic Regression: Iter 8960, Cost 0.000293473465499906\n",
      "Standard Logistic Regression: Iter 8970, Cost 0.00029316549546346254\n",
      "Standard Logistic Regression: Iter 8980, Cost 0.0002928581883395789\n",
      "Standard Logistic Regression: Iter 8990, Cost 0.00029255154196879504\n",
      "Standard Logistic Regression: Iter 9000, Cost 0.0002922455542009572\n",
      "Standard Logistic Regression: Iter 9010, Cost 0.0002919402228953462\n",
      "Standard Logistic Regression: Iter 9020, Cost 0.0002916355459205569\n",
      "Standard Logistic Regression: Iter 9030, Cost 0.00029133152115440965\n",
      "Standard Logistic Regression: Iter 9040, Cost 0.00029102814648400524\n",
      "Standard Logistic Regression: Iter 9050, Cost 0.00029072541980552214\n",
      "Standard Logistic Regression: Iter 9060, Cost 0.00029042333902433556\n",
      "Standard Logistic Regression: Iter 9070, Cost 0.0002901219020548312\n",
      "Standard Logistic Regression: Iter 9080, Cost 0.0002898211068204409\n",
      "Standard Logistic Regression: Iter 9090, Cost 0.0002895209512535704\n",
      "Standard Logistic Regression: Iter 9100, Cost 0.0002892214332955324\n",
      "Standard Logistic Regression: Iter 9110, Cost 0.00028892255089648224\n",
      "Standard Logistic Regression: Iter 9120, Cost 0.00028862430201545135\n",
      "Standard Logistic Regression: Iter 9130, Cost 0.00028832668462023815\n",
      "Standard Logistic Regression: Iter 9140, Cost 0.0002880296966873113\n",
      "Standard Logistic Regression: Iter 9150, Cost 0.000287733336201906\n",
      "Standard Logistic Regression: Iter 9160, Cost 0.0002874376011578188\n",
      "Standard Logistic Regression: Iter 9170, Cost 0.0002871424895574931\n",
      "Standard Logistic Regression: Iter 9180, Cost 0.00028684799941186616\n",
      "Standard Logistic Regression: Iter 9190, Cost 0.0002865541287404106\n",
      "Standard Logistic Regression: Iter 9200, Cost 0.00028626087557102046\n",
      "Standard Logistic Regression: Iter 9210, Cost 0.0002859682379400276\n",
      "Standard Logistic Regression: Iter 9220, Cost 0.0002856762138920733\n",
      "Standard Logistic Regression: Iter 9230, Cost 0.00028538480148017527\n",
      "Standard Logistic Regression: Iter 9240, Cost 0.00028509399876559946\n",
      "Standard Logistic Regression: Iter 9250, Cost 0.0002848038038178429\n",
      "Standard Logistic Regression: Iter 9260, Cost 0.00028451421471456436\n",
      "Standard Logistic Regression: Iter 9270, Cost 0.00028422522954157307\n",
      "Standard Logistic Regression: Iter 9280, Cost 0.00028393684639280603\n",
      "Standard Logistic Regression: Iter 9290, Cost 0.0002836490633702307\n",
      "Standard Logistic Regression: Iter 9300, Cost 0.0002833618785838198\n",
      "Standard Logistic Regression: Iter 9310, Cost 0.0002830752901515456\n",
      "Standard Logistic Regression: Iter 9320, Cost 0.0002827892961992521\n",
      "Standard Logistic Regression: Iter 9330, Cost 0.0002825038948607431\n",
      "Standard Logistic Regression: Iter 9340, Cost 0.0002822190842776048\n",
      "Standard Logistic Regression: Iter 9350, Cost 0.00028193486259926666\n",
      "Standard Logistic Regression: Iter 9360, Cost 0.0002816512279829009\n",
      "Standard Logistic Regression: Iter 9370, Cost 0.00028136817859338937\n",
      "Standard Logistic Regression: Iter 9380, Cost 0.00028108571260331466\n",
      "Standard Logistic Regression: Iter 9390, Cost 0.0002808038281929295\n",
      "Standard Logistic Regression: Iter 9400, Cost 0.0002805225235500037\n",
      "Standard Logistic Regression: Iter 9410, Cost 0.0002802417968699577\n",
      "Standard Logistic Regression: Iter 9420, Cost 0.0002799616463556644\n",
      "Standard Logistic Regression: Iter 9430, Cost 0.0002796820702175193\n",
      "Standard Logistic Regression: Iter 9440, Cost 0.00027940306667335353\n",
      "Standard Logistic Regression: Iter 9450, Cost 0.00027912463394838387\n",
      "Standard Logistic Regression: Iter 9460, Cost 0.0002788467702752098\n",
      "Standard Logistic Regression: Iter 9470, Cost 0.0002785694738937496\n",
      "Standard Logistic Regression: Iter 9480, Cost 0.0002782927430512149\n",
      "Standard Logistic Regression: Iter 9490, Cost 0.0002780165760020939\n",
      "Standard Logistic Regression: Iter 9500, Cost 0.00027774097100802356\n",
      "Standard Logistic Regression: Iter 9510, Cost 0.000277465926337881\n",
      "Standard Logistic Regression: Iter 9520, Cost 0.0002771914402676553\n",
      "Standard Logistic Regression: Iter 9530, Cost 0.00027691751108043124\n",
      "Standard Logistic Regression: Iter 9540, Cost 0.00027664413706639956\n",
      "Standard Logistic Regression: Iter 9550, Cost 0.00027637131652272413\n",
      "Standard Logistic Regression: Iter 9560, Cost 0.00027609904775359115\n",
      "Standard Logistic Regression: Iter 9570, Cost 0.0002758273290701621\n",
      "Standard Logistic Regression: Iter 9580, Cost 0.0002755561587904569\n",
      "Standard Logistic Regression: Iter 9590, Cost 0.00027528553523946197\n",
      "Standard Logistic Regression: Iter 9600, Cost 0.00027501545674896627\n",
      "Standard Logistic Regression: Iter 9610, Cost 0.0002747459216575583\n",
      "Standard Logistic Regression: Iter 9620, Cost 0.00027447692831067584\n",
      "Standard Logistic Regression: Iter 9630, Cost 0.0002742084750604395\n",
      "Standard Logistic Regression: Iter 9640, Cost 0.00027394056026570197\n",
      "Standard Logistic Regression: Iter 9650, Cost 0.0002736731822919761\n",
      "Standard Logistic Regression: Iter 9660, Cost 0.00027340633951146817\n",
      "Standard Logistic Regression: Iter 9670, Cost 0.00027314003030294635\n",
      "Standard Logistic Regression: Iter 9680, Cost 0.0002728742530517305\n",
      "Standard Logistic Regression: Iter 9690, Cost 0.0002726090061497886\n",
      "Standard Logistic Regression: Iter 9700, Cost 0.0002723442879954589\n",
      "Standard Logistic Regression: Iter 9710, Cost 0.0002720800969936945\n",
      "Standard Logistic Regression: Iter 9720, Cost 0.0002718164315557683\n",
      "Standard Logistic Regression: Iter 9730, Cost 0.00027155329009945916\n",
      "Standard Logistic Regression: Iter 9740, Cost 0.0002712906710488603\n",
      "Standard Logistic Regression: Iter 9750, Cost 0.0002710285728344484\n",
      "Standard Logistic Regression: Iter 9760, Cost 0.00027076699389300834\n"
     ]
    },
    {
     "name": "stdout",
     "output_type": "stream",
     "text": [
      "Standard Logistic Regression: Iter 9770, Cost 0.0002705059326675582\n",
      "Standard Logistic Regression: Iter 9780, Cost 0.00027024538760745184\n",
      "Standard Logistic Regression: Iter 9790, Cost 0.0002699853571682122\n",
      "Standard Logistic Regression: Iter 9800, Cost 0.000269725839811531\n",
      "Standard Logistic Regression: Iter 9810, Cost 0.00026946683400532975\n",
      "Standard Logistic Regression: Iter 9820, Cost 0.0002692083382235486\n",
      "Standard Logistic Regression: Iter 9830, Cost 0.0002689503509463238\n",
      "Standard Logistic Regression: Iter 9840, Cost 0.00026869287065980164\n",
      "Standard Logistic Regression: Iter 9850, Cost 0.00026843589585618803\n",
      "Standard Logistic Regression: Iter 9860, Cost 0.00026817942503369054\n",
      "Standard Logistic Regression: Iter 9870, Cost 0.00026792345669645365\n",
      "Standard Logistic Regression: Iter 9880, Cost 0.0002676679893546065\n",
      "Standard Logistic Regression: Iter 9890, Cost 0.00026741302152419577\n",
      "Standard Logistic Regression: Iter 9900, Cost 0.00026715855172714377\n",
      "Standard Logistic Regression: Iter 9910, Cost 0.000266904578491182\n",
      "Standard Logistic Regression: Iter 9920, Cost 0.00026665110034995905\n",
      "Standard Logistic Regression: Iter 9930, Cost 0.00026639811584287104\n",
      "Standard Logistic Regression: Iter 9940, Cost 0.0002661456235150674\n",
      "Standard Logistic Regression: Iter 9950, Cost 0.00026589362191745835\n",
      "Standard Logistic Regression: Iter 9960, Cost 0.00026564210960669884\n",
      "Standard Logistic Regression: Iter 9970, Cost 0.00026539108514510485\n",
      "Standard Logistic Regression: Iter 9980, Cost 0.0002651405471005836\n",
      "Standard Logistic Regression: Iter 9990, Cost 0.00026489049404676416\n",
      "Standard Logistic Regression: Iter 9999, Cost 0.00026466585979097716\n"
     ]
    },
    {
     "data": {
      "image/png": "[encoded data removed]",
      "text/plain": [
       "<Figure size 432x288 with 1 Axes>"
      ]
     },
     "metadata": {
      "needs_background": "light"
     },
     "output_type": "display_data"
    }
   ],
   "source": [
    "my_blr.fit(X, y)\n",
    "print_decision(X, my_blr, \"Output of MyBinaryLogisticRegression\")"
   ]
  },
  {
   "cell_type": "markdown",
   "metadata": {},
   "source": [
    "## 4. Kernel SVM"
   ]
  },
  {
   "cell_type": "markdown",
   "metadata": {},
   "source": [
    "In this section, let $\\mathcal{D} = \\{(\\mathbf{x}_i \\in \\mathbb{R}^d, y_i \\in \\{-1, 1\\})\\}_{i=1}^n$ be our training dataset. The samples are **i.i.d**."
   ]
  },
  {
   "cell_type": "markdown",
   "metadata": {},
   "source": [
    "In the previous sections:\n",
    "- we have seen that we can find a linear classifier that can separate our datasets,\n",
    "- We added in the SVM section a term that allows us to maximize the margin so as to have robust models."
   ]
  },
  {
   "cell_type": "markdown",
   "metadata": {},
   "source": [
    "All these models assumes that the data is actually **linearly separable**. However, in practice the data are generaly not linearly separable.\n",
    "> Question: **How to adapt our models to handle non-linearly separable datasets?**"
   ]
  },
  {
   "cell_type": "markdown",
   "metadata": {},
   "source": [
    "The main technique is to transform the data, using a mapping $\\Phi$, from the input space to some (high-dimensional) **feature space**. See the figure below for more detail."
   ]
  },
  {
   "cell_type": "markdown",
   "metadata": {},
   "source": [
    "<img src=\"images/kernel_trick_1.png\">"
   ]
  },
  {
   "cell_type": "markdown",
   "metadata": {},
   "source": [
    "### 4.1 Formulation"
   ]
  },
  {
   "cell_type": "markdown",
   "metadata": {},
   "source": [
    "#### 4.1.2 Introducing the kernels"
   ]
  },
  {
   "cell_type": "markdown",
   "metadata": {},
   "source": [
    "In the context of  SVMs, the mapping is obtained using **kernels**."
   ]
  },
  {
   "cell_type": "markdown",
   "metadata": {},
   "source": [
    "> Recall that the Dual optimization problem of the Soft SVM is given by \n",
    "$$\n",
    "\\begin{equation}\n",
    "    \\begin{split}\n",
    "        \\underset{\\alpha}{\\text{maximize }} & \\sum_{i=1}^n \\alpha_i    - \\frac{1}{2} \\sum_{i=1, j=1}^n \\alpha_i \\alpha_j y_i y_j \\langle \\mathbf{x}_i, \\mathbf{x}_j \\rangle\\\\\n",
    "        & \\text{s.t. } \\quad \\sum_{i=1}^n \\alpha_i y_i = 0  \\quad \\forall i \\in \\{1, \\cdots, n\\}\\\\\n",
    "        & \\quad \\quad 0 \\le \\alpha_i \\le C \\quad \\forall i \\in \\{1, \\cdots, n\\}\n",
    "    \\end{split}\n",
    "\\end{equation}\n",
    "$$"
   ]
  },
  {
   "cell_type": "markdown",
   "metadata": {},
   "source": [
    "To use our transformation trick, we only need to change our dot product between the samples, that is:\n",
    "> We replace $\\langle \\mathbf{x}_i, \\mathbf{x}_j \\rangle$ by $\\langle \\Phi(\\mathbf{x}_i), \\Phi(\\mathbf{x}_j )\\rangle, \\ \\forall i,j \\in \\{1, \\cdots, n\\}.$"
   ]
  },
  {
   "cell_type": "markdown",
   "metadata": {},
   "source": [
    "> We define the kernel function $k$ as\n",
    "$$\n",
    "    (\\mathbf{x}, \\mathbf{x}') \\mapsto k(\\mathbf{x}, \\mathbf{x}') =  \\langle \\Phi(\\mathbf{x}), \\Phi(\\mathbf{x}' )\\rangle.\n",
    "$$"
   ]
  },
  {
   "cell_type": "markdown",
   "metadata": {},
   "source": [
    "> We can update our previous Dual to obtain the Kernelized Soft SVM  problem \n",
    "$$\n",
    "\\begin{equation}\n",
    "    \\begin{split}\n",
    "        \\underset{\\alpha}{\\text{maximize }} & \\sum_{i=1}^n \\alpha_i  - \\frac{1}{2} \\sum_{i=1, j=1}^n \\alpha_i \\alpha_j y_i y_j   k(\\mathbf{x}_i, \\mathbf{x}_j)  \\\\\n",
    "        & \\text{s.t. } \\quad \\sum_{i=1}^n \\alpha_i y_i = 0  \\quad \\forall i \\in \\{1, \\cdots, n\\}\\\\\n",
    "        & \\quad \\quad 0 \\le \\alpha_i \\le C \\quad \\forall i \\in \\{1, \\cdots, n\\}\n",
    "    \\end{split}\n",
    "\\end{equation}\n",
    "$$"
   ]
  },
  {
   "cell_type": "markdown",
   "metadata": {},
   "source": [
    "Consequently our kernelized prediction functio is of the form\n",
    "$$\n",
    "f(\\mathbf{x}; \\theta = \\{\\mathbf{w}, b\\} ) = sign(\\langle \\mathbf{x}, \\mathbf{w} \\rangle + b) = sign( \\sum_{i=1}^n \\alpha_i y_i k(\\mathbf{x}, \\mathbf{x}_i) + b),\n",
    "$$\n",
    "where we replaced $\\mathbf{w}$ by its obtained value $\\sum_{i=1}^n \\alpha_i y_i \\mathbf{x}_i$."
   ]
  },
  {
   "cell_type": "markdown",
   "metadata": {},
   "source": [
    "The class of query $\\mathbf{x}$ is obtain by computing a **similarity** (given by the kernel) between $\\mathbf{x}$ and the labeled training samples $\\mathbf{x}_i$.\n",
    "> Recall that only the $\\alpha_i$'s associated to the support vectors are not null."
   ]
  },
  {
   "cell_type": "markdown",
   "metadata": {},
   "source": [
    "#### 4.1.2 Mercer's Theorem and importance"
   ]
  },
  {
   "cell_type": "markdown",
   "metadata": {},
   "source": [
    "> **Valid kernels** Let $k: \\mathbb{R}^d \\times \\mathbb{R}^d \\to \\mathbb{R}$. The Mercer's theorem states that for $k$ to be a *valid (Mercer) kernel* (*i.e.* there exists $\\Phi$ such that $k(\\mathbf{x}, \\mathbf{x}') = \\langle \\Phi(\\mathbf{x}), \\Phi(\\mathbf{x}') \\rangle$) it is necessary and sufficient that its corresponding matrix is symetric positive semi-definite, for any $\\{\\mathbf{x}_i\\}_{i=1}^n (n < \\infty ).$"
   ]
  },
  {
   "cell_type": "markdown",
   "metadata": {},
   "source": [
    "Therefore, we no longer need to find the explicit representation $\\Phi$ of a kernel $k$ to assess its validity. We only need to verify that a matrix is symetric positive semi-definite."
   ]
  },
  {
   "cell_type": "markdown",
   "metadata": {},
   "source": [
    "#### 4.1.3 Example of kernels"
   ]
  },
  {
   "cell_type": "markdown",
   "metadata": {},
   "source": [
    "- The linear kernel: \n",
    "$$(\\mathbf{x}, \\mathbf{x}') \\mapsto k(\\mathbf{x}, \\mathbf{x}') = \\langle \\mathbf{x}, \\mathbf{x}' \\rangle, $$\n",
    "- The polynomial kernel (parameterized by the degree $p$ and constance $c$): \n",
    "$$(\\mathbf{x}, \\mathbf{x}') \\mapsto k(\\mathbf{x}, \\mathbf{x}') = (c + \\langle \\mathbf{x}, \\mathbf{x}' \\rangle)^p, $$\n",
    "- The Gaussian kernel (*a.k.a* the radial basis function, RBF) (parameterized by the standard deviation $\\sigma$): \n",
    "$$(\\mathbf{x}, \\mathbf{x}') \\mapsto k(\\mathbf{x}, \\mathbf{x}') = \\exp(-\\frac{\\| \\mathbf{x} - \\mathbf{x}' \\|_2^2}{2\\sigma^2}). $$"
   ]
  },
  {
   "cell_type": "markdown",
   "metadata": {},
   "source": [
    "### 4.2 Polynomial Kernel and Interpretation"
   ]
  },
  {
   "cell_type": "markdown",
   "metadata": {},
   "source": [
    "Let's consider the polynomial kernel with a constant $c=1$: *i.e*\n",
    "$k(\\mathbf{x}, \\mathbf{x}') = (1 + \\langle \\mathbf{x}, \\mathbf{x}' \\rangle)^p.$"
   ]
  },
  {
   "cell_type": "markdown",
   "metadata": {},
   "source": [
    "We will now try to retrieve the expression of the transformation $\\Phi$ associated to the polynomial kernel $k$."
   ]
  },
  {
   "cell_type": "markdown",
   "metadata": {},
   "source": [
    "First we will add a $1$ in the first dimension of the inputs, so as to have $k(\\mathbf{x}, \\mathbf{x}') = (\\langle \\mathbf{x}, \\mathbf{x}' \\rangle)^p,$ with $\\mathbf{x} = [1, x_1, \\cdots, x_d]$."
   ]
  },
  {
   "cell_type": "markdown",
   "metadata": {},
   "source": [
    ">$$\n",
    "\\begin{equation}\n",
    "    \\begin{split}\n",
    "        k(\\mathbf{x}, \\mathbf{x}') &=  (\\langle \\mathbf{x}, \\mathbf{x}' \\rangle)^p \\\\\n",
    "        &= \\big(\\langle \\mathbf{x}, \\mathbf{x}' \\rangle \\big) \\cdots \\big(\\langle \\mathbf{x}, \\mathbf{x}' \\rangle\\big) \\\\\n",
    "        &= \\big(\\sum_{k_1=0}^d \\mathbf{x}[k_1] \\mathbf{x}'[k_1] \\big) \\cdots \\big(\\sum_{k_p=0}^d \\mathbf{x}[k_p] \\mathbf{x}'[k_p] \\big) \\\\\n",
    "        &= \\sum_{\\{k_1, \\cdots, k_p\\} \\in \\{0, \\cdots, d\\}^p} \\big(\\Pi_{i=1}^p \\mathbf{x}[k_i] \\mathbf{x}'[k_i] \\big),\\\\\n",
    "        &= \\sum_{\\vec{k} = \\{k_1, \\cdots, k_p\\} \\in \\{0, \\cdots, d\\}^p} \\big(\\Pi_{i=1}^p \\mathbf{x}[k_i]  \\big) \\big( \\Pi_{i=1}^p \\mathbf{x}'[k_i] \\big),\\\\\n",
    "        &= \\sum_{ \\vec{k} \\in \\{0, \\cdots, d\\}^p} \\phi_{\\vec{k}} (\\mathbf{x}) \\phi_{\\vec{k}} (\\mathbf{x}'),\\\\\n",
    "        &= \\langle \\Phi(\\mathbf{x}), \\Phi(\\mathbf{x}') \\rangle ,\n",
    "    \\end{split}\n",
    "\\end{equation}\n",
    "$$\n",
    " where $\\Phi(\\mathbf{x}) = \\{\\phi_{\\vec{k}} (\\mathbf{x} )\\}_{ \\vec{k} \\in \\{0, \\cdots, d\\}^p}$.\n",
    "\n",
    "- Notice that $\\text{dim}(\\Phi) = (d+1)^p$,\n",
    "- $\\Phi(\\mathbf{x})$ is a vector containing all monomial of degree (maximum) $p$."
   ]
  },
  {
   "cell_type": "markdown",
   "metadata": {},
   "source": [
    "### 4.3 Gaussian Kernel (Radial Basis Functions, RBF) and Interpretation"
   ]
  },
  {
   "cell_type": "markdown",
   "metadata": {},
   "source": [
    "In practice the polynomial kernel is very powerful, however, not all dataset can be separate with a polynomial curve. \n",
    "- **We need more complex separation curves.** (See the illustration below)"
   ]
  },
  {
   "cell_type": "markdown",
   "metadata": {},
   "source": [
    "<img src=\"images/kernel_trick_2bis.png\" width=\"70%\" >"
   ]
  },
  {
   "cell_type": "markdown",
   "metadata": {},
   "source": [
    "Let's consider now the Gaussian Kernel (also known as radial basis functions, RBF): \n",
    "*i.e.* $k(\\mathbf{x}, \\mathbf{x}') = \\exp(-\\frac{\\| \\mathbf{x} - \\mathbf{x}' \\|_2^2}{2\\sigma^2}).$"
   ]
  },
  {
   "cell_type": "markdown",
   "metadata": {},
   "source": [
    "Notice that if $\\frac{\\| \\mathbf{x} - \\mathbf{x}' \\|_2}{\\sigma} \\gg 1 $ then $k( \\mathbf{x}, \\mathbf{x}) \\approx  0$,\n",
    "- Meaning, the points are $\\ell_2$-far away from each other do not interact.\n",
    "\n",
    "Whereas, if $\\frac{\\| \\mathbf{x} - \\mathbf{x}' \\|_2}{\\sigma} \\ll 1$ then $k( \\mathbf{x}, \\mathbf{x}) \\approx 1 - \\frac{\\| \\mathbf{x} - \\mathbf{x}' \\|_2^2}{2\\sigma^2} $ (the first two terms of the Taylor series of $\\exp$),\n",
    "- In other words,  when the samples are very close, the Gaussian kernel behaves like a $\\ell_2$-norm.\n",
    "- Therefore, if we consider a $d$-dimensional ball of radius $\\sigma$, the Gaussian kernel act like a linear separator in that ball. "
   ]
  },
  {
   "cell_type": "markdown",
   "metadata": {},
   "source": [
    "We have seen that for points that are close, the Gaussian kernel behaves like a $\\ell_2$-norm"
   ]
  },
  {
   "cell_type": "markdown",
   "metadata": {},
   "source": [
    "<img src=\"images/kernel_trick_2.png\">"
   ]
  },
  {
   "cell_type": "markdown",
   "metadata": {},
   "source": [
    "### 4.4 Existance of the transformation $\\Phi$"
   ]
  },
  {
   "cell_type": "markdown",
   "metadata": {},
   "source": [
    "We have seen that using certain type of transformation, which can be implicitly obtained from a kernel function, we can **linearize** the problem and find a hyperplane that can separate the data, even for very complex data."
   ]
  },
  {
   "cell_type": "markdown",
   "metadata": {},
   "source": [
    "> **Question**: **Can we always find a $\\Phi$ that can linearize the our problem?**"
   ]
  },
  {
   "cell_type": "markdown",
   "metadata": {},
   "source": [
    "> **Answer**: **Yes**, if the samples $\\{\\mathbf{x}_i\\}_{i=1}^n$ are **linearly independent**.\n",
    "\n",
    "> And, we need $\\dim(\\Phi) \\ge n$ to have a guarantee that the linearization is possible. However, taking a such large dimensional transformation is not a good thing to do, cause we will end up with a very high variance in our estimator (see the bias-variance and estimation theory for more details about this concept). "
   ]
  },
  {
   "cell_type": "markdown",
   "metadata": {},
   "source": [
    "### 4.4 Example 1 (using randomly generated non-linearly seperable dataset)"
   ]
  },
  {
   "cell_type": "code",
   "execution_count": 33,
   "metadata": {},
   "outputs": [
    {
     "data": {
      "text/plain": [
       "<matplotlib.collections.PathCollection at 0x1ff2b459988>"
      ]
     },
     "execution_count": 33,
     "metadata": {},
     "output_type": "execute_result"
    },
    {
     "data": {
      "image/png": "[encoded data removed]",
      "text/plain": [
       "<Figure size 432x288 with 1 Axes>"
      ]
     },
     "metadata": {
      "needs_background": "light"
     },
     "output_type": "display_data"
    }
   ],
   "source": [
    "import numpy as np\n",
    "import matplotlib.pyplot as plt \n",
    "from sklearn.datasets import make_circles\n",
    "X, y = make_circles(100, factor=.4, noise=.1)\n",
    "\n",
    "plt.figure()\n",
    "plt.scatter(X[:, 0], X[:, 1], c=y, edgecolors='black', s=25) "
   ]
  },
  {
   "cell_type": "code",
   "execution_count": 34,
   "metadata": {},
   "outputs": [
    {
     "data": {
      "image/png": "[encoded data removed]",
      "text/plain": [
       "<Figure size 432x288 with 1 Axes>"
      ]
     },
     "metadata": {
      "needs_background": "light"
     },
     "output_type": "display_data"
    }
   ],
   "source": [
    "kernel_svm_clf = svm.SVC(kernel='linear', C=100)\n",
    "kernel_svm_clf.fit(X, y)\n",
    "print_decision(X, kernel_svm_clf, \"Output of linear-SVC\")"
   ]
  },
  {
   "cell_type": "code",
   "execution_count": 35,
   "metadata": {
    "scrolled": true
   },
   "outputs": [
    {
     "data": {
      "image/png": "[encoded data removed]",
      "text/plain": [
       "<Figure size 432x288 with 1 Axes>"
      ]
     },
     "metadata": {
      "needs_background": "light"
     },
     "output_type": "display_data"
    }
   ],
   "source": [
    "kernel_svm_clf = svm.SVC(kernel='poly', C=100)\n",
    "kernel_svm_clf.fit(X, y)\n",
    "print_decision(X, kernel_svm_clf, \"Output of the polynomial-SVC\")"
   ]
  },
  {
   "cell_type": "code",
   "execution_count": 36,
   "metadata": {},
   "outputs": [
    {
     "data": {
      "image/png": "[encoded data removed]",
      "text/plain": [
       "<Figure size 432x288 with 1 Axes>"
      ]
     },
     "metadata": {
      "needs_background": "light"
     },
     "output_type": "display_data"
    }
   ],
   "source": [
    "kernel_svm_clf = svm.SVC(kernel='rbf', C=100)\n",
    "kernel_svm_clf.fit(X, y)\n",
    "print_decision(X, kernel_svm_clf, \"Output of the Gaussian-SVC\")"
   ]
  },
  {
   "cell_type": "markdown",
   "metadata": {},
   "source": [
    "## 5. Decision Trees and Random Forests"
   ]
  },
  {
   "cell_type": "markdown",
   "metadata": {},
   "source": [
    "## 6. Clustering (K-Means)"
   ]
  },
  {
   "cell_type": "code",
   "execution_count": null,
   "metadata": {},
   "outputs": [],
   "source": []
  }
 ],
 "metadata": {
  "kernelspec": {
   "display_name": "Python 3",
   "language": "python",
   "name": "python3"
  },
  "language_info": {
   "codemirror_mode": {
    "name": "ipython",
    "version": 3
   },
   "file_extension": ".py",
   "mimetype": "text/x-python",
   "name": "python",
   "nbconvert_exporter": "python",
   "pygments_lexer": "ipython3",
   "version": "3.7.6"
  }
 },
 "nbformat": 4,
 "nbformat_minor": 2
}
