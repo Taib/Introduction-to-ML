{
 "cells": [
  {
   "cell_type": "markdown",
   "metadata": {},
   "source": [
    "# Convolutional neural networks"
   ]
  },
  {
   "cell_type": "markdown",
   "metadata": {},
   "source": [
    "## 1. Useful links"
   ]
  },
  {
   "cell_type": "markdown",
   "metadata": {},
   "source": [
    "- [Convolutional arithmetics](http://deeplearning.net/software/theano_versions/dev/tutorial/conv_arithmetic.html)\n",
    "- [Stanford's CS231n CNN Tutorial](http://cs231n.github.io/convolutional-networks/)\n",
    "- [Deep learning book](http://deeplearningbook.org/)\n",
    "- [Tensorflow/Keras tutorial](https://www.tensorflow.org/guide/keras)\n",
    "- [Hvass Tensorflow tutorias](https://github.com/Hvass-Labs/TensorFlow-Tutorials)\n",
    "- [Neural network zoo](http://www.asimovinstitute.org/neural-network-zoo/)"
   ]
  },
  {
   "cell_type": "markdown",
   "metadata": {},
   "source": [
    "## 2. Examples"
   ]
  },
  {
   "cell_type": "markdown",
   "metadata": {},
   "source": [
    "### 2.1 Cifar10 - Object classification "
   ]
  },
  {
   "cell_type": "markdown",
   "metadata": {},
   "source": [
    "#### Imports"
   ]
  },
  {
   "cell_type": "code",
   "execution_count": null,
   "metadata": {
    "scrolled": false
   },
   "outputs": [],
   "source": [
    "import os\n",
    "import tensorflow as tf # importing the entire tensorflow library\n",
    "from tensorflow import keras # importing only the keras module of tensorflow\n",
    "import numpy as np # the numeric python library"
   ]
  },
  {
   "cell_type": "code",
   "execution_count": null,
   "metadata": {},
   "outputs": [],
   "source": [
    "import pylab # useful for plots (images, graphs, etc.)\n",
    "%pylab inline\n",
    "%load_ext tensorboard # useful for plottings neural networks and monitoring the training"
   ]
  },
  {
   "cell_type": "markdown",
   "metadata": {},
   "source": [
    "#### Loading the Cifar-10 dataset\n",
    "1. The dataset is available in the Keras module and already splitted (train and test)\n",
    "2. We normalize the training images."
   ]
  },
  {
   "cell_type": "code",
   "execution_count": null,
   "metadata": {},
   "outputs": [],
   "source": [
    "cifar10 = keras.datasets.cifar10\n",
    "data_cifar = cifar10.load_data() # Loading/downloading the images"
   ]
  },
  {
   "cell_type": "code",
   "execution_count": null,
   "metadata": {},
   "outputs": [],
   "source": [
    "(x_train, y_train),(x_test, y_test) = data_cifar # accessing the splits\n",
    "\n",
    "# Normalization\n",
    "x_train, x_test = x_train / 255.0, x_test / 255.0\n",
    "x_train =  (x_train - x_train.mean(0))/x_train.std(0)"
   ]
  },
  {
   "cell_type": "markdown",
   "metadata": {},
   "source": [
    "#### Plotting some samples"
   ]
  },
  {
   "cell_type": "code",
   "execution_count": null,
   "metadata": {},
   "outputs": [],
   "source": [
    "fig = plt.figure(figsize=(7,7))\n",
    "for i in range(1, 17):\n",
    "    plt.subplot(4, 4, i)\n",
    "    plt.imshow(x_train[i], cmap=plt.cm.gray, interpolation='bilinear')\n",
    "    plt.title(\"True label: \" + str(y_train[i]))\n",
    "    plt.xticks(())\n",
    "    plt.yticks(())"
   ]
  },
  {
   "cell_type": "markdown",
   "metadata": {},
   "source": [
    "#### Building the CNN\n",
    "1. Conv layers\n",
    "2. MaxPool layers\n",
    "3. Flattening layer\n",
    "4. Dense layers"
   ]
  },
  {
   "cell_type": "code",
   "execution_count": null,
   "metadata": {},
   "outputs": [],
   "source": [
    "model = keras.models.Sequential([\n",
    "  keras.layers.Conv2D(10, (3,3), activation='relu', input_shape=(32, 32, 3)),\n",
    "  keras.layers.MaxPooling2D(2,2),\n",
    "  keras.layers.Conv2D(20, (3,3), activation='relu'),\n",
    "  keras.layers.MaxPooling2D(2,2),\n",
    "  keras.layers.Conv2D(30, (3,3), activation='relu'),\n",
    "  keras.layers.Flatten(),\n",
    "  keras.layers.Dense(100, activation='relu'),\n",
    "  keras.layers.Dense(10, activation='softmax')\n",
    "])\n",
    "model.summary()"
   ]
  },
  {
   "cell_type": "markdown",
   "metadata": {},
   "source": [
    "#### Optimization algorithm and model compilation"
   ]
  },
  {
   "cell_type": "code",
   "execution_count": null,
   "metadata": {},
   "outputs": [],
   "source": [
    "optim = keras.optimizers.Adam()\n",
    "model.compile(optimizer=optim,\n",
    "              loss='sparse_categorical_crossentropy',\n",
    "              metrics=['accuracy'])"
   ]
  },
  {
   "cell_type": "markdown",
   "metadata": {},
   "source": [
    "#### Training"
   ]
  },
  {
   "cell_type": "code",
   "execution_count": null,
   "metadata": {},
   "outputs": [],
   "source": [
    "# define a folder to store the training data for monitoring\n",
    "logdir = os.path.join(\"logs\", datetime.datetime.now().strftime(\"%Y%m%d-%H%M%S\"))\n",
    "# give the previous folder to Tensorboard \n",
    "tensorboard_callback = tf.keras.callbacks.TensorBoard(logdir, histogram_freq=1)\n",
    "\n",
    "# Fit/Train the model\n",
    "model.fit(\n",
    "    x_train, \n",
    "    y_train, \n",
    "    epochs=3, # number of iterations\n",
    "    callbacks=[tensorboard_callback] # functions to call after each iteration (e.g. to compute the stats)\n",
    ")"
   ]
  },
  {
   "cell_type": "markdown",
   "metadata": {},
   "source": [
    "#### Testing\n",
    "1. Normalize the test data\n",
    "2. Plotting some output"
   ]
  },
  {
   "cell_type": "code",
   "execution_count": null,
   "metadata": {},
   "outputs": [],
   "source": [
    "x_test = (x_test - x_train.mean(0))/x_train.std(0) "
   ]
  },
  {
   "cell_type": "code",
   "execution_count": null,
   "metadata": {},
   "outputs": [],
   "source": [
    "names = ['airplane', 'automobile', 'bird', 'cat', 'deer', 'dog', 'frog', 'horse', 'ship', 'truck']\n",
    "\n",
    "fig = plt.figure(figsize=(15,15))\n",
    "for i in range(1, 17):\n",
    "    plt.subplot(4, 4, i)\n",
    "    plt.imshow(x_test[i], cmap=plt.cm.gray, interpolation='bilinear')\n",
    "    pred = model.predict(x_test[i:i+1])\n",
    "    idx = np.argmax(pred)\n",
    "    plt.title('True: {}; Pred: {}'.format(names[y_test[i][0]], names[idx]))\n",
    "    plt.xticks(())\n",
    "    plt.yticks(())"
   ]
  },
  {
   "cell_type": "code",
   "execution_count": null,
   "metadata": {},
   "outputs": [],
   "source": [
    "%tensorboard --logdir logs"
   ]
  },
  {
   "cell_type": "code",
   "execution_count": null,
   "metadata": {},
   "outputs": [],
   "source": []
  }
 ],
 "metadata": {
  "kernelspec": {
   "display_name": "Python 3",
   "language": "python",
   "name": "python3"
  },
  "language_info": {
   "codemirror_mode": {
    "name": "ipython",
    "version": 3
   },
   "file_extension": ".py",
   "mimetype": "text/x-python",
   "name": "python",
   "nbconvert_exporter": "python",
   "pygments_lexer": "ipython3",
   "version": "3.6.9"
  }
 },
 "nbformat": 4,
 "nbformat_minor": 1
}
